{
  "cells": [
    {
      "cell_type": "markdown",
      "source": [
        "# Automated ML\n",
        "\n",
        "TODO: Import Dependencies. In the cell below, import all the dependencies that you will need to complete the project."
      ],
      "metadata": {}
    },
    {
      "cell_type": "code",
      "source": [
        "from azureml.train.automl import AutoMLConfig\r\n",
        "from azureml.core.compute import ComputeTarget, AmlCompute\r\n",
        "from azureml.core.experiment import Experiment\r\n",
        "from azureml.core.workspace import Workspace\r\n",
        "from azureml.automl.core.featurization import FeaturizationConfig\r\n",
        "from azureml.data.dataset_factory import TabularDatasetFactory\r\n",
        "from azureml.core.dataset import Dataset\r\n",
        "import logging\r\n",
        "import pandas as pd\r\n",
        "import joblib\r\n",
        "from sklearn.model_selection import train_test_split\r\n",
        "import os\r\n",
        "import azureml.core\r\n",
        "from azureml.core.compute_target import ComputeTargetException\r\n",
        "from azureml.widgets import RunDetails\r\n",
        "from azureml.core.model import Model\r\n"
      ],
      "outputs": [],
      "execution_count": 7,
      "metadata": {
        "gather": {
          "logged": 1611667560436
        },
        "jupyter": {
          "outputs_hidden": false,
          "source_hidden": false
        },
        "nteract": {
          "transient": {
            "deleting": false
          }
        }
      }
    },
    {
      "cell_type": "markdown",
      "source": [
        "## Dataset\n",
        "\n",
        "### Overview\n",
        "TODO: In this markdown cell, give an overview of the dataset you are using. Also mention the task you will be performing.\n",
        "\n",
        "\n",
        "TODO: Get data. In the cell below, write code to access the data you will be using in this project. Remember that the dataset needs to be external."
      ],
      "metadata": {}
    },
    {
      "cell_type": "code",
      "source": [
        "ws = Workspace.from_config()\n",
        "\n",
        "# choose a name for experiment\n",
        "experiment_name = 'insurance'\n",
        "\n",
        "experiment=Experiment(ws, experiment_name)\n",
        "\n",
        "# data that will be used from this experiment was downloaded from Zindi Africa. It was designed by Data Science Nigeria\n",
        "# .. for a hackathon. In the dataset we have various features of buildings and the goal is to predict\n",
        "#.. whether a building will have an insurance claim over a given period of time\n",
        "#.. the link is here: \"https://zindi.africa/competitions/data-science-nigeria-2019-challenge-1-insurance-prediction/data\"\n",
        "data=pd.read_csv(\"train_data.csv\")\n",
        "data.head(5)"
      ],
      "outputs": [
        {
          "output_type": "execute_result",
          "execution_count": 5,
          "data": {
            "text/plain": "  Customer Id  YearOfObservation  Insured_Period  Residential  \\\n0      H14663               2013             1.0            0   \n1       H2037               2015             1.0            0   \n2       H3802               2014             1.0            0   \n3       H3834               2013             1.0            0   \n4       H5053               2014             1.0            0   \n\n  Building_Painted Building_Fenced Garden Settlement  Building Dimension  \\\n0                N               V      V          U               290.0   \n1                V               N      O          R               490.0   \n2                N               V      V          U               595.0   \n3                V               V      V          U              2840.0   \n4                V               N      O          R               680.0   \n\n   Building_Type  Date_of_Occupancy NumberOfWindows Geo_Code  Claim  \n0              1             1960.0               .     1053      0  \n1              1             1850.0               4     1053      0  \n2              1             1960.0               .     1053      0  \n3              1             1960.0               .     1053      0  \n4              1             1800.0               3     1053      0  ",
            "text/html": "<div>\n<style scoped>\n    .dataframe tbody tr th:only-of-type {\n        vertical-align: middle;\n    }\n\n    .dataframe tbody tr th {\n        vertical-align: top;\n    }\n\n    .dataframe thead th {\n        text-align: right;\n    }\n</style>\n<table border=\"1\" class=\"dataframe\">\n  <thead>\n    <tr style=\"text-align: right;\">\n      <th></th>\n      <th>Customer Id</th>\n      <th>YearOfObservation</th>\n      <th>Insured_Period</th>\n      <th>Residential</th>\n      <th>Building_Painted</th>\n      <th>Building_Fenced</th>\n      <th>Garden</th>\n      <th>Settlement</th>\n      <th>Building Dimension</th>\n      <th>Building_Type</th>\n      <th>Date_of_Occupancy</th>\n      <th>NumberOfWindows</th>\n      <th>Geo_Code</th>\n      <th>Claim</th>\n    </tr>\n  </thead>\n  <tbody>\n    <tr>\n      <th>0</th>\n      <td>H14663</td>\n      <td>2013</td>\n      <td>1.0</td>\n      <td>0</td>\n      <td>N</td>\n      <td>V</td>\n      <td>V</td>\n      <td>U</td>\n      <td>290.0</td>\n      <td>1</td>\n      <td>1960.0</td>\n      <td>.</td>\n      <td>1053</td>\n      <td>0</td>\n    </tr>\n    <tr>\n      <th>1</th>\n      <td>H2037</td>\n      <td>2015</td>\n      <td>1.0</td>\n      <td>0</td>\n      <td>V</td>\n      <td>N</td>\n      <td>O</td>\n      <td>R</td>\n      <td>490.0</td>\n      <td>1</td>\n      <td>1850.0</td>\n      <td>4</td>\n      <td>1053</td>\n      <td>0</td>\n    </tr>\n    <tr>\n      <th>2</th>\n      <td>H3802</td>\n      <td>2014</td>\n      <td>1.0</td>\n      <td>0</td>\n      <td>N</td>\n      <td>V</td>\n      <td>V</td>\n      <td>U</td>\n      <td>595.0</td>\n      <td>1</td>\n      <td>1960.0</td>\n      <td>.</td>\n      <td>1053</td>\n      <td>0</td>\n    </tr>\n    <tr>\n      <th>3</th>\n      <td>H3834</td>\n      <td>2013</td>\n      <td>1.0</td>\n      <td>0</td>\n      <td>V</td>\n      <td>V</td>\n      <td>V</td>\n      <td>U</td>\n      <td>2840.0</td>\n      <td>1</td>\n      <td>1960.0</td>\n      <td>.</td>\n      <td>1053</td>\n      <td>0</td>\n    </tr>\n    <tr>\n      <th>4</th>\n      <td>H5053</td>\n      <td>2014</td>\n      <td>1.0</td>\n      <td>0</td>\n      <td>V</td>\n      <td>N</td>\n      <td>O</td>\n      <td>R</td>\n      <td>680.0</td>\n      <td>1</td>\n      <td>1800.0</td>\n      <td>3</td>\n      <td>1053</td>\n      <td>0</td>\n    </tr>\n  </tbody>\n</table>\n</div>"
          },
          "metadata": {}
        }
      ],
      "execution_count": 5,
      "metadata": {
        "gather": {
          "logged": 1611666403990
        },
        "jupyter": {
          "outputs_hidden": false,
          "source_hidden": false
        },
        "nteract": {
          "transient": {
            "deleting": false
          }
        }
      }
    },
    {
      "cell_type": "code",
      "source": [
        "#creating compute cluster\r\n",
        "compute_cluster_name = \"ikecompute\"\r\n",
        "\r\n",
        "# Verify that cluster does not exist already\r\n",
        "try:\r\n",
        "    compute_cluster = ComputeTarget(workspace=ws, name=compute_cluster_name)\r\n",
        "    print('Found existing cluster, use it.')\r\n",
        "except ComputeTargetException:\r\n",
        "    compute_config = AmlCompute.provisioning_configuration(vm_size='STANDARD_D2_V2',\r\n",
        "                                                           max_nodes=4)\r\n",
        "    compute_cluster = ComputeTarget.create(ws, compute_cluster_name, compute_config)\r\n",
        "\r\n",
        "compute_cluster.wait_for_completion(show_output=True)"
      ],
      "outputs": [
        {
          "output_type": "stream",
          "name": "stdout",
          "text": [
            "Found existing cluster, use it.\n",
            "\n",
            "Running\n"
          ]
        }
      ],
      "execution_count": 9,
      "metadata": {
        "collapsed": true,
        "jupyter": {
          "source_hidden": false,
          "outputs_hidden": false
        },
        "nteract": {
          "transient": {
            "deleting": false
          }
        },
        "gather": {
          "logged": 1611667718414
        }
      }
    },
    {
      "cell_type": "code",
      "source": [
        "train, test = train_test_split(data, test_size=0.2, random_state=1 )\r\n",
        "\r\n",
        "if \"training\" not in os.listdir():\r\n",
        "    os.mkdir(\"./training\")\r\n",
        "\r\n",
        "if \"models\" not in os.listdir():\r\n",
        "    os.mkdir(\"./models\")\r\n",
        "if \"outputs\" not in os.listdir():\r\n",
        "    os.mkdir(\"./outputs\")\r\n",
        "\r\n",
        "train.to_csv(\"training/train_data.csv\", index = False)\r\n",
        "\r\n",
        "data_store = ws.get_default_datastore()\r\n",
        "data_store.upload(src_dir = \"./training\", target_path = 'insurance-project', overwrite = True,  show_progress = True)"
      ],
      "outputs": [
        {
          "output_type": "stream",
          "name": "stdout",
          "text": [
            "Uploading an estimated of 1 files\n",
            "Uploading ./training/train_data.csv\n",
            "Uploaded ./training/train_data.csv, 1 files out of an estimated total of 1\n",
            "Uploaded 1 files\n"
          ]
        },
        {
          "output_type": "execute_result",
          "execution_count": 13,
          "data": {
            "text/plain": "$AZUREML_DATAREFERENCE_cb358d09437449cfbca320708bd65f70"
          },
          "metadata": {}
        }
      ],
      "execution_count": 13,
      "metadata": {
        "collapsed": true,
        "jupyter": {
          "source_hidden": false,
          "outputs_hidden": false
        },
        "nteract": {
          "transient": {
            "deleting": false
          }
        },
        "gather": {
          "logged": 1611668350596
        }
      }
    },
    {
      "cell_type": "code",
      "source": [
        "#accessing the split data\r\n",
        "train_data = Dataset.Tabular.from_delimited_files(path=data_store.path(\"insurance-project/train_data.csv\"))"
      ],
      "outputs": [],
      "execution_count": 14,
      "metadata": {
        "collapsed": true,
        "jupyter": {
          "source_hidden": false,
          "outputs_hidden": false
        },
        "nteract": {
          "transient": {
            "deleting": false
          }
        },
        "gather": {
          "logged": 1611668434558
        }
      }
    },
    {
      "cell_type": "markdown",
      "source": [
        "## AutoML Configuration\n",
        "\n",
        "TODO: Explain why you chose the automl settings and cofiguration you used below."
      ],
      "metadata": {}
    },
    {
      "cell_type": "code",
      "source": [
        "# TODO: Put your automl settings here\n",
        "automl_settings = {\n",
        "    \"experiment_timeout_minutes\":30,\n",
        "    \"enable_early_stopping\":True,\n",
        "    \"max_concurrent_iterations\":5,\n",
        "    \"primary_metric\": \"accuracy\",\n",
        "}\n",
        "\n",
        "# TODO: Put your automl config here\n",
        "automl_config = AutoMLConfig(\n",
        "    experiment_timeout_minutes=30,\n",
        "    compute_target=compute_cluster,\n",
        "    task='classification',\n",
        "    primary_metric='accuracy',\n",
        "    training_data=train_data,\n",
        "    label_column_name='Claim',\n",
        "    n_cross_validations=4)"
      ],
      "outputs": [],
      "execution_count": 15,
      "metadata": {
        "gather": {
          "logged": 1611668493442
        },
        "jupyter": {
          "outputs_hidden": false,
          "source_hidden": false
        },
        "nteract": {
          "transient": {
            "deleting": false
          }
        }
      }
    },
    {
      "cell_type": "code",
      "source": [
        "# TODO: Submit your experiment\n",
        "remote_run = experiment.submit(automl_config)"
      ],
      "outputs": [
        {
          "output_type": "stream",
          "name": "stdout",
          "text": [
            "Running on remote.\n"
          ]
        }
      ],
      "execution_count": 16,
      "metadata": {
        "gather": {
          "logged": 1611668505969
        },
        "jupyter": {
          "outputs_hidden": false,
          "source_hidden": false
        },
        "nteract": {
          "transient": {
            "deleting": false
          }
        }
      }
    },
    {
      "cell_type": "markdown",
      "source": [
        "## Run Details\n",
        "\n",
        "OPTIONAL: Write about the different models trained and their performance. Why do you think some models did better than others?\n",
        "\n",
        "TODO: In the cell below, use the `RunDetails` widget to show the different experiments."
      ],
      "metadata": {}
    },
    {
      "cell_type": "code",
      "source": [
        "from azureml.widgets import RunDetails\r\n",
        "RunDetails(remote_run).show()"
      ],
      "outputs": [
        {
          "output_type": "display_data",
          "data": {
            "text/plain": "_AutoMLWidget(widget_settings={'childWidgetDisplay': 'popup', 'send_telemetry': False, 'log_level': 'INFO', 's…",
            "application/vnd.jupyter.widget-view+json": {
              "version_major": 2,
              "version_minor": 0,
              "model_id": "76da5490a986404b9be558b210de4f88"
            }
          },
          "metadata": {}
        },
        {
          "output_type": "display_data",
          "data": {
            "application/aml.mini.widget.v1": "{\"status\": \"Completed\", \"workbench_run_details_uri\": \"https://ml.azure.com/experiments/insurance/runs/AutoML_022248bb-c4c6-4c3f-a420-664665ca11e4?wsid=/subscriptions/6b4af8be-9931-443e-90f6-c4c34a1f9737/resourcegroups/aml-quickstarts-136117/workspaces/quick-starts-ws-136117\", \"run_id\": \"AutoML_022248bb-c4c6-4c3f-a420-664665ca11e4\", \"run_properties\": {\"run_id\": \"AutoML_022248bb-c4c6-4c3f-a420-664665ca11e4\", \"created_utc\": \"2021-01-26T13:41:44.613933Z\", \"properties\": {\"num_iterations\": \"1000\", \"training_type\": \"TrainFull\", \"acquisition_function\": \"EI\", \"primary_metric\": \"accuracy\", \"train_split\": \"0\", \"acquisition_parameter\": \"0\", \"num_cross_validation\": \"4\", \"target\": \"ikecompute\", \"AMLSettingsJsonString\": \"{\\\"path\\\":null,\\\"name\\\":\\\"insurance\\\",\\\"subscription_id\\\":\\\"6b4af8be-9931-443e-90f6-c4c34a1f9737\\\",\\\"resource_group\\\":\\\"aml-quickstarts-136117\\\",\\\"workspace_name\\\":\\\"quick-starts-ws-136117\\\",\\\"region\\\":\\\"southcentralus\\\",\\\"compute_target\\\":\\\"ikecompute\\\",\\\"spark_service\\\":null,\\\"azure_service\\\":\\\"remote\\\",\\\"many_models\\\":false,\\\"pipeline_fetch_max_batch_size\\\":1,\\\"iterations\\\":1000,\\\"primary_metric\\\":\\\"accuracy\\\",\\\"task_type\\\":\\\"classification\\\",\\\"data_script\\\":null,\\\"validation_size\\\":0.0,\\\"n_cross_validations\\\":4,\\\"y_min\\\":null,\\\"y_max\\\":null,\\\"num_classes\\\":null,\\\"featurization\\\":\\\"auto\\\",\\\"_ignore_package_version_incompatibilities\\\":false,\\\"is_timeseries\\\":false,\\\"max_cores_per_iteration\\\":1,\\\"max_concurrent_iterations\\\":1,\\\"iteration_timeout_minutes\\\":null,\\\"mem_in_mb\\\":null,\\\"enforce_time_on_windows\\\":false,\\\"experiment_timeout_minutes\\\":30,\\\"experiment_exit_score\\\":null,\\\"whitelist_models\\\":null,\\\"blacklist_algos\\\":[\\\"TensorFlowLinearClassifier\\\",\\\"TensorFlowDNN\\\"],\\\"supported_models\\\":[\\\"XGBoostClassifier\\\",\\\"DecisionTree\\\",\\\"KNN\\\",\\\"LightGBM\\\",\\\"LogisticRegression\\\",\\\"TensorFlowDNN\\\",\\\"BernoulliNaiveBayes\\\",\\\"SGD\\\",\\\"LinearSVM\\\",\\\"SVM\\\",\\\"TensorFlowLinearClassifier\\\",\\\"RandomForest\\\",\\\"MultinomialNaiveBayes\\\",\\\"ExtremeRandomTrees\\\",\\\"GradientBoosting\\\",\\\"AveragedPerceptronClassifier\\\"],\\\"auto_blacklist\\\":true,\\\"blacklist_samples_reached\\\":false,\\\"exclude_nan_labels\\\":true,\\\"verbosity\\\":20,\\\"_debug_log\\\":\\\"azureml_automl.log\\\",\\\"show_warnings\\\":false,\\\"model_explainability\\\":true,\\\"service_url\\\":null,\\\"sdk_url\\\":null,\\\"sdk_packages\\\":null,\\\"enable_onnx_compatible_models\\\":false,\\\"enable_split_onnx_featurizer_estimator_models\\\":false,\\\"vm_type\\\":\\\"STANDARD_DS12_V2\\\",\\\"telemetry_verbosity\\\":20,\\\"send_telemetry\\\":true,\\\"enable_dnn\\\":false,\\\"scenario\\\":\\\"SDK-1.13.0\\\",\\\"environment_label\\\":null,\\\"force_text_dnn\\\":false,\\\"enable_feature_sweeping\\\":true,\\\"enable_early_stopping\\\":false,\\\"early_stopping_n_iters\\\":10,\\\"metrics\\\":null,\\\"enable_ensembling\\\":true,\\\"enable_stack_ensembling\\\":true,\\\"ensemble_iterations\\\":15,\\\"enable_tf\\\":false,\\\"enable_subsampling\\\":null,\\\"subsample_seed\\\":null,\\\"enable_nimbusml\\\":false,\\\"enable_streaming\\\":false,\\\"force_streaming\\\":false,\\\"track_child_runs\\\":true,\\\"allowed_private_models\\\":[],\\\"label_column_name\\\":\\\"Claim\\\",\\\"weight_column_name\\\":null,\\\"cv_split_column_names\\\":null,\\\"enable_local_managed\\\":false,\\\"_local_managed_run_id\\\":null,\\\"cost_mode\\\":1,\\\"lag_length\\\":0,\\\"metric_operation\\\":\\\"maximize\\\",\\\"preprocess\\\":true}\", \"DataPrepJsonString\": \"{\\\\\\\"training_data\\\\\\\": \\\\\\\"{\\\\\\\\\\\\\\\"blocks\\\\\\\\\\\\\\\": [{\\\\\\\\\\\\\\\"id\\\\\\\\\\\\\\\": \\\\\\\\\\\\\\\"de1e4c40-75fe-4128-a01b-c621394042db\\\\\\\\\\\\\\\", \\\\\\\\\\\\\\\"type\\\\\\\\\\\\\\\": \\\\\\\\\\\\\\\"Microsoft.DPrep.GetDatastoreFilesBlock\\\\\\\\\\\\\\\", \\\\\\\\\\\\\\\"arguments\\\\\\\\\\\\\\\": {\\\\\\\\\\\\\\\"datastores\\\\\\\\\\\\\\\": [{\\\\\\\\\\\\\\\"datastoreName\\\\\\\\\\\\\\\": \\\\\\\\\\\\\\\"workspaceblobstore\\\\\\\\\\\\\\\", \\\\\\\\\\\\\\\"path\\\\\\\\\\\\\\\": \\\\\\\\\\\\\\\"insurance-project/train_data.csv\\\\\\\\\\\\\\\", \\\\\\\\\\\\\\\"resourceGroup\\\\\\\\\\\\\\\": \\\\\\\\\\\\\\\"aml-quickstarts-136117\\\\\\\\\\\\\\\", \\\\\\\\\\\\\\\"subscription\\\\\\\\\\\\\\\": \\\\\\\\\\\\\\\"6b4af8be-9931-443e-90f6-c4c34a1f9737\\\\\\\\\\\\\\\", \\\\\\\\\\\\\\\"workspaceName\\\\\\\\\\\\\\\": \\\\\\\\\\\\\\\"quick-starts-ws-136117\\\\\\\\\\\\\\\"}]}, \\\\\\\\\\\\\\\"localData\\\\\\\\\\\\\\\": {}, \\\\\\\\\\\\\\\"isEnabled\\\\\\\\\\\\\\\": true, \\\\\\\\\\\\\\\"name\\\\\\\\\\\\\\\": null, \\\\\\\\\\\\\\\"annotation\\\\\\\\\\\\\\\": null}, {\\\\\\\\\\\\\\\"id\\\\\\\\\\\\\\\": \\\\\\\\\\\\\\\"4c9f412c-961f-487f-8a9e-0527e2afeb50\\\\\\\\\\\\\\\", \\\\\\\\\\\\\\\"type\\\\\\\\\\\\\\\": \\\\\\\\\\\\\\\"Microsoft.DPrep.ParseDelimitedBlock\\\\\\\\\\\\\\\", \\\\\\\\\\\\\\\"arguments\\\\\\\\\\\\\\\": {\\\\\\\\\\\\\\\"columnHeadersMode\\\\\\\\\\\\\\\": 3, \\\\\\\\\\\\\\\"fileEncoding\\\\\\\\\\\\\\\": 0, \\\\\\\\\\\\\\\"handleQuotedLineBreaks\\\\\\\\\\\\\\\": false, \\\\\\\\\\\\\\\"preview\\\\\\\\\\\\\\\": false, \\\\\\\\\\\\\\\"separator\\\\\\\\\\\\\\\": \\\\\\\\\\\\\\\",\\\\\\\\\\\\\\\", \\\\\\\\\\\\\\\"skipRows\\\\\\\\\\\\\\\": 0, \\\\\\\\\\\\\\\"skipRowsMode\\\\\\\\\\\\\\\": 0}, \\\\\\\\\\\\\\\"localData\\\\\\\\\\\\\\\": {}, \\\\\\\\\\\\\\\"isEnabled\\\\\\\\\\\\\\\": true, \\\\\\\\\\\\\\\"name\\\\\\\\\\\\\\\": null, \\\\\\\\\\\\\\\"annotation\\\\\\\\\\\\\\\": null}, {\\\\\\\\\\\\\\\"id\\\\\\\\\\\\\\\": \\\\\\\\\\\\\\\"5763fff4-acc7-404f-ba5a-ed3cbedd67ea\\\\\\\\\\\\\\\", \\\\\\\\\\\\\\\"type\\\\\\\\\\\\\\\": \\\\\\\\\\\\\\\"Microsoft.DPrep.DropColumnsBlock\\\\\\\\\\\\\\\", \\\\\\\\\\\\\\\"arguments\\\\\\\\\\\\\\\": {\\\\\\\\\\\\\\\"columns\\\\\\\\\\\\\\\": {\\\\\\\\\\\\\\\"type\\\\\\\\\\\\\\\": 0, \\\\\\\\\\\\\\\"details\\\\\\\\\\\\\\\": {\\\\\\\\\\\\\\\"selectedColumns\\\\\\\\\\\\\\\": [\\\\\\\\\\\\\\\"Path\\\\\\\\\\\\\\\"]}}}, \\\\\\\\\\\\\\\"localData\\\\\\\\\\\\\\\": {}, \\\\\\\\\\\\\\\"isEnabled\\\\\\\\\\\\\\\": true, \\\\\\\\\\\\\\\"name\\\\\\\\\\\\\\\": null, \\\\\\\\\\\\\\\"annotation\\\\\\\\\\\\\\\": null}, {\\\\\\\\\\\\\\\"id\\\\\\\\\\\\\\\": \\\\\\\\\\\\\\\"c33fadaf-5a4b-427b-a51a-0df02c0d73c2\\\\\\\\\\\\\\\", \\\\\\\\\\\\\\\"type\\\\\\\\\\\\\\\": \\\\\\\\\\\\\\\"Microsoft.DPrep.SetColumnTypesBlock\\\\\\\\\\\\\\\", \\\\\\\\\\\\\\\"arguments\\\\\\\\\\\\\\\": {\\\\\\\\\\\\\\\"columnConversion\\\\\\\\\\\\\\\": [{\\\\\\\\\\\\\\\"column\\\\\\\\\\\\\\\": {\\\\\\\\\\\\\\\"type\\\\\\\\\\\\\\\": 2, \\\\\\\\\\\\\\\"details\\\\\\\\\\\\\\\": {\\\\\\\\\\\\\\\"selectedColumn\\\\\\\\\\\\\\\": \\\\\\\\\\\\\\\"Customer Id\\\\\\\\\\\\\\\"}}, \\\\\\\\\\\\\\\"typeProperty\\\\\\\\\\\\\\\": 0}, {\\\\\\\\\\\\\\\"column\\\\\\\\\\\\\\\": {\\\\\\\\\\\\\\\"type\\\\\\\\\\\\\\\": 2, \\\\\\\\\\\\\\\"details\\\\\\\\\\\\\\\": {\\\\\\\\\\\\\\\"selectedColumn\\\\\\\\\\\\\\\": \\\\\\\\\\\\\\\"YearOfObservation\\\\\\\\\\\\\\\"}}, \\\\\\\\\\\\\\\"typeProperty\\\\\\\\\\\\\\\": 2}, {\\\\\\\\\\\\\\\"column\\\\\\\\\\\\\\\": {\\\\\\\\\\\\\\\"type\\\\\\\\\\\\\\\": 2, \\\\\\\\\\\\\\\"details\\\\\\\\\\\\\\\": {\\\\\\\\\\\\\\\"selectedColumn\\\\\\\\\\\\\\\": \\\\\\\\\\\\\\\"Insured_Period\\\\\\\\\\\\\\\"}}, \\\\\\\\\\\\\\\"typeProperty\\\\\\\\\\\\\\\": 3}, {\\\\\\\\\\\\\\\"column\\\\\\\\\\\\\\\": {\\\\\\\\\\\\\\\"type\\\\\\\\\\\\\\\": 2, \\\\\\\\\\\\\\\"details\\\\\\\\\\\\\\\": {\\\\\\\\\\\\\\\"selectedColumn\\\\\\\\\\\\\\\": \\\\\\\\\\\\\\\"Residential\\\\\\\\\\\\\\\"}}, \\\\\\\\\\\\\\\"typeProperty\\\\\\\\\\\\\\\": 2}, {\\\\\\\\\\\\\\\"column\\\\\\\\\\\\\\\": {\\\\\\\\\\\\\\\"type\\\\\\\\\\\\\\\": 2, \\\\\\\\\\\\\\\"details\\\\\\\\\\\\\\\": {\\\\\\\\\\\\\\\"selectedColumn\\\\\\\\\\\\\\\": \\\\\\\\\\\\\\\"Building_Painted\\\\\\\\\\\\\\\"}}, \\\\\\\\\\\\\\\"typeProperty\\\\\\\\\\\\\\\": 0}, {\\\\\\\\\\\\\\\"column\\\\\\\\\\\\\\\": {\\\\\\\\\\\\\\\"type\\\\\\\\\\\\\\\": 2, \\\\\\\\\\\\\\\"details\\\\\\\\\\\\\\\": {\\\\\\\\\\\\\\\"selectedColumn\\\\\\\\\\\\\\\": \\\\\\\\\\\\\\\"Building_Fenced\\\\\\\\\\\\\\\"}}, \\\\\\\\\\\\\\\"typeProperty\\\\\\\\\\\\\\\": 0}, {\\\\\\\\\\\\\\\"column\\\\\\\\\\\\\\\": {\\\\\\\\\\\\\\\"type\\\\\\\\\\\\\\\": 2, \\\\\\\\\\\\\\\"details\\\\\\\\\\\\\\\": {\\\\\\\\\\\\\\\"selectedColumn\\\\\\\\\\\\\\\": \\\\\\\\\\\\\\\"Garden\\\\\\\\\\\\\\\"}}, \\\\\\\\\\\\\\\"typeProperty\\\\\\\\\\\\\\\": 0}, {\\\\\\\\\\\\\\\"column\\\\\\\\\\\\\\\": {\\\\\\\\\\\\\\\"type\\\\\\\\\\\\\\\": 2, \\\\\\\\\\\\\\\"details\\\\\\\\\\\\\\\": {\\\\\\\\\\\\\\\"selectedColumn\\\\\\\\\\\\\\\": \\\\\\\\\\\\\\\"Settlement\\\\\\\\\\\\\\\"}}, \\\\\\\\\\\\\\\"typeProperty\\\\\\\\\\\\\\\": 0}, {\\\\\\\\\\\\\\\"column\\\\\\\\\\\\\\\": {\\\\\\\\\\\\\\\"type\\\\\\\\\\\\\\\": 2, \\\\\\\\\\\\\\\"details\\\\\\\\\\\\\\\": {\\\\\\\\\\\\\\\"selectedColumn\\\\\\\\\\\\\\\": \\\\\\\\\\\\\\\"Building Dimension\\\\\\\\\\\\\\\"}}, \\\\\\\\\\\\\\\"typeProperty\\\\\\\\\\\\\\\": 3}, {\\\\\\\\\\\\\\\"column\\\\\\\\\\\\\\\": {\\\\\\\\\\\\\\\"type\\\\\\\\\\\\\\\": 2, \\\\\\\\\\\\\\\"details\\\\\\\\\\\\\\\": {\\\\\\\\\\\\\\\"selectedColumn\\\\\\\\\\\\\\\": \\\\\\\\\\\\\\\"Building_Type\\\\\\\\\\\\\\\"}}, \\\\\\\\\\\\\\\"typeProperty\\\\\\\\\\\\\\\": 2}, {\\\\\\\\\\\\\\\"column\\\\\\\\\\\\\\\": {\\\\\\\\\\\\\\\"type\\\\\\\\\\\\\\\": 2, \\\\\\\\\\\\\\\"details\\\\\\\\\\\\\\\": {\\\\\\\\\\\\\\\"selectedColumn\\\\\\\\\\\\\\\": \\\\\\\\\\\\\\\"Date_of_Occupancy\\\\\\\\\\\\\\\"}}, \\\\\\\\\\\\\\\"typeProperty\\\\\\\\\\\\\\\": 3}, {\\\\\\\\\\\\\\\"column\\\\\\\\\\\\\\\": {\\\\\\\\\\\\\\\"type\\\\\\\\\\\\\\\": 2, \\\\\\\\\\\\\\\"details\\\\\\\\\\\\\\\": {\\\\\\\\\\\\\\\"selectedColumn\\\\\\\\\\\\\\\": \\\\\\\\\\\\\\\"NumberOfWindows\\\\\\\\\\\\\\\"}}, \\\\\\\\\\\\\\\"typeProperty\\\\\\\\\\\\\\\": 0}, {\\\\\\\\\\\\\\\"column\\\\\\\\\\\\\\\": {\\\\\\\\\\\\\\\"type\\\\\\\\\\\\\\\": 2, \\\\\\\\\\\\\\\"details\\\\\\\\\\\\\\\": {\\\\\\\\\\\\\\\"selectedColumn\\\\\\\\\\\\\\\": \\\\\\\\\\\\\\\"Geo_Code\\\\\\\\\\\\\\\"}}, \\\\\\\\\\\\\\\"typeProperty\\\\\\\\\\\\\\\": 0}, {\\\\\\\\\\\\\\\"column\\\\\\\\\\\\\\\": {\\\\\\\\\\\\\\\"type\\\\\\\\\\\\\\\": 2, \\\\\\\\\\\\\\\"details\\\\\\\\\\\\\\\": {\\\\\\\\\\\\\\\"selectedColumn\\\\\\\\\\\\\\\": \\\\\\\\\\\\\\\"Claim\\\\\\\\\\\\\\\"}}, \\\\\\\\\\\\\\\"typeProperty\\\\\\\\\\\\\\\": 2}]}, \\\\\\\\\\\\\\\"localData\\\\\\\\\\\\\\\": {}, \\\\\\\\\\\\\\\"isEnabled\\\\\\\\\\\\\\\": true, \\\\\\\\\\\\\\\"name\\\\\\\\\\\\\\\": null, \\\\\\\\\\\\\\\"annotation\\\\\\\\\\\\\\\": null}], \\\\\\\\\\\\\\\"inspectors\\\\\\\\\\\\\\\": [], \\\\\\\\\\\\\\\"meta\\\\\\\\\\\\\\\": {\\\\\\\\\\\\\\\"savedDatasetId\\\\\\\\\\\\\\\": \\\\\\\\\\\\\\\"da9db66b-2026-4ab5-b8d4-762b02a6da34\\\\\\\\\\\\\\\", \\\\\\\\\\\\\\\"datasetType\\\\\\\\\\\\\\\": \\\\\\\\\\\\\\\"tabular\\\\\\\\\\\\\\\", \\\\\\\\\\\\\\\"subscriptionId\\\\\\\\\\\\\\\": \\\\\\\\\\\\\\\"6b4af8be-9931-443e-90f6-c4c34a1f9737\\\\\\\\\\\\\\\", \\\\\\\\\\\\\\\"workspaceId\\\\\\\\\\\\\\\": \\\\\\\\\\\\\\\"787ca06a-6265-4182-8a56-1eba93d1b597\\\\\\\\\\\\\\\", \\\\\\\\\\\\\\\"workspaceLocation\\\\\\\\\\\\\\\": \\\\\\\\\\\\\\\"southcentralus\\\\\\\\\\\\\\\"}}\\\\\\\", \\\\\\\"activities\\\\\\\": 0}\", \"EnableSubsampling\": null, \"runTemplate\": \"AutoML\", \"azureml.runsource\": \"automl\", \"display_task_type\": \"classification\", \"dependencies_versions\": \"{\\\"azureml-widgets\\\": \\\"1.20.0\\\", \\\"azureml-train\\\": \\\"1.20.0\\\", \\\"azureml-train-restclients-hyperdrive\\\": \\\"1.20.0\\\", \\\"azureml-train-core\\\": \\\"1.20.0\\\", \\\"azureml-train-automl\\\": \\\"1.20.0\\\", \\\"azureml-train-automl-runtime\\\": \\\"1.20.0\\\", \\\"azureml-train-automl-client\\\": \\\"1.20.0\\\", \\\"azureml-tensorboard\\\": \\\"1.20.0\\\", \\\"azureml-telemetry\\\": \\\"1.20.0\\\", \\\"azureml-sdk\\\": \\\"1.20.0\\\", \\\"azureml-samples\\\": \\\"0+unknown\\\", \\\"azureml-pipeline\\\": \\\"1.20.0\\\", \\\"azureml-pipeline-steps\\\": \\\"1.20.0\\\", \\\"azureml-pipeline-core\\\": \\\"1.20.0\\\", \\\"azureml-opendatasets\\\": \\\"1.20.0\\\", \\\"azureml-model-management-sdk\\\": \\\"1.0.1b6.post1\\\", \\\"azureml-mlflow\\\": \\\"1.20.0.post1\\\", \\\"azureml-interpret\\\": \\\"1.20.0\\\", \\\"azureml-explain-model\\\": \\\"1.20.0\\\", \\\"azureml-defaults\\\": \\\"1.20.0\\\", \\\"azureml-dataset-runtime\\\": \\\"1.20.0\\\", \\\"azureml-dataprep\\\": \\\"2.7.3\\\", \\\"azureml-dataprep-rslex\\\": \\\"1.5.0\\\", \\\"azureml-dataprep-native\\\": \\\"27.0.0\\\", \\\"azureml-datadrift\\\": \\\"1.20.0\\\", \\\"azureml-core\\\": \\\"1.20.0\\\", \\\"azureml-contrib-services\\\": \\\"1.20.0\\\", \\\"azureml-contrib-server\\\": \\\"1.20.0\\\", \\\"azureml-contrib-reinforcementlearning\\\": \\\"1.20.0\\\", \\\"azureml-contrib-pipeline-steps\\\": \\\"1.20.0\\\", \\\"azureml-contrib-notebook\\\": \\\"1.20.0\\\", \\\"azureml-contrib-interpret\\\": \\\"1.20.0\\\", \\\"azureml-contrib-gbdt\\\": \\\"1.20.0\\\", \\\"azureml-contrib-fairness\\\": \\\"1.20.0\\\", \\\"azureml-contrib-dataset\\\": \\\"1.20.0\\\", \\\"azureml-cli-common\\\": \\\"1.20.0\\\", \\\"azureml-automl-runtime\\\": \\\"1.20.0\\\", \\\"azureml-automl-core\\\": \\\"1.20.0\\\", \\\"azureml-accel-models\\\": \\\"1.20.0\\\"}\", \"_aml_system_scenario_identification\": \"Remote.Parent\", \"ClientType\": \"SDK\", \"environment_cpu_name\": \"AzureML-AutoML\", \"environment_cpu_label\": \"prod\", \"environment_gpu_name\": \"AzureML-AutoML-GPU\", \"environment_gpu_label\": \"prod\", \"root_attribution\": \"automl\", \"attribution\": \"AutoML\", \"Orchestrator\": \"AutoML\", \"CancelUri\": \"https://southcentralus.experiments.azureml.net/jasmine/v1.0/subscriptions/6b4af8be-9931-443e-90f6-c4c34a1f9737/resourceGroups/aml-quickstarts-136117/providers/Microsoft.MachineLearningServices/workspaces/quick-starts-ws-136117/experimentids/d9eadf18-daf7-4102-837d-5c7d7d8d587e/cancel/AutoML_022248bb-c4c6-4c3f-a420-664665ca11e4\", \"ClientSdkVersion\": \"1.20.0.post1\", \"snapshotId\": \"00000000-0000-0000-0000-000000000000\", \"SetupRunId\": \"AutoML_022248bb-c4c6-4c3f-a420-664665ca11e4_setup\", \"SetupRunContainerId\": \"dcid.AutoML_022248bb-c4c6-4c3f-a420-664665ca11e4_setup\", \"FeaturizationRunJsonPath\": \"featurizer_container.json\", \"FeaturizationRunId\": \"AutoML_022248bb-c4c6-4c3f-a420-664665ca11e4_featurize\", \"ProblemInfoJsonString\": \"{\\\"dataset_num_categorical\\\": 0, \\\"is_sparse\\\": true, \\\"subsampling\\\": false, \\\"dataset_classes\\\": 2, \\\"dataset_features\\\": 1054, \\\"dataset_samples\\\": 5728, \\\"single_frequency_class_detected\\\": false}\", \"ModelExplainRunId\": \"AutoML_022248bb-c4c6-4c3f-a420-664665ca11e4_ModelExplain\"}, \"tags\": {\"model_explain_run\": \"best_run\", \"_aml_system_azureml.automlComponent\": \"AutoML\", \"pipeline_id\": \"\", \"score\": \"\", \"predicted_cost\": \"\", \"fit_time\": \"\", \"training_percent\": \"\", \"iteration\": \"\", \"run_preprocessor\": \"\", \"run_algorithm\": \"\", \"dynamic_whitelisting_iterations\": \"<25>;\", \"automl_best_child_run_id\": \"AutoML_022248bb-c4c6-4c3f-a420-664665ca11e4_27\", \"model_explain_best_run_child_id\": \"AutoML_022248bb-c4c6-4c3f-a420-664665ca11e4_27\"}, \"end_time_utc\": \"2021-01-26T14:20:14.398058Z\", \"status\": \"Completed\", \"log_files\": {}, \"log_groups\": [], \"run_duration\": \"0:38:29\"}, \"child_runs\": [{\"run_id\": \"AutoML_022248bb-c4c6-4c3f-a420-664665ca11e4_0\", \"run_number\": 5, \"metric\": null, \"status\": \"Completed\", \"run_type\": \"azureml.scriptrun\", \"training_percent\": \"100\", \"start_time\": \"2021-01-26T13:46:33.909455Z\", \"end_time\": \"2021-01-26T13:47:27.227284Z\", \"created_time\": \"2021-01-26T13:46:20.717854Z\", \"created_time_dt\": \"2021-01-26T13:46:20.717854Z\", \"duration\": \"0:01:06\", \"iteration\": \"0\", \"goal\": \"accuracy_max\", \"run_name\": \"MaxAbsScaler, LightGBM\", \"run_properties\": \"copy=True\", \"primary_metric\": 0.77618715, \"best_metric\": 0.77618715}, {\"run_id\": \"AutoML_022248bb-c4c6-4c3f-a420-664665ca11e4_1\", \"run_number\": 6, \"metric\": null, \"status\": \"Completed\", \"run_type\": \"azureml.scriptrun\", \"training_percent\": \"100\", \"start_time\": \"2021-01-26T13:47:47.692123Z\", \"end_time\": \"2021-01-26T13:48:41.00268Z\", \"created_time\": \"2021-01-26T13:47:30.210443Z\", \"created_time_dt\": \"2021-01-26T13:47:30.210443Z\", \"duration\": \"0:01:10\", \"iteration\": \"1\", \"goal\": \"accuracy_max\", \"run_name\": \"MaxAbsScaler, XGBoostClassifier\", \"run_properties\": \"copy=True\", \"primary_metric\": 0.78666201, \"best_metric\": 0.78666201}, {\"run_id\": \"AutoML_022248bb-c4c6-4c3f-a420-664665ca11e4_2\", \"run_number\": 7, \"metric\": null, \"status\": \"Completed\", \"run_type\": \"azureml.scriptrun\", \"training_percent\": \"100\", \"start_time\": \"2021-01-26T13:48:57.919706Z\", \"end_time\": \"2021-01-26T13:49:41.105Z\", \"created_time\": \"2021-01-26T13:48:42.138737Z\", \"created_time_dt\": \"2021-01-26T13:48:42.138737Z\", \"duration\": \"0:00:58\", \"iteration\": \"2\", \"goal\": \"accuracy_max\", \"run_name\": \"MaxAbsScaler, RandomForest\", \"run_properties\": \"copy=True\", \"primary_metric\": 0.77409218, \"best_metric\": 0.78666201}, {\"run_id\": \"AutoML_022248bb-c4c6-4c3f-a420-664665ca11e4_3\", \"run_number\": 8, \"metric\": null, \"status\": \"Completed\", \"run_type\": \"azureml.scriptrun\", \"training_percent\": \"100\", \"start_time\": \"2021-01-26T13:49:58.13031Z\", \"end_time\": \"2021-01-26T13:50:51.371912Z\", \"created_time\": \"2021-01-26T13:49:43.057781Z\", \"created_time_dt\": \"2021-01-26T13:49:43.057781Z\", \"duration\": \"0:01:08\", \"iteration\": \"3\", \"goal\": \"accuracy_max\", \"run_name\": \"MaxAbsScaler, RandomForest\", \"run_properties\": \"copy=True\", \"primary_metric\": 0.77409218, \"best_metric\": 0.78666201}, {\"run_id\": \"AutoML_022248bb-c4c6-4c3f-a420-664665ca11e4_4\", \"run_number\": 9, \"metric\": null, \"status\": \"Completed\", \"run_type\": \"azureml.scriptrun\", \"training_percent\": \"100\", \"start_time\": \"2021-01-26T13:51:11.411206Z\", \"end_time\": \"2021-01-26T13:51:54.393257Z\", \"created_time\": \"2021-01-26T13:50:54.871056Z\", \"created_time_dt\": \"2021-01-26T13:50:54.871056Z\", \"duration\": \"0:00:59\", \"iteration\": \"4\", \"goal\": \"accuracy_max\", \"run_name\": \"MaxAbsScaler, RandomForest\", \"run_properties\": \"copy=True\", \"primary_metric\": 0.50977654, \"best_metric\": 0.78666201}, {\"run_id\": \"AutoML_022248bb-c4c6-4c3f-a420-664665ca11e4_5\", \"run_number\": 10, \"metric\": null, \"status\": \"Completed\", \"run_type\": \"azureml.scriptrun\", \"training_percent\": \"100\", \"start_time\": \"2021-01-26T13:52:17.393429Z\", \"end_time\": \"2021-01-26T13:53:04.555542Z\", \"created_time\": \"2021-01-26T13:51:56.986542Z\", \"created_time_dt\": \"2021-01-26T13:51:56.986542Z\", \"duration\": \"0:01:07\", \"iteration\": \"5\", \"goal\": \"accuracy_max\", \"run_name\": \"MaxAbsScaler, RandomForest\", \"run_properties\": \"copy=True\", \"primary_metric\": 0.66323324, \"best_metric\": 0.78666201}, {\"run_id\": \"AutoML_022248bb-c4c6-4c3f-a420-664665ca11e4_6\", \"run_number\": 11, \"metric\": null, \"status\": \"Completed\", \"run_type\": \"azureml.scriptrun\", \"training_percent\": \"100\", \"start_time\": \"2021-01-26T13:53:25.667667Z\", \"end_time\": \"2021-01-26T13:54:19.080054Z\", \"created_time\": \"2021-01-26T13:53:07.453138Z\", \"created_time_dt\": \"2021-01-26T13:53:07.453138Z\", \"duration\": \"0:01:11\", \"iteration\": \"6\", \"goal\": \"accuracy_max\", \"run_name\": \"SparseNormalizer, XGBoostClassifier\", \"run_properties\": \"<azureml.automl.runtime.shared.model_wrappers.SparseNormalizer object at 0x7fd4c4e99400\", \"primary_metric\": 0.7840433, \"best_metric\": 0.78666201}, {\"run_id\": \"AutoML_022248bb-c4c6-4c3f-a420-664665ca11e4_7\", \"run_number\": 12, \"metric\": null, \"status\": \"Completed\", \"run_type\": \"azureml.scriptrun\", \"training_percent\": \"100\", \"start_time\": \"2021-01-26T13:54:35.613797Z\", \"end_time\": \"2021-01-26T13:55:30.507508Z\", \"created_time\": \"2021-01-26T13:54:20.667529Z\", \"created_time_dt\": \"2021-01-26T13:54:20.667529Z\", \"duration\": \"0:01:09\", \"iteration\": \"7\", \"goal\": \"accuracy_max\", \"run_name\": \"MaxAbsScaler, RandomForest\", \"run_properties\": \"copy=True\", \"primary_metric\": 0.77409218, \"best_metric\": 0.78666201}, {\"run_id\": \"AutoML_022248bb-c4c6-4c3f-a420-664665ca11e4_8\", \"run_number\": 13, \"metric\": null, \"status\": \"Completed\", \"run_type\": \"azureml.scriptrun\", \"training_percent\": \"100\", \"start_time\": \"2021-01-26T13:55:45.819851Z\", \"end_time\": \"2021-01-26T13:56:28.578695Z\", \"created_time\": \"2021-01-26T13:55:32.380743Z\", \"created_time_dt\": \"2021-01-26T13:55:32.380743Z\", \"duration\": \"0:00:56\", \"iteration\": \"8\", \"goal\": \"accuracy_max\", \"run_name\": \"MaxAbsScaler, LogisticRegression\", \"run_properties\": \"copy=True\", \"primary_metric\": 0.78002793, \"best_metric\": 0.78666201}, {\"run_id\": \"AutoML_022248bb-c4c6-4c3f-a420-664665ca11e4_9\", \"run_number\": 14, \"metric\": null, \"status\": \"Completed\", \"run_type\": \"azureml.scriptrun\", \"training_percent\": \"100\", \"start_time\": \"2021-01-26T13:56:42.606908Z\", \"end_time\": \"2021-01-26T13:57:31.926993Z\", \"created_time\": \"2021-01-26T13:56:30.265709Z\", \"created_time_dt\": \"2021-01-26T13:56:30.265709Z\", \"duration\": \"0:01:01\", \"iteration\": \"9\", \"goal\": \"accuracy_max\", \"run_name\": \"StandardScalerWrapper, RandomForest\", \"run_properties\": \"<azureml.automl.runtime.shared.model_wrappers.StandardScalerWrapper object at 0x7fcaf516dac8\", \"primary_metric\": 0.77950419, \"best_metric\": 0.78666201}, {\"run_id\": \"AutoML_022248bb-c4c6-4c3f-a420-664665ca11e4_10\", \"run_number\": 15, \"metric\": null, \"status\": \"Completed\", \"run_type\": \"azureml.scriptrun\", \"training_percent\": \"100\", \"start_time\": \"2021-01-26T13:57:51.079726Z\", \"end_time\": \"2021-01-26T13:58:31.219276Z\", \"created_time\": \"2021-01-26T13:57:33.794239Z\", \"created_time_dt\": \"2021-01-26T13:57:33.794239Z\", \"duration\": \"0:00:57\", \"iteration\": \"10\", \"goal\": \"accuracy_max\", \"run_name\": \"SparseNormalizer, LightGBM\", \"run_properties\": \"<azureml.automl.runtime.shared.model_wrappers.SparseNormalizer object at 0x7f4ae7034320\", \"primary_metric\": 0.78229749, \"best_metric\": 0.78666201}, {\"run_id\": \"AutoML_022248bb-c4c6-4c3f-a420-664665ca11e4_11\", \"run_number\": 16, \"metric\": null, \"status\": \"Completed\", \"run_type\": \"azureml.scriptrun\", \"training_percent\": \"100\", \"start_time\": \"2021-01-26T13:58:45.138353Z\", \"end_time\": \"2021-01-26T13:59:36.91881Z\", \"created_time\": \"2021-01-26T13:58:32.925719Z\", \"created_time_dt\": \"2021-01-26T13:58:32.925719Z\", \"duration\": \"0:01:03\", \"iteration\": \"11\", \"goal\": \"accuracy_max\", \"run_name\": \"SparseNormalizer, XGBoostClassifier\", \"run_properties\": \"<azureml.automl.runtime.shared.model_wrappers.SparseNormalizer object at 0x7f412aa37e80\", \"primary_metric\": 0.78299581, \"best_metric\": 0.78666201}, {\"run_id\": \"AutoML_022248bb-c4c6-4c3f-a420-664665ca11e4_12\", \"run_number\": 17, \"metric\": null, \"status\": \"Completed\", \"run_type\": \"azureml.scriptrun\", \"training_percent\": \"100\", \"start_time\": \"2021-01-26T13:59:56.339135Z\", \"end_time\": \"2021-01-26T14:01:01.851188Z\", \"created_time\": \"2021-01-26T13:59:38.749574Z\", \"created_time_dt\": \"2021-01-26T13:59:38.749574Z\", \"duration\": \"0:01:23\", \"iteration\": \"12\", \"goal\": \"accuracy_max\", \"run_name\": \"MaxAbsScaler, ExtremeRandomTrees\", \"run_properties\": \"copy=True\", \"primary_metric\": 0.77409218, \"best_metric\": 0.78666201}, {\"run_id\": \"AutoML_022248bb-c4c6-4c3f-a420-664665ca11e4_13\", \"run_number\": 18, \"metric\": null, \"status\": \"Completed\", \"run_type\": \"azureml.scriptrun\", \"training_percent\": \"100\", \"start_time\": \"2021-01-26T14:01:16.515628Z\", \"end_time\": \"2021-01-26T14:02:05.10423Z\", \"created_time\": \"2021-01-26T14:01:04.195982Z\", \"created_time_dt\": \"2021-01-26T14:01:04.195982Z\", \"duration\": \"0:01:00\", \"iteration\": \"13\", \"goal\": \"accuracy_max\", \"run_name\": \"StandardScalerWrapper, RandomForest\", \"run_properties\": \"<azureml.automl.runtime.shared.model_wrappers.StandardScalerWrapper object at 0x7fe46852ab00\", \"primary_metric\": 0.77409218, \"best_metric\": 0.78666201}, {\"run_id\": \"AutoML_022248bb-c4c6-4c3f-a420-664665ca11e4_14\", \"run_number\": 19, \"metric\": null, \"status\": \"Completed\", \"run_type\": \"azureml.scriptrun\", \"training_percent\": \"100\", \"start_time\": \"2021-01-26T14:02:19.487908Z\", \"end_time\": \"2021-01-26T14:03:08.368608Z\", \"created_time\": \"2021-01-26T14:02:06.887097Z\", \"created_time_dt\": \"2021-01-26T14:02:06.887097Z\", \"duration\": \"0:01:01\", \"iteration\": \"14\", \"goal\": \"accuracy_max\", \"run_name\": \"MaxAbsScaler, LightGBM\", \"run_properties\": \"copy=True\", \"primary_metric\": 0.78718575, \"best_metric\": 0.78718575}, {\"run_id\": \"AutoML_022248bb-c4c6-4c3f-a420-664665ca11e4_15\", \"run_number\": 20, \"metric\": null, \"status\": \"Completed\", \"run_type\": \"azureml.scriptrun\", \"training_percent\": \"100\", \"start_time\": \"2021-01-26T14:03:26.909108Z\", \"end_time\": \"2021-01-26T14:04:17.184201Z\", \"created_time\": \"2021-01-26T14:03:10.165138Z\", \"created_time_dt\": \"2021-01-26T14:03:10.165138Z\", \"duration\": \"0:01:07\", \"iteration\": \"15\", \"goal\": \"accuracy_max\", \"run_name\": \"SparseNormalizer, RandomForest\", \"run_properties\": \"<azureml.automl.runtime.shared.model_wrappers.SparseNormalizer object at 0x7fcc03e95c88\", \"primary_metric\": 0.77409218, \"best_metric\": 0.78718575}, {\"run_id\": \"AutoML_022248bb-c4c6-4c3f-a420-664665ca11e4_16\", \"run_number\": 21, \"metric\": null, \"status\": \"Completed\", \"run_type\": \"azureml.scriptrun\", \"training_percent\": \"100\", \"start_time\": \"2021-01-26T14:04:47.422567Z\", \"end_time\": \"2021-01-26T14:05:46.313343Z\", \"created_time\": \"2021-01-26T14:04:30.192307Z\", \"created_time_dt\": \"2021-01-26T14:04:30.192307Z\", \"duration\": \"0:01:16\", \"iteration\": \"16\", \"goal\": \"accuracy_max\", \"run_name\": \"StandardScalerWrapper, ExtremeRandomTrees\", \"run_properties\": \"<azureml.automl.runtime.shared.model_wrappers.StandardScalerWrapper object at 0x7f0f02a7f668\", \"primary_metric\": 0.77409218, \"best_metric\": 0.78718575}, {\"run_id\": \"AutoML_022248bb-c4c6-4c3f-a420-664665ca11e4_17\", \"run_number\": 22, \"metric\": null, \"status\": \"Completed\", \"run_type\": \"azureml.scriptrun\", \"training_percent\": \"100\", \"start_time\": \"2021-01-26T14:06:00.575177Z\", \"end_time\": \"2021-01-26T14:06:48.094743Z\", \"created_time\": \"2021-01-26T14:05:49.455915Z\", \"created_time_dt\": \"2021-01-26T14:05:49.455915Z\", \"duration\": \"0:00:58\", \"iteration\": \"17\", \"goal\": \"accuracy_max\", \"run_name\": \"SparseNormalizer, XGBoostClassifier\", \"run_properties\": \"<azureml.automl.runtime.shared.model_wrappers.SparseNormalizer object at 0x7f28c4328a90\", \"primary_metric\": 0.77775838, \"best_metric\": 0.78718575}, {\"run_id\": \"AutoML_022248bb-c4c6-4c3f-a420-664665ca11e4_18\", \"run_number\": 23, \"metric\": null, \"status\": \"Completed\", \"run_type\": \"azureml.scriptrun\", \"training_percent\": \"100\", \"start_time\": \"2021-01-26T14:07:09.941695Z\", \"end_time\": \"2021-01-26T14:07:55.858171Z\", \"created_time\": \"2021-01-26T14:06:49.824361Z\", \"created_time_dt\": \"2021-01-26T14:06:49.824361Z\", \"duration\": \"0:01:06\", \"iteration\": \"18\", \"goal\": \"accuracy_max\", \"run_name\": \"MaxAbsScaler, ExtremeRandomTrees\", \"run_properties\": \"copy=True\", \"primary_metric\": 0.77409218, \"best_metric\": 0.78718575}, {\"run_id\": \"AutoML_022248bb-c4c6-4c3f-a420-664665ca11e4_19\", \"run_number\": 24, \"metric\": null, \"status\": \"Completed\", \"run_type\": \"azureml.scriptrun\", \"training_percent\": \"100\", \"start_time\": \"2021-01-26T14:08:14.547916Z\", \"end_time\": \"2021-01-26T14:09:03.693238Z\", \"created_time\": \"2021-01-26T14:07:58.204483Z\", \"created_time_dt\": \"2021-01-26T14:07:58.204483Z\", \"duration\": \"0:01:05\", \"iteration\": \"19\", \"goal\": \"accuracy_max\", \"run_name\": \"StandardScalerWrapper, LightGBM\", \"run_properties\": \"<azureml.automl.runtime.shared.model_wrappers.StandardScalerWrapper object at 0x7fcf67039470\", \"primary_metric\": 0.77409218, \"best_metric\": 0.78718575}, {\"run_id\": \"AutoML_022248bb-c4c6-4c3f-a420-664665ca11e4_20\", \"run_number\": 25, \"metric\": null, \"status\": \"Completed\", \"run_type\": \"azureml.scriptrun\", \"training_percent\": \"100\", \"start_time\": \"2021-01-26T14:09:17.966587Z\", \"end_time\": \"2021-01-26T14:10:18.159539Z\", \"created_time\": \"2021-01-26T14:09:05.567656Z\", \"created_time_dt\": \"2021-01-26T14:09:05.567656Z\", \"duration\": \"0:01:12\", \"iteration\": \"20\", \"goal\": \"accuracy_max\", \"run_name\": \"MaxAbsScaler, RandomForest\", \"run_properties\": \"copy=True\", \"primary_metric\": 0.77409218, \"best_metric\": 0.78718575}, {\"run_id\": \"AutoML_022248bb-c4c6-4c3f-a420-664665ca11e4_21\", \"run_number\": 26, \"metric\": null, \"status\": \"Completed\", \"run_type\": \"azureml.scriptrun\", \"training_percent\": \"100\", \"start_time\": \"2021-01-26T14:10:35.505851Z\", \"end_time\": \"2021-01-26T14:11:24.842535Z\", \"created_time\": \"2021-01-26T14:10:20.456522Z\", \"created_time_dt\": \"2021-01-26T14:10:20.456522Z\", \"duration\": \"0:01:04\", \"iteration\": \"21\", \"goal\": \"accuracy_max\", \"run_name\": \"StandardScalerWrapper, XGBoostClassifier\", \"run_properties\": \"<azureml.automl.runtime.shared.model_wrappers.StandardScalerWrapper object at 0x7f723c41c4e0\", \"primary_metric\": 0.77706006, \"best_metric\": 0.78718575}, {\"run_id\": \"AutoML_022248bb-c4c6-4c3f-a420-664665ca11e4_22\", \"run_number\": 27, \"metric\": null, \"status\": \"Completed\", \"run_type\": \"azureml.scriptrun\", \"training_percent\": \"100\", \"start_time\": \"2021-01-26T14:11:40.290181Z\", \"end_time\": \"2021-01-26T14:12:29.921965Z\", \"created_time\": \"2021-01-26T14:11:26.683374Z\", \"created_time_dt\": \"2021-01-26T14:11:26.683374Z\", \"duration\": \"0:01:03\", \"iteration\": \"22\", \"goal\": \"accuracy_max\", \"run_name\": \"StandardScalerWrapper, XGBoostClassifier\", \"run_properties\": \"<azureml.automl.runtime.shared.model_wrappers.StandardScalerWrapper object at 0x7ff5f6081198\", \"primary_metric\": 0.77007682, \"best_metric\": 0.78718575}, {\"run_id\": \"AutoML_022248bb-c4c6-4c3f-a420-664665ca11e4_23\", \"run_number\": 28, \"metric\": null, \"status\": \"Completed\", \"run_type\": \"azureml.scriptrun\", \"training_percent\": \"100\", \"start_time\": \"2021-01-26T14:12:49.66178Z\", \"end_time\": \"2021-01-26T14:13:45.977389Z\", \"created_time\": \"2021-01-26T14:12:31.827159Z\", \"created_time_dt\": \"2021-01-26T14:12:31.827159Z\", \"duration\": \"0:01:14\", \"iteration\": \"23\", \"goal\": \"accuracy_max\", \"run_name\": \"StandardScalerWrapper, ExtremeRandomTrees\", \"run_properties\": \"<azureml.automl.runtime.shared.model_wrappers.StandardScalerWrapper object at 0x7f569d553b00\", \"primary_metric\": 0.77409218, \"best_metric\": 0.78718575}, {\"run_id\": \"AutoML_022248bb-c4c6-4c3f-a420-664665ca11e4_24\", \"run_number\": 29, \"metric\": null, \"status\": \"Completed\", \"run_type\": \"azureml.scriptrun\", \"training_percent\": \"100\", \"start_time\": \"2021-01-26T14:14:00.734326Z\", \"end_time\": \"2021-01-26T14:14:49.378906Z\", \"created_time\": \"2021-01-26T14:13:47.710962Z\", \"created_time_dt\": \"2021-01-26T14:13:47.710962Z\", \"duration\": \"0:01:01\", \"iteration\": \"24\", \"goal\": \"accuracy_max\", \"run_name\": \"StandardScalerWrapper, LightGBM\", \"run_properties\": \"<azureml.automl.runtime.shared.model_wrappers.StandardScalerWrapper object at 0x7f26c8435d30\", \"primary_metric\": 0.78596369, \"best_metric\": 0.78718575}, {\"run_id\": \"AutoML_022248bb-c4c6-4c3f-a420-664665ca11e4_25\", \"run_number\": 30, \"metric\": null, \"status\": \"Completed\", \"run_type\": \"azureml.scriptrun\", \"training_percent\": \"100\", \"start_time\": \"2021-01-26T14:15:05.963804Z\", \"end_time\": \"2021-01-26T14:15:54.248803Z\", \"created_time\": \"2021-01-26T14:14:52.616515Z\", \"created_time_dt\": \"2021-01-26T14:14:52.616515Z\", \"duration\": \"0:01:01\", \"iteration\": \"25\", \"goal\": \"accuracy_max\", \"run_name\": \"MaxAbsScaler, LightGBM\", \"run_properties\": \"copy=True\", \"primary_metric\": 0.77409218, \"best_metric\": 0.78718575}, {\"run_id\": \"AutoML_022248bb-c4c6-4c3f-a420-664665ca11e4_26\", \"run_number\": 31, \"metric\": null, \"status\": \"Canceled\", \"run_type\": \"azureml.scriptrun\", \"training_percent\": \"100\", \"start_time\": \"2021-01-26T14:16:09.848734Z\", \"end_time\": \"2021-01-26T14:17:01.783034Z\", \"created_time\": \"2021-01-26T14:15:56.818248Z\", \"created_time_dt\": \"2021-01-26T14:15:56.818248Z\", \"duration\": \"0:01:04\", \"iteration\": \"26\", \"goal\": \"accuracy_max\", \"run_name\": \"StandardScalerWrapper, LightGBM\", \"run_properties\": \"<azureml.automl.runtime.shared.model_wrappers.StandardScalerWrapper object at 0x7f84c894d748\", \"primary_metric\": 0.78177374, \"best_metric\": 0.78718575}, {\"run_id\": \"AutoML_022248bb-c4c6-4c3f-a420-664665ca11e4_27\", \"run_number\": 32, \"metric\": null, \"status\": \"Completed\", \"run_type\": \"azureml.scriptrun\", \"training_percent\": \"100\", \"start_time\": \"2021-01-26T14:17:15.449783Z\", \"end_time\": \"2021-01-26T14:18:25.740276Z\", \"created_time\": \"2021-01-26T14:17:02.738965Z\", \"created_time_dt\": \"2021-01-26T14:17:02.738965Z\", \"duration\": \"0:01:23\", \"iteration\": \"27\", \"goal\": \"accuracy_max\", \"run_name\": \"VotingEnsemble\", \"run_properties\": \"classification_labels=None,\\n                              estimators=[('14',\\n                                           Pipeline(memory=None,\\n                                                    steps=[('maxabsscaler',\\n                                                            MaxAbsScaler(copy=True\", \"primary_metric\": 0.79277235, \"best_metric\": 0.79277235}, {\"run_id\": \"AutoML_022248bb-c4c6-4c3f-a420-664665ca11e4_28\", \"run_number\": 33, \"metric\": null, \"status\": \"Completed\", \"run_type\": \"azureml.scriptrun\", \"training_percent\": \"100\", \"start_time\": \"2021-01-26T14:18:41.127549Z\", \"end_time\": \"2021-01-26T14:20:03.230677Z\", \"created_time\": \"2021-01-26T14:18:28.242878Z\", \"created_time_dt\": \"2021-01-26T14:18:28.242878Z\", \"duration\": \"0:01:34\", \"iteration\": \"28\", \"goal\": \"accuracy_max\", \"run_name\": \"StackEnsemble\", \"run_properties\": \"base_learners=[('14',\\n                                        Pipeline(memory=None,\\n                                                 steps=[('maxabsscaler',\\n                                                         MaxAbsScaler(copy=True\", \"primary_metric\": 0.78945531, \"best_metric\": 0.79277235}], \"children_metrics\": {\"categories\": [0], \"series\": {\"f1_score_macro\": [{\"categories\": [\"0\", \"1\", \"2\", \"3\", \"4\", \"5\", \"6\", \"7\", \"8\", \"9\", \"10\", \"11\", \"12\", \"13\", \"14\", \"15\", \"16\", \"17\", \"18\", \"19\", \"20\", \"21\", \"22\", \"23\", \"24\", \"25\", \"26\", \"27\", \"28\"], \"mode\": \"markers\", \"name\": \"f1_score_macro\", \"stepped\": false, \"type\": \"scatter\", \"data\": [0.5845382533773665, 0.5703605141709981, 0.43630389298075495, 0.43630389298075495, 0.47338274948753645, 0.5672064309694183, 0.5887153635317521, 0.43630389298075495, 0.5713870572292372, 0.4720391277535806, 0.5450829179694427, 0.5872833761208494, 0.43630389298075495, 0.43630389298075495, 0.5728927243416185, 0.43630389298075495, 0.43630389298075495, 0.5881279486496704, 0.43630389298075495, 0.43630389298075495, 0.43630389298075495, 0.4853138371469167, 0.5785024145758749, 0.43630389298075495, 0.5757345649271947, 0.43630389298075495, 0.5366320598635157, 0.5826896034422774, 0.5884999626988285]}, {\"categories\": [\"0\", \"1\", \"2\", \"3\", \"4\", \"5\", \"6\", \"7\", \"8\", \"9\", \"10\", \"11\", \"12\", \"13\", \"14\", \"15\", \"16\", \"17\", \"18\", \"19\", \"20\", \"21\", \"22\", \"23\", \"24\", \"25\", \"26\", \"27\", \"28\"], \"mode\": \"lines\", \"name\": \"f1_score_macro_max\", \"stepped\": true, \"type\": \"scatter\", \"data\": [0.5845382533773665, 0.5845382533773665, 0.5845382533773665, 0.5845382533773665, 0.5845382533773665, 0.5845382533773665, 0.5887153635317521, 0.5887153635317521, 0.5887153635317521, 0.5887153635317521, 0.5887153635317521, 0.5887153635317521, 0.5887153635317521, 0.5887153635317521, 0.5887153635317521, 0.5887153635317521, 0.5887153635317521, 0.5887153635317521, 0.5887153635317521, 0.5887153635317521, 0.5887153635317521, 0.5887153635317521, 0.5887153635317521, 0.5887153635317521, 0.5887153635317521, 0.5887153635317521, 0.5887153635317521, 0.5887153635317521, 0.5887153635317521]}], \"AUC_micro\": [{\"categories\": [\"0\", \"1\", \"2\", \"3\", \"4\", \"5\", \"6\", \"7\", \"8\", \"9\", \"10\", \"11\", \"12\", \"13\", \"14\", \"15\", \"16\", \"17\", \"18\", \"19\", \"20\", \"21\", \"22\", \"23\", \"24\", \"25\", \"26\", \"27\", \"28\"], \"mode\": \"markers\", \"name\": \"AUC_micro\", \"stepped\": false, \"type\": \"scatter\", \"data\": [0.8390920275974533, 0.8487745681314566, 0.8132089305499204, 0.8086670203801379, 0.5288213490137637, 0.7005240843762679, 0.8442309511641335, 0.8448936762663463, 0.8321669404044818, 0.8452057763880654, 0.8435449404669018, 0.8421669452810462, 0.8366131479978778, 0.8254263092600107, 0.8492566165225803, 0.8402436282809524, 0.8324876964280141, 0.8409368319106769, 0.8406898339237228, 0.8451084889282482, 0.8378743494663088, 0.8454283915530102, 0.8303059215146219, 0.8456658802393807, 0.8490995911488406, 0.840215953777972, 0.8443354315564433, 0.8504894120033708, 0.8499206826800036]}, {\"categories\": [\"0\", \"1\", \"2\", \"3\", \"4\", \"5\", \"6\", \"7\", \"8\", \"9\", \"10\", \"11\", \"12\", \"13\", \"14\", \"15\", \"16\", \"17\", \"18\", \"19\", \"20\", \"21\", \"22\", \"23\", \"24\", \"25\", \"26\", \"27\", \"28\"], \"mode\": \"lines\", \"name\": \"AUC_micro_max\", \"stepped\": true, \"type\": \"scatter\", \"data\": [0.8390920275974533, 0.8487745681314566, 0.8487745681314566, 0.8487745681314566, 0.8487745681314566, 0.8487745681314566, 0.8487745681314566, 0.8487745681314566, 0.8487745681314566, 0.8487745681314566, 0.8487745681314566, 0.8487745681314566, 0.8487745681314566, 0.8487745681314566, 0.8492566165225803, 0.8492566165225803, 0.8492566165225803, 0.8492566165225803, 0.8492566165225803, 0.8492566165225803, 0.8492566165225803, 0.8492566165225803, 0.8492566165225803, 0.8492566165225803, 0.8492566165225803, 0.8492566165225803, 0.8492566165225803, 0.8504894120033708, 0.8504894120033708]}], \"recall_score_micro\": [{\"categories\": [\"0\", \"1\", \"2\", \"3\", \"4\", \"5\", \"6\", \"7\", \"8\", \"9\", \"10\", \"11\", \"12\", \"13\", \"14\", \"15\", \"16\", \"17\", \"18\", \"19\", \"20\", \"21\", \"22\", \"23\", \"24\", \"25\", \"26\", \"27\", \"28\"], \"mode\": \"markers\", \"name\": \"recall_score_micro\", \"stepped\": false, \"type\": \"scatter\", \"data\": [0.7761871508379888, 0.7866620111731844, 0.7740921787709497, 0.7740921787709497, 0.5097765363128491, 0.6632332402234637, 0.7840432960893855, 0.7740921787709497, 0.7800279329608938, 0.7795041899441341, 0.7822974860335196, 0.7829958100558659, 0.7740921787709497, 0.7740921787709497, 0.7871857541899441, 0.7740921787709497, 0.7740921787709497, 0.7777583798882681, 0.7740921787709497, 0.7740921787709497, 0.7740921787709497, 0.7770600558659218, 0.7700768156424581, 0.7740921787709497, 0.785963687150838, 0.7740921787709497, 0.7817737430167598, 0.7927723463687151, 0.7894553072625698]}, {\"categories\": [\"0\", \"1\", \"2\", \"3\", \"4\", \"5\", \"6\", \"7\", \"8\", \"9\", \"10\", \"11\", \"12\", \"13\", \"14\", \"15\", \"16\", \"17\", \"18\", \"19\", \"20\", \"21\", \"22\", \"23\", \"24\", \"25\", \"26\", \"27\", \"28\"], \"mode\": \"lines\", \"name\": \"recall_score_micro_max\", \"stepped\": true, \"type\": \"scatter\", \"data\": [0.7761871508379888, 0.7866620111731844, 0.7866620111731844, 0.7866620111731844, 0.7866620111731844, 0.7866620111731844, 0.7866620111731844, 0.7866620111731844, 0.7866620111731844, 0.7866620111731844, 0.7866620111731844, 0.7866620111731844, 0.7866620111731844, 0.7866620111731844, 0.7871857541899441, 0.7871857541899441, 0.7871857541899441, 0.7871857541899441, 0.7871857541899441, 0.7871857541899441, 0.7871857541899441, 0.7871857541899441, 0.7871857541899441, 0.7871857541899441, 0.7871857541899441, 0.7871857541899441, 0.7871857541899441, 0.7927723463687151, 0.7927723463687151]}], \"norm_macro_recall\": [{\"categories\": [\"0\", \"1\", \"2\", \"3\", \"4\", \"5\", \"6\", \"7\", \"8\", \"9\", \"10\", \"11\", \"12\", \"13\", \"14\", \"15\", \"16\", \"17\", \"18\", \"19\", \"20\", \"21\", \"22\", \"23\", \"24\", \"25\", \"26\", \"27\", \"28\"], \"mode\": \"markers\", \"name\": \"norm_macro_recall\", \"stepped\": false, \"type\": \"scatter\", \"data\": [0.1552329753528156, 0.13761466304718134, 0.0, 0.0, 0.11898656696579418, 0.19021457177960577, 0.16187990207188807, 0.0, 0.1371320655246518, 0.0331832198148565, 0.10503825941805733, 0.1595624308190255, 0.0, 0.0, 0.140424589601083, 0.0, 0.0, 0.1606816377903953, 0.0, 0.0, 0.0, 0.042398179118157464, 0.14586967104512655, 0.0, 0.14397336636526598, 0.0, 0.09625086565845176, 0.15466634477308377, 0.16234812453023606]}, {\"categories\": [\"0\", \"1\", \"2\", \"3\", \"4\", \"5\", \"6\", \"7\", \"8\", \"9\", \"10\", \"11\", \"12\", \"13\", \"14\", \"15\", \"16\", \"17\", \"18\", \"19\", \"20\", \"21\", \"22\", \"23\", \"24\", \"25\", \"26\", \"27\", \"28\"], \"mode\": \"lines\", \"name\": \"norm_macro_recall_max\", \"stepped\": true, \"type\": \"scatter\", \"data\": [0.1552329753528156, 0.1552329753528156, 0.1552329753528156, 0.1552329753528156, 0.1552329753528156, 0.19021457177960577, 0.19021457177960577, 0.19021457177960577, 0.19021457177960577, 0.19021457177960577, 0.19021457177960577, 0.19021457177960577, 0.19021457177960577, 0.19021457177960577, 0.19021457177960577, 0.19021457177960577, 0.19021457177960577, 0.19021457177960577, 0.19021457177960577, 0.19021457177960577, 0.19021457177960577, 0.19021457177960577, 0.19021457177960577, 0.19021457177960577, 0.19021457177960577, 0.19021457177960577, 0.19021457177960577, 0.19021457177960577, 0.19021457177960577]}], \"average_precision_score_weighted\": [{\"categories\": [\"0\", \"1\", \"2\", \"3\", \"4\", \"5\", \"6\", \"7\", \"8\", \"9\", \"10\", \"11\", \"12\", \"13\", \"14\", \"15\", \"16\", \"17\", \"18\", \"19\", \"20\", \"21\", \"22\", \"23\", \"24\", \"25\", \"26\", \"27\", \"28\"], \"mode\": \"markers\", \"name\": \"average_precision_score_weighted\", \"stepped\": false, \"type\": \"scatter\", \"data\": [0.7693780352590475, 0.7815502838229582, 0.7117983058285615, 0.7060866420334407, 0.6905523473153041, 0.7157951334245712, 0.775675944803038, 0.7708310961023299, 0.7586875916529005, 0.7762481864667575, 0.7693729072204383, 0.7742084549018793, 0.7607129296426194, 0.7367184118583722, 0.7816731772312058, 0.7599885459984907, 0.7533428502852124, 0.7729558585901204, 0.7680040422299004, 0.7750406398038783, 0.7609006784963399, 0.7740515361884729, 0.7572464437998798, 0.7762732090297397, 0.7813963838233384, 0.7645417453768647, 0.7727166065890625, 0.7848790531674236, 0.7844187422414725]}, {\"categories\": [\"0\", \"1\", \"2\", \"3\", \"4\", \"5\", \"6\", \"7\", \"8\", \"9\", \"10\", \"11\", \"12\", \"13\", \"14\", \"15\", \"16\", \"17\", \"18\", \"19\", \"20\", \"21\", \"22\", \"23\", \"24\", \"25\", \"26\", \"27\", \"28\"], \"mode\": \"lines\", \"name\": \"average_precision_score_weighted_max\", \"stepped\": true, \"type\": \"scatter\", \"data\": [0.7693780352590475, 0.7815502838229582, 0.7815502838229582, 0.7815502838229582, 0.7815502838229582, 0.7815502838229582, 0.7815502838229582, 0.7815502838229582, 0.7815502838229582, 0.7815502838229582, 0.7815502838229582, 0.7815502838229582, 0.7815502838229582, 0.7815502838229582, 0.7816731772312058, 0.7816731772312058, 0.7816731772312058, 0.7816731772312058, 0.7816731772312058, 0.7816731772312058, 0.7816731772312058, 0.7816731772312058, 0.7816731772312058, 0.7816731772312058, 0.7816731772312058, 0.7816731772312058, 0.7816731772312058, 0.7848790531674236, 0.7848790531674236]}], \"f1_score_weighted\": [{\"categories\": [\"0\", \"1\", \"2\", \"3\", \"4\", \"5\", \"6\", \"7\", \"8\", \"9\", \"10\", \"11\", \"12\", \"13\", \"14\", \"15\", \"16\", \"17\", \"18\", \"19\", \"20\", \"21\", \"22\", \"23\", \"24\", \"25\", \"26\", \"27\", \"28\"], \"mode\": \"markers\", \"name\": \"f1_score_weighted\", \"stepped\": false, \"type\": \"scatter\", \"data\": [0.7392527456628599, 0.7374761174912019, 0.6755765715803896, 0.6755765715803896, 0.523105378015854, 0.6729094440654856, 0.7441693105832201, 0.6755765715803896, 0.7353523799118283, 0.6929889273259107, 0.7251341812266772, 0.7432565189091731, 0.6755765715803896, 0.6755765715803896, 0.7386580843021064, 0.6755765715803896, 0.6755765715803896, 0.7413047225175544, 0.6755765715803896, 0.6755765715803896, 0.6755765715803896, 0.6978464727788042, 0.7342755881420018, 0.6755765715803896, 0.7393516968586595, 0.6755765715803896, 0.7211840266306601, 0.7450026218268274, 0.7460533086944993]}, {\"categories\": [\"0\", \"1\", \"2\", \"3\", \"4\", \"5\", \"6\", \"7\", \"8\", \"9\", \"10\", \"11\", \"12\", \"13\", \"14\", \"15\", \"16\", \"17\", \"18\", \"19\", \"20\", \"21\", \"22\", \"23\", \"24\", \"25\", \"26\", \"27\", \"28\"], \"mode\": \"lines\", \"name\": \"f1_score_weighted_max\", \"stepped\": true, \"type\": \"scatter\", \"data\": [0.7392527456628599, 0.7392527456628599, 0.7392527456628599, 0.7392527456628599, 0.7392527456628599, 0.7392527456628599, 0.7441693105832201, 0.7441693105832201, 0.7441693105832201, 0.7441693105832201, 0.7441693105832201, 0.7441693105832201, 0.7441693105832201, 0.7441693105832201, 0.7441693105832201, 0.7441693105832201, 0.7441693105832201, 0.7441693105832201, 0.7441693105832201, 0.7441693105832201, 0.7441693105832201, 0.7441693105832201, 0.7441693105832201, 0.7441693105832201, 0.7441693105832201, 0.7441693105832201, 0.7441693105832201, 0.7450026218268274, 0.7460533086944993]}], \"precision_score_weighted\": [{\"categories\": [\"0\", \"1\", \"2\", \"3\", \"4\", \"5\", \"6\", \"7\", \"8\", \"9\", \"10\", \"11\", \"12\", \"13\", \"14\", \"15\", \"16\", \"17\", \"18\", \"19\", \"20\", \"21\", \"22\", \"23\", \"24\", \"25\", \"26\", \"27\", \"28\"], \"mode\": \"markers\", \"name\": \"precision_score_weighted\", \"stepped\": false, \"type\": \"scatter\", \"data\": [0.7384964294666672, 0.7555170626621043, 0.5993734102400049, 0.5993734102400049, 0.6959036247087862, 0.7187897354549075, 0.750511270796294, 0.5993734102400049, 0.7414603154647126, 0.7300323734874612, 0.7463529947415324, 0.7484460723905855, 0.5993734102400049, 0.5993734102400049, 0.7557176512827869, 0.5993734102400049, 0.5993734102400049, 0.7411262091701822, 0.5993734102400049, 0.5993734102400049, 0.5993734102400049, 0.749173202243187, 0.7299812733497806, 0.5993734102400049, 0.7528093155143472, 0.5993734102400049, 0.7477436348690903, 0.7684261306549555, 0.7613653812181165]}, {\"categories\": [\"0\", \"1\", \"2\", \"3\", \"4\", \"5\", \"6\", \"7\", \"8\", \"9\", \"10\", \"11\", \"12\", \"13\", \"14\", \"15\", \"16\", \"17\", \"18\", \"19\", \"20\", \"21\", \"22\", \"23\", \"24\", \"25\", \"26\", \"27\", \"28\"], \"mode\": \"lines\", \"name\": \"precision_score_weighted_max\", \"stepped\": true, \"type\": \"scatter\", \"data\": [0.7384964294666672, 0.7555170626621043, 0.7555170626621043, 0.7555170626621043, 0.7555170626621043, 0.7555170626621043, 0.7555170626621043, 0.7555170626621043, 0.7555170626621043, 0.7555170626621043, 0.7555170626621043, 0.7555170626621043, 0.7555170626621043, 0.7555170626621043, 0.7557176512827869, 0.7557176512827869, 0.7557176512827869, 0.7557176512827869, 0.7557176512827869, 0.7557176512827869, 0.7557176512827869, 0.7557176512827869, 0.7557176512827869, 0.7557176512827869, 0.7557176512827869, 0.7557176512827869, 0.7557176512827869, 0.7684261306549555, 0.7684261306549555]}], \"precision_score_macro\": [{\"categories\": [\"0\", \"1\", \"2\", \"3\", \"4\", \"5\", \"6\", \"7\", \"8\", \"9\", \"10\", \"11\", \"12\", \"13\", \"14\", \"15\", \"16\", \"17\", \"18\", \"19\", \"20\", \"21\", \"22\", \"23\", \"24\", \"25\", \"26\", \"27\", \"28\"], \"mode\": \"markers\", \"name\": \"precision_score_macro\", \"stepped\": false, \"type\": \"scatter\", \"data\": [0.6579035411770464, 0.7004404010772041, 0.38704608938547486, 0.38704608938547486, 0.5520208716286653, 0.5834857504763149, 0.6830944852283634, 0.38704608938547486, 0.6692624457290857, 0.6679405815951257, 0.6888111408152595, 0.6787939859046697, 0.38704608938547486, 0.38704608938547486, 0.7021274577558763, 0.38704608938547486, 0.38704608938547486, 0.6628250360196339, 0.38704608938547486, 0.38704608938547486, 0.38704608938547486, 0.7085583740281846, 0.641126552352645, 0.38704608938547486, 0.6943410032301596, 0.38704608938547486, 0.6935616498872645, 0.7258679210714258, 0.707920768311244]}, {\"categories\": [\"0\", \"1\", \"2\", \"3\", \"4\", \"5\", \"6\", \"7\", \"8\", \"9\", \"10\", \"11\", \"12\", \"13\", \"14\", \"15\", \"16\", \"17\", \"18\", \"19\", \"20\", \"21\", \"22\", \"23\", \"24\", \"25\", \"26\", \"27\", \"28\"], \"mode\": \"lines\", \"name\": \"precision_score_macro_max\", \"stepped\": true, \"type\": \"scatter\", \"data\": [0.6579035411770464, 0.7004404010772041, 0.7004404010772041, 0.7004404010772041, 0.7004404010772041, 0.7004404010772041, 0.7004404010772041, 0.7004404010772041, 0.7004404010772041, 0.7004404010772041, 0.7004404010772041, 0.7004404010772041, 0.7004404010772041, 0.7004404010772041, 0.7021274577558763, 0.7021274577558763, 0.7021274577558763, 0.7021274577558763, 0.7021274577558763, 0.7021274577558763, 0.7021274577558763, 0.7085583740281846, 0.7085583740281846, 0.7085583740281846, 0.7085583740281846, 0.7085583740281846, 0.7085583740281846, 0.7258679210714258, 0.7258679210714258]}], \"f1_score_micro\": [{\"categories\": [\"0\", \"1\", \"2\", \"3\", \"4\", \"5\", \"6\", \"7\", \"8\", \"9\", \"10\", \"11\", \"12\", \"13\", \"14\", \"15\", \"16\", \"17\", \"18\", \"19\", \"20\", \"21\", \"22\", \"23\", \"24\", \"25\", \"26\", \"27\", \"28\"], \"mode\": \"markers\", \"name\": \"f1_score_micro\", \"stepped\": false, \"type\": \"scatter\", \"data\": [0.7761871508379888, 0.7866620111731844, 0.7740921787709497, 0.7740921787709497, 0.5097765363128491, 0.6632332402234637, 0.7840432960893855, 0.7740921787709497, 0.7800279329608938, 0.7795041899441341, 0.7822974860335196, 0.7829958100558659, 0.7740921787709497, 0.7740921787709497, 0.7871857541899441, 0.7740921787709497, 0.7740921787709497, 0.7777583798882681, 0.7740921787709497, 0.7740921787709497, 0.7740921787709497, 0.7770600558659218, 0.7700768156424581, 0.7740921787709497, 0.7859636871508381, 0.7740921787709497, 0.7817737430167598, 0.7927723463687151, 0.7894553072625698]}, {\"categories\": [\"0\", \"1\", \"2\", \"3\", \"4\", \"5\", \"6\", \"7\", \"8\", \"9\", \"10\", \"11\", \"12\", \"13\", \"14\", \"15\", \"16\", \"17\", \"18\", \"19\", \"20\", \"21\", \"22\", \"23\", \"24\", \"25\", \"26\", \"27\", \"28\"], \"mode\": \"lines\", \"name\": \"f1_score_micro_max\", \"stepped\": true, \"type\": \"scatter\", \"data\": [0.7761871508379888, 0.7866620111731844, 0.7866620111731844, 0.7866620111731844, 0.7866620111731844, 0.7866620111731844, 0.7866620111731844, 0.7866620111731844, 0.7866620111731844, 0.7866620111731844, 0.7866620111731844, 0.7866620111731844, 0.7866620111731844, 0.7866620111731844, 0.7871857541899441, 0.7871857541899441, 0.7871857541899441, 0.7871857541899441, 0.7871857541899441, 0.7871857541899441, 0.7871857541899441, 0.7871857541899441, 0.7871857541899441, 0.7871857541899441, 0.7871857541899441, 0.7871857541899441, 0.7871857541899441, 0.7927723463687151, 0.7927723463687151]}], \"weighted_accuracy\": [{\"categories\": [\"0\", \"1\", \"2\", \"3\", \"4\", \"5\", \"6\", \"7\", \"8\", \"9\", \"10\", \"11\", \"12\", \"13\", \"14\", \"15\", \"16\", \"17\", \"18\", \"19\", \"20\", \"21\", \"22\", \"23\", \"24\", \"25\", \"26\", \"27\", \"28\"], \"mode\": \"markers\", \"name\": \"weighted_accuracy\", \"stepped\": false, \"type\": \"scatter\", \"data\": [0.8827770308330611, 0.9036139226091049, 0.9211034650463791, 0.9211034650463791, 0.48439688537699865, 0.7004175069058843, 0.8930347121122815, 0.9211034650463791, 0.8935192954742657, 0.9205164090268078, 0.9055844147550196, 0.8919727273820188, 0.9211034650463791, 0.9211034650463791, 0.9035918469153046, 0.9211034650463791, 0.9211034650463791, 0.8837393311447966, 0.9211034650463791, 0.9211034650463791, 0.9211034650463791, 0.9142341765447819, 0.8759338141026759, 0.9211034650463791, 0.9008093292075992, 0.9211034650463791, 0.9072706943279436, 0.9083737862066248, 0.901315967913525]}, {\"categories\": [\"0\", \"1\", \"2\", \"3\", \"4\", \"5\", \"6\", \"7\", \"8\", \"9\", \"10\", \"11\", \"12\", \"13\", \"14\", \"15\", \"16\", \"17\", \"18\", \"19\", \"20\", \"21\", \"22\", \"23\", \"24\", \"25\", \"26\", \"27\", \"28\"], \"mode\": \"lines\", \"name\": \"weighted_accuracy_max\", \"stepped\": true, \"type\": \"scatter\", \"data\": [0.8827770308330611, 0.9036139226091049, 0.9211034650463791, 0.9211034650463791, 0.9211034650463791, 0.9211034650463791, 0.9211034650463791, 0.9211034650463791, 0.9211034650463791, 0.9211034650463791, 0.9211034650463791, 0.9211034650463791, 0.9211034650463791, 0.9211034650463791, 0.9211034650463791, 0.9211034650463791, 0.9211034650463791, 0.9211034650463791, 0.9211034650463791, 0.9211034650463791, 0.9211034650463791, 0.9211034650463791, 0.9211034650463791, 0.9211034650463791, 0.9211034650463791, 0.9211034650463791, 0.9211034650463791, 0.9211034650463791, 0.9211034650463791]}], \"recall_score_weighted\": [{\"categories\": [\"0\", \"1\", \"2\", \"3\", \"4\", \"5\", \"6\", \"7\", \"8\", \"9\", \"10\", \"11\", \"12\", \"13\", \"14\", \"15\", \"16\", \"17\", \"18\", \"19\", \"20\", \"21\", \"22\", \"23\", \"24\", \"25\", \"26\", \"27\", \"28\"], \"mode\": \"markers\", \"name\": \"recall_score_weighted\", \"stepped\": false, \"type\": \"scatter\", \"data\": [0.7761871508379888, 0.7866620111731844, 0.7740921787709497, 0.7740921787709497, 0.5097765363128491, 0.6632332402234637, 0.7840432960893855, 0.7740921787709497, 0.7800279329608938, 0.7795041899441341, 0.7822974860335196, 0.7829958100558659, 0.7740921787709497, 0.7740921787709497, 0.7871857541899441, 0.7740921787709497, 0.7740921787709497, 0.7777583798882681, 0.7740921787709497, 0.7740921787709497, 0.7740921787709497, 0.7770600558659218, 0.7700768156424581, 0.7740921787709497, 0.785963687150838, 0.7740921787709497, 0.7817737430167598, 0.7927723463687151, 0.7894553072625698]}, {\"categories\": [\"0\", \"1\", \"2\", \"3\", \"4\", \"5\", \"6\", \"7\", \"8\", \"9\", \"10\", \"11\", \"12\", \"13\", \"14\", \"15\", \"16\", \"17\", \"18\", \"19\", \"20\", \"21\", \"22\", \"23\", \"24\", \"25\", \"26\", \"27\", \"28\"], \"mode\": \"lines\", \"name\": \"recall_score_weighted_max\", \"stepped\": true, \"type\": \"scatter\", \"data\": [0.7761871508379888, 0.7866620111731844, 0.7866620111731844, 0.7866620111731844, 0.7866620111731844, 0.7866620111731844, 0.7866620111731844, 0.7866620111731844, 0.7866620111731844, 0.7866620111731844, 0.7866620111731844, 0.7866620111731844, 0.7866620111731844, 0.7866620111731844, 0.7871857541899441, 0.7871857541899441, 0.7871857541899441, 0.7871857541899441, 0.7871857541899441, 0.7871857541899441, 0.7871857541899441, 0.7871857541899441, 0.7871857541899441, 0.7871857541899441, 0.7871857541899441, 0.7871857541899441, 0.7871857541899441, 0.7927723463687151, 0.7927723463687151]}], \"accuracy\": [{\"categories\": [\"0\", \"1\", \"2\", \"3\", \"4\", \"5\", \"6\", \"7\", \"8\", \"9\", \"10\", \"11\", \"12\", \"13\", \"14\", \"15\", \"16\", \"17\", \"18\", \"19\", \"20\", \"21\", \"22\", \"23\", \"24\", \"25\", \"26\", \"27\", \"28\"], \"mode\": \"markers\", \"name\": \"accuracy\", \"stepped\": false, \"type\": \"scatter\", \"data\": [0.7761871508379888, 0.7866620111731844, 0.7740921787709497, 0.7740921787709497, 0.5097765363128491, 0.6632332402234637, 0.7840432960893855, 0.7740921787709497, 0.7800279329608938, 0.7795041899441341, 0.7822974860335196, 0.7829958100558659, 0.7740921787709497, 0.7740921787709497, 0.7871857541899441, 0.7740921787709497, 0.7740921787709497, 0.7777583798882681, 0.7740921787709497, 0.7740921787709497, 0.7740921787709497, 0.7770600558659218, 0.7700768156424581, 0.7740921787709497, 0.785963687150838, 0.7740921787709497, 0.7817737430167598, 0.7927723463687151, 0.7894553072625698]}, {\"categories\": [\"0\", \"1\", \"2\", \"3\", \"4\", \"5\", \"6\", \"7\", \"8\", \"9\", \"10\", \"11\", \"12\", \"13\", \"14\", \"15\", \"16\", \"17\", \"18\", \"19\", \"20\", \"21\", \"22\", \"23\", \"24\", \"25\", \"26\", \"27\", \"28\"], \"mode\": \"lines\", \"name\": \"accuracy_max\", \"stepped\": true, \"type\": \"scatter\", \"data\": [0.7761871508379888, 0.7866620111731844, 0.7866620111731844, 0.7866620111731844, 0.7866620111731844, 0.7866620111731844, 0.7866620111731844, 0.7866620111731844, 0.7866620111731844, 0.7866620111731844, 0.7866620111731844, 0.7866620111731844, 0.7866620111731844, 0.7866620111731844, 0.7871857541899441, 0.7871857541899441, 0.7871857541899441, 0.7871857541899441, 0.7871857541899441, 0.7871857541899441, 0.7871857541899441, 0.7871857541899441, 0.7871857541899441, 0.7871857541899441, 0.7871857541899441, 0.7871857541899441, 0.7871857541899441, 0.7927723463687151, 0.7927723463687151]}], \"average_precision_score_macro\": [{\"categories\": [\"0\", \"1\", \"2\", \"3\", \"4\", \"5\", \"6\", \"7\", \"8\", \"9\", \"10\", \"11\", \"12\", \"13\", \"14\", \"15\", \"16\", \"17\", \"18\", \"19\", \"20\", \"21\", \"22\", \"23\", \"24\", \"25\", \"26\", \"27\", \"28\"], \"mode\": \"markers\", \"name\": \"average_precision_score_macro\", \"stepped\": false, \"type\": \"scatter\", \"data\": [0.6469890194505667, 0.6622745862423901, 0.5748524382935761, 0.5636661583665242, 0.5471599466447432, 0.5774582684779983, 0.654952604051267, 0.6436107200334764, 0.6329090562462594, 0.6578800004101075, 0.6468069753753733, 0.6534841727840393, 0.632453141128783, 0.6063851751744576, 0.6630387124090309, 0.6301238798306337, 0.623761263839389, 0.6493661030777439, 0.6434359882128854, 0.6554072888818542, 0.6366826182393494, 0.6522468322150548, 0.625127618170956, 0.6555124440056573, 0.6630849769772437, 0.638969877351724, 0.6503239135417064, 0.6685843631823598, 0.6678227680901454]}, {\"categories\": [\"0\", \"1\", \"2\", \"3\", \"4\", \"5\", \"6\", \"7\", \"8\", \"9\", \"10\", \"11\", \"12\", \"13\", \"14\", \"15\", \"16\", \"17\", \"18\", \"19\", \"20\", \"21\", \"22\", \"23\", \"24\", \"25\", \"26\", \"27\", \"28\"], \"mode\": \"lines\", \"name\": \"average_precision_score_macro_max\", \"stepped\": true, \"type\": \"scatter\", \"data\": [0.6469890194505667, 0.6622745862423901, 0.6622745862423901, 0.6622745862423901, 0.6622745862423901, 0.6622745862423901, 0.6622745862423901, 0.6622745862423901, 0.6622745862423901, 0.6622745862423901, 0.6622745862423901, 0.6622745862423901, 0.6622745862423901, 0.6622745862423901, 0.6630387124090309, 0.6630387124090309, 0.6630387124090309, 0.6630387124090309, 0.6630387124090309, 0.6630387124090309, 0.6630387124090309, 0.6630387124090309, 0.6630387124090309, 0.6630387124090309, 0.6630849769772437, 0.6630849769772437, 0.6630849769772437, 0.6685843631823598, 0.6685843631823598]}], \"recall_score_macro\": [{\"categories\": [\"0\", \"1\", \"2\", \"3\", \"4\", \"5\", \"6\", \"7\", \"8\", \"9\", \"10\", \"11\", \"12\", \"13\", \"14\", \"15\", \"16\", \"17\", \"18\", \"19\", \"20\", \"21\", \"22\", \"23\", \"24\", \"25\", \"26\", \"27\", \"28\"], \"mode\": \"markers\", \"name\": \"recall_score_macro\", \"stepped\": false, \"type\": \"scatter\", \"data\": [0.5776164876764078, 0.5688073315235908, 0.5, 0.5, 0.5594932834828972, 0.5951072858898029, 0.5809399510359441, 0.5, 0.5685660327623259, 0.5165916099074283, 0.5525191297090286, 0.5797812154095128, 0.5, 0.5, 0.5702122948005415, 0.5, 0.5, 0.5803408188951977, 0.5, 0.5, 0.5, 0.5211990895590788, 0.5729348355225632, 0.5, 0.571986683182633, 0.5, 0.5481254328292259, 0.5773331723865419, 0.581174062265118]}, {\"categories\": [\"0\", \"1\", \"2\", \"3\", \"4\", \"5\", \"6\", \"7\", \"8\", \"9\", \"10\", \"11\", \"12\", \"13\", \"14\", \"15\", \"16\", \"17\", \"18\", \"19\", \"20\", \"21\", \"22\", \"23\", \"24\", \"25\", \"26\", \"27\", \"28\"], \"mode\": \"lines\", \"name\": \"recall_score_macro_max\", \"stepped\": true, \"type\": \"scatter\", \"data\": [0.5776164876764078, 0.5776164876764078, 0.5776164876764078, 0.5776164876764078, 0.5776164876764078, 0.5951072858898029, 0.5951072858898029, 0.5951072858898029, 0.5951072858898029, 0.5951072858898029, 0.5951072858898029, 0.5951072858898029, 0.5951072858898029, 0.5951072858898029, 0.5951072858898029, 0.5951072858898029, 0.5951072858898029, 0.5951072858898029, 0.5951072858898029, 0.5951072858898029, 0.5951072858898029, 0.5951072858898029, 0.5951072858898029, 0.5951072858898029, 0.5951072858898029, 0.5951072858898029, 0.5951072858898029, 0.5951072858898029, 0.5951072858898029]}], \"balanced_accuracy\": [{\"categories\": [\"0\", \"1\", \"2\", \"3\", \"4\", \"5\", \"6\", \"7\", \"8\", \"9\", \"10\", \"11\", \"12\", \"13\", \"14\", \"15\", \"16\", \"17\", \"18\", \"19\", \"20\", \"21\", \"22\", \"23\", \"24\", \"25\", \"26\", \"27\", \"28\"], \"mode\": \"markers\", \"name\": \"balanced_accuracy\", \"stepped\": false, \"type\": \"scatter\", \"data\": [0.5776164876764078, 0.5688073315235908, 0.5, 0.5, 0.5594932834828972, 0.5951072858898029, 0.5809399510359441, 0.5, 0.5685660327623259, 0.5165916099074283, 0.5525191297090286, 0.5797812154095128, 0.5, 0.5, 0.5702122948005415, 0.5, 0.5, 0.5803408188951977, 0.5, 0.5, 0.5, 0.5211990895590788, 0.5729348355225632, 0.5, 0.571986683182633, 0.5, 0.5481254328292259, 0.5773331723865419, 0.581174062265118]}, {\"categories\": [\"0\", \"1\", \"2\", \"3\", \"4\", \"5\", \"6\", \"7\", \"8\", \"9\", \"10\", \"11\", \"12\", \"13\", \"14\", \"15\", \"16\", \"17\", \"18\", \"19\", \"20\", \"21\", \"22\", \"23\", \"24\", \"25\", \"26\", \"27\", \"28\"], \"mode\": \"lines\", \"name\": \"balanced_accuracy_max\", \"stepped\": true, \"type\": \"scatter\", \"data\": [0.5776164876764078, 0.5776164876764078, 0.5776164876764078, 0.5776164876764078, 0.5776164876764078, 0.5951072858898029, 0.5951072858898029, 0.5951072858898029, 0.5951072858898029, 0.5951072858898029, 0.5951072858898029, 0.5951072858898029, 0.5951072858898029, 0.5951072858898029, 0.5951072858898029, 0.5951072858898029, 0.5951072858898029, 0.5951072858898029, 0.5951072858898029, 0.5951072858898029, 0.5951072858898029, 0.5951072858898029, 0.5951072858898029, 0.5951072858898029, 0.5951072858898029, 0.5951072858898029, 0.5951072858898029, 0.5951072858898029, 0.5951072858898029]}], \"log_loss\": [{\"categories\": [\"0\", \"1\", \"2\", \"3\", \"4\", \"5\", \"6\", \"7\", \"8\", \"9\", \"10\", \"11\", \"12\", \"13\", \"14\", \"15\", \"16\", \"17\", \"18\", \"19\", \"20\", \"21\", \"22\", \"23\", \"24\", \"25\", \"26\", \"27\", \"28\"], \"mode\": \"markers\", \"name\": \"log_loss\", \"stepped\": false, \"type\": \"scatter\", \"data\": [0.5076344240159165, 0.4819757778593257, 0.5273643817678627, 0.5304539527161118, 0.6918032360333312, 0.6833940197811583, 0.4880167538810709, 0.48957766614948317, 0.5085495873056385, 0.489311262165585, 0.48895214283413974, 0.4896141558238611, 0.508271753400815, 0.533512911882957, 0.48130305672887813, 0.5171831031448716, 0.5170585051932881, 0.4998171513628378, 0.5011523017925997, 0.4982396256807028, 0.5228207682864489, 0.49282938150918276, 0.5167041053933804, 0.4940697672588388, 0.48163936019190356, 0.5346106362540797, 0.48868328394125676, 0.49420516150558047, 0.48072340958318416]}, {\"categories\": [\"0\", \"1\", \"2\", \"3\", \"4\", \"5\", \"6\", \"7\", \"8\", \"9\", \"10\", \"11\", \"12\", \"13\", \"14\", \"15\", \"16\", \"17\", \"18\", \"19\", \"20\", \"21\", \"22\", \"23\", \"24\", \"25\", \"26\", \"27\", \"28\"], \"mode\": \"lines\", \"name\": \"log_loss_min\", \"stepped\": true, \"type\": \"scatter\", \"data\": [0.5076344240159165, 0.4819757778593257, 0.4819757778593257, 0.4819757778593257, 0.4819757778593257, 0.4819757778593257, 0.4819757778593257, 0.4819757778593257, 0.4819757778593257, 0.4819757778593257, 0.4819757778593257, 0.4819757778593257, 0.4819757778593257, 0.4819757778593257, 0.48130305672887813, 0.48130305672887813, 0.48130305672887813, 0.48130305672887813, 0.48130305672887813, 0.48130305672887813, 0.48130305672887813, 0.48130305672887813, 0.48130305672887813, 0.48130305672887813, 0.48130305672887813, 0.48130305672887813, 0.48130305672887813, 0.48130305672887813, 0.48072340958318416]}], \"precision_score_micro\": [{\"categories\": [\"0\", \"1\", \"2\", \"3\", \"4\", \"5\", \"6\", \"7\", \"8\", \"9\", \"10\", \"11\", \"12\", \"13\", \"14\", \"15\", \"16\", \"17\", \"18\", \"19\", \"20\", \"21\", \"22\", \"23\", \"24\", \"25\", \"26\", \"27\", \"28\"], \"mode\": \"markers\", \"name\": \"precision_score_micro\", \"stepped\": false, \"type\": \"scatter\", \"data\": [0.7761871508379888, 0.7866620111731844, 0.7740921787709497, 0.7740921787709497, 0.5097765363128491, 0.6632332402234637, 0.7840432960893855, 0.7740921787709497, 0.7800279329608938, 0.7795041899441341, 0.7822974860335196, 0.7829958100558659, 0.7740921787709497, 0.7740921787709497, 0.7871857541899441, 0.7740921787709497, 0.7740921787709497, 0.7777583798882681, 0.7740921787709497, 0.7740921787709497, 0.7740921787709497, 0.7770600558659218, 0.7700768156424581, 0.7740921787709497, 0.785963687150838, 0.7740921787709497, 0.7817737430167598, 0.7927723463687151, 0.7894553072625698]}, {\"categories\": [\"0\", \"1\", \"2\", \"3\", \"4\", \"5\", \"6\", \"7\", \"8\", \"9\", \"10\", \"11\", \"12\", \"13\", \"14\", \"15\", \"16\", \"17\", \"18\", \"19\", \"20\", \"21\", \"22\", \"23\", \"24\", \"25\", \"26\", \"27\", \"28\"], \"mode\": \"lines\", \"name\": \"precision_score_micro_max\", \"stepped\": true, \"type\": \"scatter\", \"data\": [0.7761871508379888, 0.7866620111731844, 0.7866620111731844, 0.7866620111731844, 0.7866620111731844, 0.7866620111731844, 0.7866620111731844, 0.7866620111731844, 0.7866620111731844, 0.7866620111731844, 0.7866620111731844, 0.7866620111731844, 0.7866620111731844, 0.7866620111731844, 0.7871857541899441, 0.7871857541899441, 0.7871857541899441, 0.7871857541899441, 0.7871857541899441, 0.7871857541899441, 0.7871857541899441, 0.7871857541899441, 0.7871857541899441, 0.7871857541899441, 0.7871857541899441, 0.7871857541899441, 0.7871857541899441, 0.7927723463687151, 0.7927723463687151]}], \"AUC_macro\": [{\"categories\": [\"0\", \"1\", \"2\", \"3\", \"4\", \"5\", \"6\", \"7\", \"8\", \"9\", \"10\", \"11\", \"12\", \"13\", \"14\", \"15\", \"16\", \"17\", \"18\", \"19\", \"20\", \"21\", \"22\", \"23\", \"24\", \"25\", \"26\", \"27\", \"28\"], \"mode\": \"markers\", \"name\": \"AUC_macro\", \"stepped\": false, \"type\": \"scatter\", \"data\": [0.6896792870063807, 0.7098680361009324, 0.6119706173639691, 0.5983424073459203, 0.5743628243621116, 0.6213111533753006, 0.7001259838158573, 0.7026694214989933, 0.6733014123309955, 0.7030885842522856, 0.6976275715572489, 0.6939598333236097, 0.6783937503014766, 0.646160082875406, 0.7115775679560061, 0.6891928145102122, 0.6664448688495272, 0.6961664368775355, 0.6903376769552384, 0.7032996140051848, 0.6820853598897212, 0.7038543776936708, 0.6750113247160587, 0.7047238905219775, 0.7107307111372118, 0.6888827386567287, 0.6995252184707126, 0.713462761123272, 0.7125122387568072]}, {\"categories\": [\"0\", \"1\", \"2\", \"3\", \"4\", \"5\", \"6\", \"7\", \"8\", \"9\", \"10\", \"11\", \"12\", \"13\", \"14\", \"15\", \"16\", \"17\", \"18\", \"19\", \"20\", \"21\", \"22\", \"23\", \"24\", \"25\", \"26\", \"27\", \"28\"], \"mode\": \"lines\", \"name\": \"AUC_macro_max\", \"stepped\": true, \"type\": \"scatter\", \"data\": [0.6896792870063807, 0.7098680361009324, 0.7098680361009324, 0.7098680361009324, 0.7098680361009324, 0.7098680361009324, 0.7098680361009324, 0.7098680361009324, 0.7098680361009324, 0.7098680361009324, 0.7098680361009324, 0.7098680361009324, 0.7098680361009324, 0.7098680361009324, 0.7115775679560061, 0.7115775679560061, 0.7115775679560061, 0.7115775679560061, 0.7115775679560061, 0.7115775679560061, 0.7115775679560061, 0.7115775679560061, 0.7115775679560061, 0.7115775679560061, 0.7115775679560061, 0.7115775679560061, 0.7115775679560061, 0.713462761123272, 0.713462761123272]}], \"AUC_weighted\": [{\"categories\": [\"0\", \"1\", \"2\", \"3\", \"4\", \"5\", \"6\", \"7\", \"8\", \"9\", \"10\", \"11\", \"12\", \"13\", \"14\", \"15\", \"16\", \"17\", \"18\", \"19\", \"20\", \"21\", \"22\", \"23\", \"24\", \"25\", \"26\", \"27\", \"28\"], \"mode\": \"markers\", \"name\": \"AUC_weighted\", \"stepped\": false, \"type\": \"scatter\", \"data\": [0.6896792870063807, 0.7098680361009324, 0.6119706173639691, 0.5983424073459203, 0.5743628243621116, 0.6213111533753006, 0.7001259838158573, 0.7026694214989933, 0.6733014123309954, 0.7030885842522856, 0.6976275715572489, 0.6939598333236097, 0.6783937503014766, 0.646160082875406, 0.7115775679560061, 0.6891928145102122, 0.6664448688495272, 0.6961664368775355, 0.6903376769552384, 0.7032996140051848, 0.6820853598897212, 0.7038543776936708, 0.6750113247160587, 0.7047238905219775, 0.7107307111372118, 0.6888827386567287, 0.6995252184707126, 0.713462761123272, 0.712512238756807]}, {\"categories\": [\"0\", \"1\", \"2\", \"3\", \"4\", \"5\", \"6\", \"7\", \"8\", \"9\", \"10\", \"11\", \"12\", \"13\", \"14\", \"15\", \"16\", \"17\", \"18\", \"19\", \"20\", \"21\", \"22\", \"23\", \"24\", \"25\", \"26\", \"27\", \"28\"], \"mode\": \"lines\", \"name\": \"AUC_weighted_max\", \"stepped\": true, \"type\": \"scatter\", \"data\": [0.6896792870063807, 0.7098680361009324, 0.7098680361009324, 0.7098680361009324, 0.7098680361009324, 0.7098680361009324, 0.7098680361009324, 0.7098680361009324, 0.7098680361009324, 0.7098680361009324, 0.7098680361009324, 0.7098680361009324, 0.7098680361009324, 0.7098680361009324, 0.7115775679560061, 0.7115775679560061, 0.7115775679560061, 0.7115775679560061, 0.7115775679560061, 0.7115775679560061, 0.7115775679560061, 0.7115775679560061, 0.7115775679560061, 0.7115775679560061, 0.7115775679560061, 0.7115775679560061, 0.7115775679560061, 0.713462761123272, 0.713462761123272]}], \"matthews_correlation\": [{\"categories\": [\"0\", \"1\", \"2\", \"3\", \"4\", \"5\", \"6\", \"7\", \"8\", \"9\", \"10\", \"11\", \"12\", \"13\", \"14\", \"15\", \"16\", \"17\", \"18\", \"19\", \"20\", \"21\", \"22\", \"23\", \"24\", \"25\", \"26\", \"27\", \"28\"], \"mode\": \"markers\", \"name\": \"matthews_correlation\", \"stepped\": false, \"type\": \"scatter\", \"data\": [0.22125228045176082, 0.23446516493010128, 0.0, 0.0, 0.11113259498230343, 0.17731974618147336, 0.24325655640096436, 0.0, 0.2153413850657672, 0.11351942017310135, 0.19894855035478737, 0.23875989876707313, 0.0, 0.0, 0.23817838663011398, 0.0, 0.0, 0.22858126640242205, 0.0, 0.0, 0.0, 0.1278528066978581, 0.20273692126444118, 0.0, 0.23650006947700397, 0.0, 0.1914633737425212, 0.26418389157836886, 0.25919514435076363]}, {\"categories\": [\"0\", \"1\", \"2\", \"3\", \"4\", \"5\", \"6\", \"7\", \"8\", \"9\", \"10\", \"11\", \"12\", \"13\", \"14\", \"15\", \"16\", \"17\", \"18\", \"19\", \"20\", \"21\", \"22\", \"23\", \"24\", \"25\", \"26\", \"27\", \"28\"], \"mode\": \"lines\", \"name\": \"matthews_correlation_max\", \"stepped\": true, \"type\": \"scatter\", \"data\": [0.22125228045176082, 0.23446516493010128, 0.23446516493010128, 0.23446516493010128, 0.23446516493010128, 0.23446516493010128, 0.24325655640096436, 0.24325655640096436, 0.24325655640096436, 0.24325655640096436, 0.24325655640096436, 0.24325655640096436, 0.24325655640096436, 0.24325655640096436, 0.24325655640096436, 0.24325655640096436, 0.24325655640096436, 0.24325655640096436, 0.24325655640096436, 0.24325655640096436, 0.24325655640096436, 0.24325655640096436, 0.24325655640096436, 0.24325655640096436, 0.24325655640096436, 0.24325655640096436, 0.24325655640096436, 0.26418389157836886, 0.26418389157836886]}], \"average_precision_score_micro\": [{\"categories\": [\"0\", \"1\", \"2\", \"3\", \"4\", \"5\", \"6\", \"7\", \"8\", \"9\", \"10\", \"11\", \"12\", \"13\", \"14\", \"15\", \"16\", \"17\", \"18\", \"19\", \"20\", \"21\", \"22\", \"23\", \"24\", \"25\", \"26\", \"27\", \"28\"], \"mode\": \"markers\", \"name\": \"average_precision_score_micro\", \"stepped\": false, \"type\": \"scatter\", \"data\": [0.8240164848545477, 0.835054818314648, 0.7820687659763018, 0.779855315138047, 0.5684014426844928, 0.6630020423870546, 0.8296370396406453, 0.8300867522528498, 0.8135724955747062, 0.8290577105538401, 0.8261985798430825, 0.8281457584617263, 0.8207096429129672, 0.801274940671462, 0.8350839972827127, 0.8220240279326914, 0.8148599314862806, 0.8271606449091449, 0.8250579691796799, 0.8288158338025531, 0.8190360261314302, 0.8291687273598933, 0.8159910589385292, 0.8305152779860017, 0.8347076817298039, 0.8231832906016664, 0.8289342166737427, 0.8365660719624082, 0.8361078151804766]}, {\"categories\": [\"0\", \"1\", \"2\", \"3\", \"4\", \"5\", \"6\", \"7\", \"8\", \"9\", \"10\", \"11\", \"12\", \"13\", \"14\", \"15\", \"16\", \"17\", \"18\", \"19\", \"20\", \"21\", \"22\", \"23\", \"24\", \"25\", \"26\", \"27\", \"28\"], \"mode\": \"lines\", \"name\": \"average_precision_score_micro_max\", \"stepped\": true, \"type\": \"scatter\", \"data\": [0.8240164848545477, 0.835054818314648, 0.835054818314648, 0.835054818314648, 0.835054818314648, 0.835054818314648, 0.835054818314648, 0.835054818314648, 0.835054818314648, 0.835054818314648, 0.835054818314648, 0.835054818314648, 0.835054818314648, 0.835054818314648, 0.8350839972827127, 0.8350839972827127, 0.8350839972827127, 0.8350839972827127, 0.8350839972827127, 0.8350839972827127, 0.8350839972827127, 0.8350839972827127, 0.8350839972827127, 0.8350839972827127, 0.8350839972827127, 0.8350839972827127, 0.8350839972827127, 0.8365660719624082, 0.8365660719624082]}]}, \"metricName\": null, \"primaryMetricName\": \"accuracy\", \"showLegend\": false}, \"run_metrics\": [{\"name\": \"experiment_status\", \"run_id\": \"AutoML_022248bb-c4c6-4c3f-a420-664665ca11e4\", \"categories\": [0, 1, 2, 3, 4, 5, 6, 7, 8, 9, 10, 11, 12, 13], \"series\": [{\"data\": [\"DatasetEvaluation\", \"FeaturesGeneration\", \"DatasetFeaturization\", \"DatasetFeaturizationCompleted\", \"DatasetCrossValidationSplit\", \"ModelSelection\", \"BestRunExplainModel\", \"ModelExplanationDataSetSetup\", \"PickSurrogateModel\", \"EngineeredFeatureExplanations\", \"EngineeredFeatureExplanations\", \"RawFeaturesExplanations\", \"RawFeaturesExplanations\", \"BestRunExplainModel\"]}]}, {\"name\": \"experiment_status_description\", \"run_id\": \"AutoML_022248bb-c4c6-4c3f-a420-664665ca11e4\", \"categories\": [0, 1, 2, 3, 4, 5, 6, 7, 8, 9, 10, 11, 12, 13], \"series\": [{\"data\": [\"Gathering dataset statistics.\", \"Generating features for the dataset.\", \"Beginning to fit featurizers and featurize the dataset.\", \"Completed fit featurizers and featurizing the dataset.\", \"Generating individually featurized CV splits.\", \"Beginning model selection.\", \"Best run model explanations started\", \"Model explanations data setup completed\", \"Choosing LinearModel as the surrogate model for explanations\", \"Computation of engineered features started\", \"Computation of engineered features completed\", \"Computation of raw features started\", \"Computation of raw features completed\", \"Best run model explanations completed\"]}]}, {\"name\": \"AUC_micro\", \"run_id\": \"AutoML_022248bb-c4c6-4c3f-a420-664665ca11e4\", \"categories\": [0], \"series\": [{\"data\": [0.8504894120033708]}]}, {\"name\": \"average_precision_score_weighted\", \"run_id\": \"AutoML_022248bb-c4c6-4c3f-a420-664665ca11e4\", \"categories\": [0], \"series\": [{\"data\": [0.7848790531674236]}]}, {\"name\": \"f1_score_weighted\", \"run_id\": \"AutoML_022248bb-c4c6-4c3f-a420-664665ca11e4\", \"categories\": [0], \"series\": [{\"data\": [0.7450026218268274]}]}, {\"name\": \"average_precision_score_macro\", \"run_id\": \"AutoML_022248bb-c4c6-4c3f-a420-664665ca11e4\", \"categories\": [0], \"series\": [{\"data\": [0.6685843631823598]}]}, {\"name\": \"recall_score_micro\", \"run_id\": \"AutoML_022248bb-c4c6-4c3f-a420-664665ca11e4\", \"categories\": [0], \"series\": [{\"data\": [0.7927723463687151]}]}, {\"name\": \"matthews_correlation\", \"run_id\": \"AutoML_022248bb-c4c6-4c3f-a420-664665ca11e4\", \"categories\": [0], \"series\": [{\"data\": [0.26418389157836886]}]}, {\"name\": \"balanced_accuracy\", \"run_id\": \"AutoML_022248bb-c4c6-4c3f-a420-664665ca11e4\", \"categories\": [0], \"series\": [{\"data\": [0.5773331723865419]}]}, {\"name\": \"AUC_macro\", \"run_id\": \"AutoML_022248bb-c4c6-4c3f-a420-664665ca11e4\", \"categories\": [0], \"series\": [{\"data\": [0.713462761123272]}]}, {\"name\": \"weighted_accuracy\", \"run_id\": \"AutoML_022248bb-c4c6-4c3f-a420-664665ca11e4\", \"categories\": [0], \"series\": [{\"data\": [0.9083737862066248]}]}, {\"name\": \"precision_score_weighted\", \"run_id\": \"AutoML_022248bb-c4c6-4c3f-a420-664665ca11e4\", \"categories\": [0], \"series\": [{\"data\": [0.7684261306549555]}]}, {\"name\": \"f1_score_macro\", \"run_id\": \"AutoML_022248bb-c4c6-4c3f-a420-664665ca11e4\", \"categories\": [0], \"series\": [{\"data\": [0.5826896034422774]}]}, {\"name\": \"recall_score_weighted\", \"run_id\": \"AutoML_022248bb-c4c6-4c3f-a420-664665ca11e4\", \"categories\": [0], \"series\": [{\"data\": [0.7927723463687151]}]}, {\"name\": \"average_precision_score_micro\", \"run_id\": \"AutoML_022248bb-c4c6-4c3f-a420-664665ca11e4\", \"categories\": [0], \"series\": [{\"data\": [0.8365660719624082]}]}, {\"name\": \"precision_score_macro\", \"run_id\": \"AutoML_022248bb-c4c6-4c3f-a420-664665ca11e4\", \"categories\": [0], \"series\": [{\"data\": [0.7258679210714258]}]}, {\"name\": \"log_loss\", \"run_id\": \"AutoML_022248bb-c4c6-4c3f-a420-664665ca11e4\", \"categories\": [0], \"series\": [{\"data\": [0.49420516150558047]}]}, {\"name\": \"precision_score_micro\", \"run_id\": \"AutoML_022248bb-c4c6-4c3f-a420-664665ca11e4\", \"categories\": [0], \"series\": [{\"data\": [0.7927723463687151]}]}, {\"name\": \"recall_score_macro\", \"run_id\": \"AutoML_022248bb-c4c6-4c3f-a420-664665ca11e4\", \"categories\": [0], \"series\": [{\"data\": [0.5773331723865419]}]}, {\"name\": \"accuracy\", \"run_id\": \"AutoML_022248bb-c4c6-4c3f-a420-664665ca11e4\", \"categories\": [0], \"series\": [{\"data\": [0.7927723463687151]}]}, {\"name\": \"AUC_weighted\", \"run_id\": \"AutoML_022248bb-c4c6-4c3f-a420-664665ca11e4\", \"categories\": [0], \"series\": [{\"data\": [0.713462761123272]}]}, {\"name\": \"norm_macro_recall\", \"run_id\": \"AutoML_022248bb-c4c6-4c3f-a420-664665ca11e4\", \"categories\": [0], \"series\": [{\"data\": [0.15466634477308377]}]}, {\"name\": \"f1_score_micro\", \"run_id\": \"AutoML_022248bb-c4c6-4c3f-a420-664665ca11e4\", \"categories\": [0], \"series\": [{\"data\": [0.7927723463687151]}]}], \"run_logs\": \"\\nRun is completed.\", \"graph\": {}, \"widget_settings\": {\"childWidgetDisplay\": \"popup\", \"send_telemetry\": false, \"log_level\": \"INFO\", \"sdk_version\": \"1.20.0\"}, \"loading\": false}"
          },
          "metadata": {}
        }
      ],
      "execution_count": 21,
      "metadata": {
        "gather": {
          "logged": 1611672833553
        },
        "jupyter": {
          "outputs_hidden": false,
          "source_hidden": false
        },
        "nteract": {
          "transient": {
            "deleting": false
          }
        }
      }
    },
    {
      "cell_type": "markdown",
      "source": [
        "## Best Model\n",
        "\n",
        "TODO: In the cell below, get the best model from the automl experiments and display all the properties of the model.\n",
        "\n"
      ],
      "metadata": {}
    },
    {
      "cell_type": "code",
      "source": [
        "from azureml.core.run import Run\r\n",
        "#Getting best run\r\n",
        "best_run, fitted_model=remote_run.get_output()\r\n",
        "print(best_run)\r\n",
        "print(fitted_model)\r\n",
        "best_run.get_tags()\r\n",
        "print(best_run.properties['model_name'])"
      ],
      "outputs": [
        {
          "output_type": "stream",
          "name": "stdout",
          "text": [
            "Run(Experiment: insurance,\n",
            "Id: AutoML_022248bb-c4c6-4c3f-a420-664665ca11e4_27,\n",
            "Type: azureml.scriptrun,\n",
            "Status: Completed)\n",
            "Pipeline(memory=None,\n",
            "         steps=[('datatransformer',\n",
            "                 DataTransformer(enable_dnn=None, enable_feature_sweeping=None,\n",
            "                                 feature_sweeping_config=None,\n",
            "                                 feature_sweeping_timeout=None,\n",
            "                                 featurization_config=None, force_text_dnn=None,\n",
            "                                 is_cross_validation=None,\n",
            "                                 is_onnx_compatible=None, logger=None,\n",
            "                                 observer=None, task=None, working_dir=None)),\n",
            "                ('prefittedsoftvotingclassifier',...\n",
            "                                                                                                    max_features='log2',\n",
            "                                                                                                    max_leaf_nodes=None,\n",
            "                                                                                                    max_samples=None,\n",
            "                                                                                                    min_impurity_decrease=0.0,\n",
            "                                                                                                    min_impurity_split=None,\n",
            "                                                                                                    min_samples_leaf=0.01,\n",
            "                                                                                                    min_samples_split=0.01,\n",
            "                                                                                                    min_weight_fraction_leaf=0.0,\n",
            "                                                                                                    n_estimators=25,\n",
            "                                                                                                    n_jobs=1,\n",
            "                                                                                                    oob_score=True,\n",
            "                                                                                                    random_state=None,\n",
            "                                                                                                    verbose=0,\n",
            "                                                                                                    warm_start=False))],\n",
            "                                                                     verbose=False))],\n",
            "                                               flatten_transform=None,\n",
            "                                               weights=[0.1, 0.2, 0.2, 0.1, 0.1,\n",
            "                                                        0.1, 0.2]))],\n",
            "         verbose=False)\n",
            "AutoML022248bbc27\n"
          ]
        }
      ],
      "execution_count": 24,
      "metadata": {
        "gather": {
          "logged": 1611672940692
        },
        "jupyter": {
          "outputs_hidden": false,
          "source_hidden": false
        },
        "nteract": {
          "transient": {
            "deleting": false
          }
        }
      }
    },
    {
      "cell_type": "code",
      "source": [
        "#TODO: Save the best model\r\n",
        "import joblib\r\n",
        "os.makdirs"
      ],
      "outputs": [],
      "execution_count": null,
      "metadata": {
        "gather": {
          "logged": 1598431426111
        },
        "jupyter": {
          "outputs_hidden": false,
          "source_hidden": false
        },
        "nteract": {
          "transient": {
            "deleting": false
          }
        }
      }
    },
    {
      "cell_type": "markdown",
      "source": [
        "## Model Deployment\n",
        "\n",
        "Remember you have to deploy only one of the two models you trained.. Perform the steps in the rest of this notebook only if you wish to deploy this model.\n",
        "\n",
        "TODO: In the cell below, register the model, create an inference config and deploy the model as a web service."
      ],
      "metadata": {}
    },
    {
      "cell_type": "code",
      "source": [],
      "outputs": [],
      "execution_count": null,
      "metadata": {
        "gather": {
          "logged": 1598431435189
        },
        "jupyter": {
          "outputs_hidden": false,
          "source_hidden": false
        },
        "nteract": {
          "transient": {
            "deleting": false
          }
        }
      }
    },
    {
      "cell_type": "markdown",
      "source": [
        "TODO: In the cell below, send a request to the web service you deployed to test it."
      ],
      "metadata": {
        "collapsed": true,
        "gather": {
          "logged": 1598431657736
        },
        "jupyter": {
          "outputs_hidden": false,
          "source_hidden": false
        },
        "nteract": {
          "transient": {
            "deleting": false
          }
        }
      }
    },
    {
      "cell_type": "code",
      "source": [],
      "outputs": [],
      "execution_count": null,
      "metadata": {
        "gather": {
          "logged": 1598432707604
        },
        "jupyter": {
          "outputs_hidden": false,
          "source_hidden": false
        },
        "nteract": {
          "transient": {
            "deleting": false
          }
        }
      }
    },
    {
      "cell_type": "markdown",
      "source": [
        "TODO: In the cell below, print the logs of the web service and delete the service"
      ],
      "metadata": {
        "collapsed": true,
        "gather": {
          "logged": 1598432765711
        },
        "jupyter": {
          "outputs_hidden": false,
          "source_hidden": false
        },
        "nteract": {
          "transient": {
            "deleting": false
          }
        }
      }
    },
    {
      "cell_type": "code",
      "source": [],
      "outputs": [],
      "execution_count": null,
      "metadata": {
        "jupyter": {
          "outputs_hidden": false,
          "source_hidden": false
        },
        "nteract": {
          "transient": {
            "deleting": false
          }
        }
      }
    }
  ],
  "metadata": {
    "kernel_info": {
      "name": "python3"
    },
    "kernelspec": {
      "name": "python3",
      "language": "python",
      "display_name": "Python 3"
    },
    "language_info": {
      "name": "python",
      "version": "3.6.9",
      "mimetype": "text/x-python",
      "codemirror_mode": {
        "name": "ipython",
        "version": 3
      },
      "pygments_lexer": "ipython3",
      "nbconvert_exporter": "python",
      "file_extension": ".py"
    },
    "nteract": {
      "version": "nteract-front-end@1.0.0"
    }
  },
  "nbformat": 4,
  "nbformat_minor": 2
}