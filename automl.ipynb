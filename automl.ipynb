{
  "cells": [
    {
      "cell_type": "markdown",
      "source": [
        "# Automated ML\n",
        "\n",
        "TODO: Import Dependencies. In the cell below, import all the dependencies that you will need to complete the project."
      ],
      "metadata": {}
    },
    {
      "cell_type": "code",
      "source": [
        "from azureml.train.automl import AutoMLConfig\n",
        "from azureml.core.compute import ComputeTarget, AmlCompute\n",
        "from azureml.core.experiment import Experiment\n",
        "from azureml.core.workspace import Workspace\n",
        "from azureml.automl.core.featurization import FeaturizationConfig\n",
        "from azureml.data.dataset_factory import TabularDatasetFactory\n",
        "from azureml.core.dataset import Dataset\n",
        "import logging\n",
        "import json\n",
        "import requests\n",
        "import pandas as pd\n",
        "import numpy as np\n",
        "from numpy import array\n",
        "import joblib\n",
        "from sklearn.model_selection import train_test_split\n",
        "import os\n",
        "import azureml.core\n",
        "from azureml.core.compute_target import ComputeTargetException\n",
        "from azureml.widgets import RunDetails\n",
        "from azureml.core.model import Model\n"
      ],
      "outputs": [],
      "execution_count": 1,
      "metadata": {
        "gather": {
          "logged": 1611883842550
        },
        "jupyter": {
          "outputs_hidden": false,
          "source_hidden": false
        },
        "nteract": {
          "transient": {
            "deleting": false
          }
        }
      }
    },
    {
      "cell_type": "code",
      "source": [
        "#Environment Setup\n",
        "from azureml.core import Environment\n",
        "# set up the  environment\n",
        "env = Environment.from_conda_specification(\n",
        "        name='automl-env',\n",
        "        file_path='./automl-env.yml'    \n",
        "        )"
      ],
      "outputs": [],
      "execution_count": 2,
      "metadata": {
        "gather": {
          "logged": 1611883855962
        }
      }
    },
    {
      "cell_type": "markdown",
      "source": [
        "## Dataset\n",
        "\n",
        "### Overview\n",
        "TODO: In this markdown cell, give an overview of the dataset you are using. Also mention the task you will be performing.\n",
        "\n",
        "\n",
        "TODO: Get data. In the cell below, write code to access the data you will be using in this project. Remember that the dataset needs to be external."
      ],
      "metadata": {}
    },
    {
      "cell_type": "code",
      "source": [
        "ws = Workspace.from_config()\n",
        "\n",
        "# choose a name for experiment\n",
        "experiment_name = 'Automl'\n",
        "\n",
        "experiment=Experiment(ws, experiment_name)\n",
        "\n",
        "# data that will be used from this experiment was downloaded from Zindi Africa. It was designed by Data Science Nigeria\n",
        "# .. for a hackathon. In the dataset we have various features of buildings and the goal is to predict\n",
        "#.. whether a building will have an insurance claim over a given period of time\n",
        "#.. the link is here: \"https://zindi.africa/competitions/data-science-nigeria-2019-challenge-1-insurance-prediction/data\"\n",
        "# Get the data of Kaggle Titanic Dataset\n",
        "key = \"insurance data\"\n",
        "description_text = \"Data from Zindi Africa Data hackathon\"\n",
        "found = False\n",
        "\n",
        "if key in ws.datasets.keys(): \n",
        "    found = True\n",
        "    dataset = ws.datasets[key] \n",
        "\n",
        "if not found:\n",
        "    # Create AML Dataset and register it into Workspace\n",
        "    example_data = 'https://raw.githubusercontent.com/Ogbuchi-Ikechukwu/Azure-ML-Nanodegree-Capstone/master/starter_file/train_data_cleaned.csv'\n",
        "    dataset = Dataset.Tabular.from_delimited_files(example_data)\n",
        "    #Register Dataset in Workspace\n",
        "    dataset = dataset.register(workspace=ws,\n",
        "                               name=key,\n",
        "                               description=description_text)\n",
        "\n",
        "\n",
        "data = dataset.to_pandas_dataframe()\n",
        "\n",
        "\n",
        "data.describe()"
      ],
      "outputs": [
        {
          "output_type": "execute_result",
          "execution_count": 5,
          "data": {
            "text/plain": "       YearOfObservation  Insured_Period  Residential  Build_Paint_N  \\\ncount        7160.000000     7160.000000  7160.000000    7160.000000   \nmean         2013.669553        0.909758     0.305447       0.248324   \nstd             1.383769        0.239756     0.460629       0.432071   \nmin          2012.000000        0.000000     0.000000       0.000000   \n25%          2012.000000        0.997268     0.000000       0.000000   \n50%          2013.000000        1.000000     0.000000       0.000000   \n75%          2015.000000        1.000000     1.000000       0.000000   \nmax          2016.000000        1.000000     1.000000       1.000000   \n\n       Build_Fence_N     Garden_V     Garden_O     Garden_T  Settlement2  \\\ncount    7160.000000  7160.000000  7160.000000  7160.000000  7160.000000   \nmean        0.503911     0.495950     0.503073     0.000978     0.495810   \nstd         0.500020     0.500019     0.500025     0.031254     0.500017   \nmin         0.000000     0.000000     0.000000     0.000000     0.000000   \n25%         0.000000     0.000000     0.000000     0.000000     0.000000   \n50%         1.000000     0.000000     1.000000     0.000000     0.000000   \n75%         1.000000     1.000000     1.000000     0.000000     1.000000   \nmax         1.000000     1.000000     1.000000     1.000000     1.000000   \n\n       Building Dimension  Building_Type  Date_of_Occupancy  NumberOfWindows  \\\ncount         7160.000000    7160.000000        7160.000000      7160.000000   \nmean          1855.839944       2.186034        1825.078771         2.193156   \nstd           2272.645786       0.940632         505.583685         2.549629   \nmin              0.000000       1.000000           0.000000         0.000000   \n25%            500.000000       2.000000        1956.750000         0.000000   \n50%           1050.000000       2.000000        1960.000000         1.000000   \n75%           2250.000000       3.000000        1980.000000         4.000000   \nmax          20940.000000       4.000000        2016.000000        11.000000   \n\n           Geo_Code        Claim  \ncount   7092.000000  7160.000000  \nmean   50133.089679     0.228212  \nstd    30365.982905     0.419709  \nmin        0.000000     0.000000  \n25%    17300.000000     0.000000  \n50%    56121.000000     0.000000  \n75%    75118.000000     0.000000  \nmax    95607.000000     1.000000  ",
            "text/html": "<div>\n<style scoped>\n    .dataframe tbody tr th:only-of-type {\n        vertical-align: middle;\n    }\n\n    .dataframe tbody tr th {\n        vertical-align: top;\n    }\n\n    .dataframe thead th {\n        text-align: right;\n    }\n</style>\n<table border=\"1\" class=\"dataframe\">\n  <thead>\n    <tr style=\"text-align: right;\">\n      <th></th>\n      <th>YearOfObservation</th>\n      <th>Insured_Period</th>\n      <th>Residential</th>\n      <th>Build_Paint_N</th>\n      <th>Build_Fence_N</th>\n      <th>Garden_V</th>\n      <th>Garden_O</th>\n      <th>Garden_T</th>\n      <th>Settlement2</th>\n      <th>Building Dimension</th>\n      <th>Building_Type</th>\n      <th>Date_of_Occupancy</th>\n      <th>NumberOfWindows</th>\n      <th>Geo_Code</th>\n      <th>Claim</th>\n    </tr>\n  </thead>\n  <tbody>\n    <tr>\n      <th>count</th>\n      <td>7160.000000</td>\n      <td>7160.000000</td>\n      <td>7160.000000</td>\n      <td>7160.000000</td>\n      <td>7160.000000</td>\n      <td>7160.000000</td>\n      <td>7160.000000</td>\n      <td>7160.000000</td>\n      <td>7160.000000</td>\n      <td>7160.000000</td>\n      <td>7160.000000</td>\n      <td>7160.000000</td>\n      <td>7160.000000</td>\n      <td>7092.000000</td>\n      <td>7160.000000</td>\n    </tr>\n    <tr>\n      <th>mean</th>\n      <td>2013.669553</td>\n      <td>0.909758</td>\n      <td>0.305447</td>\n      <td>0.248324</td>\n      <td>0.503911</td>\n      <td>0.495950</td>\n      <td>0.503073</td>\n      <td>0.000978</td>\n      <td>0.495810</td>\n      <td>1855.839944</td>\n      <td>2.186034</td>\n      <td>1825.078771</td>\n      <td>2.193156</td>\n      <td>50133.089679</td>\n      <td>0.228212</td>\n    </tr>\n    <tr>\n      <th>std</th>\n      <td>1.383769</td>\n      <td>0.239756</td>\n      <td>0.460629</td>\n      <td>0.432071</td>\n      <td>0.500020</td>\n      <td>0.500019</td>\n      <td>0.500025</td>\n      <td>0.031254</td>\n      <td>0.500017</td>\n      <td>2272.645786</td>\n      <td>0.940632</td>\n      <td>505.583685</td>\n      <td>2.549629</td>\n      <td>30365.982905</td>\n      <td>0.419709</td>\n    </tr>\n    <tr>\n      <th>min</th>\n      <td>2012.000000</td>\n      <td>0.000000</td>\n      <td>0.000000</td>\n      <td>0.000000</td>\n      <td>0.000000</td>\n      <td>0.000000</td>\n      <td>0.000000</td>\n      <td>0.000000</td>\n      <td>0.000000</td>\n      <td>0.000000</td>\n      <td>1.000000</td>\n      <td>0.000000</td>\n      <td>0.000000</td>\n      <td>0.000000</td>\n      <td>0.000000</td>\n    </tr>\n    <tr>\n      <th>25%</th>\n      <td>2012.000000</td>\n      <td>0.997268</td>\n      <td>0.000000</td>\n      <td>0.000000</td>\n      <td>0.000000</td>\n      <td>0.000000</td>\n      <td>0.000000</td>\n      <td>0.000000</td>\n      <td>0.000000</td>\n      <td>500.000000</td>\n      <td>2.000000</td>\n      <td>1956.750000</td>\n      <td>0.000000</td>\n      <td>17300.000000</td>\n      <td>0.000000</td>\n    </tr>\n    <tr>\n      <th>50%</th>\n      <td>2013.000000</td>\n      <td>1.000000</td>\n      <td>0.000000</td>\n      <td>0.000000</td>\n      <td>1.000000</td>\n      <td>0.000000</td>\n      <td>1.000000</td>\n      <td>0.000000</td>\n      <td>0.000000</td>\n      <td>1050.000000</td>\n      <td>2.000000</td>\n      <td>1960.000000</td>\n      <td>1.000000</td>\n      <td>56121.000000</td>\n      <td>0.000000</td>\n    </tr>\n    <tr>\n      <th>75%</th>\n      <td>2015.000000</td>\n      <td>1.000000</td>\n      <td>1.000000</td>\n      <td>0.000000</td>\n      <td>1.000000</td>\n      <td>1.000000</td>\n      <td>1.000000</td>\n      <td>0.000000</td>\n      <td>1.000000</td>\n      <td>2250.000000</td>\n      <td>3.000000</td>\n      <td>1980.000000</td>\n      <td>4.000000</td>\n      <td>75118.000000</td>\n      <td>0.000000</td>\n    </tr>\n    <tr>\n      <th>max</th>\n      <td>2016.000000</td>\n      <td>1.000000</td>\n      <td>1.000000</td>\n      <td>1.000000</td>\n      <td>1.000000</td>\n      <td>1.000000</td>\n      <td>1.000000</td>\n      <td>1.000000</td>\n      <td>1.000000</td>\n      <td>20940.000000</td>\n      <td>4.000000</td>\n      <td>2016.000000</td>\n      <td>11.000000</td>\n      <td>95607.000000</td>\n      <td>1.000000</td>\n    </tr>\n  </tbody>\n</table>\n</div>"
          },
          "metadata": {}
        }
      ],
      "execution_count": 5,
      "metadata": {
        "gather": {
          "logged": 1611884339909
        },
        "jupyter": {
          "outputs_hidden": false,
          "source_hidden": false
        },
        "nteract": {
          "transient": {
            "deleting": false
          }
        }
      }
    },
    {
      "cell_type": "code",
      "source": [
        "data=data.dropna()"
      ],
      "outputs": [],
      "execution_count": 6,
      "metadata": {
        "collapsed": true,
        "jupyter": {
          "source_hidden": false,
          "outputs_hidden": false
        },
        "nteract": {
          "transient": {
            "deleting": false
          }
        },
        "gather": {
          "logged": 1611884410021
        }
      }
    },
    {
      "cell_type": "code",
      "source": [
        "#creating compute cluster\n",
        "compute_cluster_name = \"ikecompute\"\n",
        "\n",
        "# Verify that cluster does not exist already\n",
        "try:\n",
        "    compute_cluster = ComputeTarget(workspace=ws, name=compute_cluster_name)\n",
        "    print('Found existing cluster, use it.')\n",
        "except ComputeTargetException:\n",
        "    compute_config = AmlCompute.provisioning_configuration(vm_size='STANDARD_D2_V2',\n",
        "                                                           max_nodes=4)\n",
        "    compute_cluster = ComputeTarget.create(ws, compute_cluster_name, compute_config)\n",
        "\n",
        "compute_cluster.wait_for_completion(show_output=True)"
      ],
      "outputs": [
        {
          "output_type": "stream",
          "name": "stdout",
          "text": [
            "Found existing cluster, use it.\n",
            "\n",
            "Running\n"
          ]
        }
      ],
      "execution_count": 7,
      "metadata": {
        "collapsed": true,
        "gather": {
          "logged": 1611884424160
        },
        "jupyter": {
          "outputs_hidden": false,
          "source_hidden": false
        },
        "nteract": {
          "transient": {
            "deleting": false
          }
        }
      }
    },
    {
      "cell_type": "code",
      "source": [
        "y=data[\"Claim\"]\r\n",
        "data.pop(\"Claim\")\r\n",
        "x=data"
      ],
      "outputs": [],
      "execution_count": 8,
      "metadata": {
        "collapsed": true,
        "jupyter": {
          "source_hidden": false,
          "outputs_hidden": false
        },
        "nteract": {
          "transient": {
            "deleting": false
          }
        },
        "gather": {
          "logged": 1611884588833
        }
      }
    },
    {
      "cell_type": "code",
      "source": [
        "from sklearn.model_selection import train_test_split\n",
        "#create train test split\n",
        "x_train, x_test, y_train, y_test = train_test_split(x,y, test_size=0.2, random_state=32)\n",
        "#join the train_x and train_y to create AUTOML training dataset\n",
        "train_data=pd.concat([x_train,y_train], axis=1)"
      ],
      "outputs": [],
      "execution_count": 9,
      "metadata": {
        "collapsed": true,
        "gather": {
          "logged": 1611885291282
        },
        "jupyter": {
          "outputs_hidden": false,
          "source_hidden": false
        },
        "nteract": {
          "transient": {
            "deleting": false
          }
        }
      }
    },
    {
      "cell_type": "code",
      "source": [
        "if not os.path.isdir('data'):\n",
        "    os.mkdir('data')\n",
        "    \n",
        "# Save the train data to a csv to be uploaded to the datastore\n",
        "pd.DataFrame(train_data).to_csv(\"data/train_data.csv\", index=False)\n",
        "\n",
        "ds = ws.get_default_datastore()\n",
        "ds.upload(src_dir='./data', target_path='insurance', overwrite=True, show_progress=True)\n",
        "\n",
        " \n",
        "\n",
        "# Upload the training data as a tabular dataset for access during training on remote compute\n",
        "train_data = TabularDatasetFactory.from_delimited_files(path=ds.path('insurance/train_data.csv'))\n",
        "label = \"Claim\""
      ],
      "outputs": [
        {
          "output_type": "stream",
          "name": "stdout",
          "text": [
            "Uploading an estimated of 1 files\n",
            "Uploading ./data/train_data.csv\n",
            "Uploaded ./data/train_data.csv, 1 files out of an estimated total of 1\n",
            "Uploaded 1 files\n"
          ]
        }
      ],
      "execution_count": 10,
      "metadata": {
        "collapsed": true,
        "gather": {
          "logged": 1611885383292
        },
        "jupyter": {
          "outputs_hidden": false,
          "source_hidden": false
        },
        "nteract": {
          "transient": {
            "deleting": false
          }
        }
      }
    },
    {
      "cell_type": "markdown",
      "source": [
        "## AutoML Configuration\n",
        "\n",
        "TODO: Explain why you chose the automl settings and cofiguration you used below."
      ],
      "metadata": {}
    },
    {
      "cell_type": "code",
      "source": [
        "# TODO: Put your automl settings here\n",
        "automl_settings = {\n",
        "    \"experiment_timeout_minutes\":30,\n",
        "    \"enable_early_stopping\":True,\n",
        "    \"max_concurrent_iterations\":5,\n",
        "    \"primary_metric\": \"accuracy\",\n",
        "    \"iteration_timeout_minutes\": 5,\n",
        "    \"featurization\": 'auto',\n",
        "    \"verbosity\": logging.INFO\n",
        "}\n",
        "\n",
        "# TODO: Put your automl config here\n",
        "automl_config = AutoMLConfig(\n",
        "    experiment_timeout_minutes=30,\n",
        "    compute_target=compute_cluster,\n",
        "    task='classification',\n",
        "    primary_metric='accuracy',\n",
        "    training_data=train_data,\n",
        "    label_column_name='Claim',\n",
        "    n_cross_validations=4)"
      ],
      "outputs": [],
      "execution_count": 11,
      "metadata": {
        "gather": {
          "logged": 1611885396817
        },
        "jupyter": {
          "outputs_hidden": false,
          "source_hidden": false
        },
        "nteract": {
          "transient": {
            "deleting": false
          }
        }
      }
    },
    {
      "cell_type": "code",
      "source": [
        "# TODO: Submit your experiment\n",
        "remote_run = experiment.submit(automl_config)"
      ],
      "outputs": [
        {
          "output_type": "stream",
          "name": "stdout",
          "text": [
            "Running on remote.\n"
          ]
        }
      ],
      "execution_count": 12,
      "metadata": {
        "gather": {
          "logged": 1611885409410
        },
        "jupyter": {
          "outputs_hidden": false,
          "source_hidden": false
        },
        "nteract": {
          "transient": {
            "deleting": false
          }
        }
      }
    },
    {
      "cell_type": "markdown",
      "source": [
        "## Run Details\n",
        "\n",
        "OPTIONAL: Write about the different models trained and their performance. Why do you think some models did better than others?\n",
        "\n",
        "TODO: In the cell below, use the `RunDetails` widget to show the different experiments."
      ],
      "metadata": {}
    },
    {
      "cell_type": "code",
      "source": [
        "from azureml.widgets import RunDetails\n",
        "RunDetails(remote_run).show()"
      ],
      "outputs": [
        {
          "output_type": "display_data",
          "data": {
            "text/plain": "_AutoMLWidget(widget_settings={'childWidgetDisplay': 'popup', 'send_telemetry': False, 'log_level': 'INFO', 's…",
            "application/vnd.jupyter.widget-view+json": {
              "version_major": 2,
              "version_minor": 0,
              "model_id": "18ae1ccfcef8447491712c0ebffeeca6"
            }
          },
          "metadata": {}
        },
        {
          "output_type": "display_data",
          "data": {
            "application/aml.mini.widget.v1": "{\"status\": \"Completed\", \"workbench_run_details_uri\": \"https://ml.azure.com/experiments/Automl/runs/AutoML_6725d1ca-3db3-4e35-ad53-123dd00d0ff6?wsid=/subscriptions/b968fb36-f06a-4c76-a15f-afab68ae7667/resourcegroups/aml-quickstarts-136441/workspaces/quick-starts-ws-136441\", \"run_id\": \"AutoML_6725d1ca-3db3-4e35-ad53-123dd00d0ff6\", \"run_properties\": {\"run_id\": \"AutoML_6725d1ca-3db3-4e35-ad53-123dd00d0ff6\", \"created_utc\": \"2021-01-29T01:56:48.366186Z\", \"properties\": {\"num_iterations\": \"1000\", \"training_type\": \"TrainFull\", \"acquisition_function\": \"EI\", \"primary_metric\": \"accuracy\", \"train_split\": \"0\", \"acquisition_parameter\": \"0\", \"num_cross_validation\": \"4\", \"target\": \"ikecompute\", \"AMLSettingsJsonString\": \"{\\\"path\\\":null,\\\"name\\\":\\\"Automl\\\",\\\"subscription_id\\\":\\\"b968fb36-f06a-4c76-a15f-afab68ae7667\\\",\\\"resource_group\\\":\\\"aml-quickstarts-136441\\\",\\\"workspace_name\\\":\\\"quick-starts-ws-136441\\\",\\\"region\\\":\\\"southcentralus\\\",\\\"compute_target\\\":\\\"ikecompute\\\",\\\"spark_service\\\":null,\\\"azure_service\\\":\\\"remote\\\",\\\"many_models\\\":false,\\\"pipeline_fetch_max_batch_size\\\":1,\\\"iterations\\\":1000,\\\"primary_metric\\\":\\\"accuracy\\\",\\\"task_type\\\":\\\"classification\\\",\\\"data_script\\\":null,\\\"validation_size\\\":0.0,\\\"n_cross_validations\\\":4,\\\"y_min\\\":null,\\\"y_max\\\":null,\\\"num_classes\\\":null,\\\"featurization\\\":\\\"auto\\\",\\\"_ignore_package_version_incompatibilities\\\":false,\\\"is_timeseries\\\":false,\\\"max_cores_per_iteration\\\":1,\\\"max_concurrent_iterations\\\":1,\\\"iteration_timeout_minutes\\\":null,\\\"mem_in_mb\\\":null,\\\"enforce_time_on_windows\\\":false,\\\"experiment_timeout_minutes\\\":30,\\\"experiment_exit_score\\\":null,\\\"whitelist_models\\\":null,\\\"blacklist_algos\\\":[\\\"TensorFlowLinearClassifier\\\",\\\"TensorFlowDNN\\\"],\\\"supported_models\\\":[\\\"LogisticRegression\\\",\\\"BernoulliNaiveBayes\\\",\\\"AveragedPerceptronClassifier\\\",\\\"KNN\\\",\\\"MultinomialNaiveBayes\\\",\\\"ExtremeRandomTrees\\\",\\\"XGBoostClassifier\\\",\\\"GradientBoosting\\\",\\\"TensorFlowLinearClassifier\\\",\\\"LinearSVM\\\",\\\"RandomForest\\\",\\\"SGD\\\",\\\"SVM\\\",\\\"DecisionTree\\\",\\\"LightGBM\\\",\\\"TensorFlowDNN\\\"],\\\"auto_blacklist\\\":true,\\\"blacklist_samples_reached\\\":false,\\\"exclude_nan_labels\\\":true,\\\"verbosity\\\":20,\\\"_debug_log\\\":\\\"azureml_automl.log\\\",\\\"show_warnings\\\":false,\\\"model_explainability\\\":true,\\\"service_url\\\":null,\\\"sdk_url\\\":null,\\\"sdk_packages\\\":null,\\\"enable_onnx_compatible_models\\\":false,\\\"enable_split_onnx_featurizer_estimator_models\\\":false,\\\"vm_type\\\":\\\"STANDARD_DS12_V2\\\",\\\"telemetry_verbosity\\\":20,\\\"send_telemetry\\\":true,\\\"enable_dnn\\\":false,\\\"scenario\\\":\\\"SDK-1.13.0\\\",\\\"environment_label\\\":null,\\\"force_text_dnn\\\":false,\\\"enable_feature_sweeping\\\":true,\\\"enable_early_stopping\\\":false,\\\"early_stopping_n_iters\\\":10,\\\"metrics\\\":null,\\\"enable_ensembling\\\":true,\\\"enable_stack_ensembling\\\":true,\\\"ensemble_iterations\\\":15,\\\"enable_tf\\\":false,\\\"enable_subsampling\\\":null,\\\"subsample_seed\\\":null,\\\"enable_nimbusml\\\":false,\\\"enable_streaming\\\":false,\\\"force_streaming\\\":false,\\\"track_child_runs\\\":true,\\\"allowed_private_models\\\":[],\\\"label_column_name\\\":\\\"Claim\\\",\\\"weight_column_name\\\":null,\\\"cv_split_column_names\\\":null,\\\"enable_local_managed\\\":false,\\\"_local_managed_run_id\\\":null,\\\"cost_mode\\\":1,\\\"lag_length\\\":0,\\\"metric_operation\\\":\\\"maximize\\\",\\\"preprocess\\\":true}\", \"DataPrepJsonString\": \"{\\\\\\\"training_data\\\\\\\": \\\\\\\"{\\\\\\\\\\\\\\\"blocks\\\\\\\\\\\\\\\": [{\\\\\\\\\\\\\\\"id\\\\\\\\\\\\\\\": \\\\\\\\\\\\\\\"ae3c7671-5c23-45fb-85d4-c70cdc98ed64\\\\\\\\\\\\\\\", \\\\\\\\\\\\\\\"type\\\\\\\\\\\\\\\": \\\\\\\\\\\\\\\"Microsoft.DPrep.GetDatastoreFilesBlock\\\\\\\\\\\\\\\", \\\\\\\\\\\\\\\"arguments\\\\\\\\\\\\\\\": {\\\\\\\\\\\\\\\"datastores\\\\\\\\\\\\\\\": [{\\\\\\\\\\\\\\\"datastoreName\\\\\\\\\\\\\\\": \\\\\\\\\\\\\\\"workspaceblobstore\\\\\\\\\\\\\\\", \\\\\\\\\\\\\\\"path\\\\\\\\\\\\\\\": \\\\\\\\\\\\\\\"insurance/train_data.csv\\\\\\\\\\\\\\\", \\\\\\\\\\\\\\\"resourceGroup\\\\\\\\\\\\\\\": \\\\\\\\\\\\\\\"aml-quickstarts-136441\\\\\\\\\\\\\\\", \\\\\\\\\\\\\\\"subscription\\\\\\\\\\\\\\\": \\\\\\\\\\\\\\\"b968fb36-f06a-4c76-a15f-afab68ae7667\\\\\\\\\\\\\\\", \\\\\\\\\\\\\\\"workspaceName\\\\\\\\\\\\\\\": \\\\\\\\\\\\\\\"quick-starts-ws-136441\\\\\\\\\\\\\\\"}]}, \\\\\\\\\\\\\\\"localData\\\\\\\\\\\\\\\": {}, \\\\\\\\\\\\\\\"isEnabled\\\\\\\\\\\\\\\": true, \\\\\\\\\\\\\\\"name\\\\\\\\\\\\\\\": null, \\\\\\\\\\\\\\\"annotation\\\\\\\\\\\\\\\": null}, {\\\\\\\\\\\\\\\"id\\\\\\\\\\\\\\\": \\\\\\\\\\\\\\\"4b9226b0-1284-4a18-af1c-3cc38b7ae5ca\\\\\\\\\\\\\\\", \\\\\\\\\\\\\\\"type\\\\\\\\\\\\\\\": \\\\\\\\\\\\\\\"Microsoft.DPrep.ParseDelimitedBlock\\\\\\\\\\\\\\\", \\\\\\\\\\\\\\\"arguments\\\\\\\\\\\\\\\": {\\\\\\\\\\\\\\\"columnHeadersMode\\\\\\\\\\\\\\\": 3, \\\\\\\\\\\\\\\"fileEncoding\\\\\\\\\\\\\\\": 0, \\\\\\\\\\\\\\\"handleQuotedLineBreaks\\\\\\\\\\\\\\\": false, \\\\\\\\\\\\\\\"preview\\\\\\\\\\\\\\\": false, \\\\\\\\\\\\\\\"separator\\\\\\\\\\\\\\\": \\\\\\\\\\\\\\\",\\\\\\\\\\\\\\\", \\\\\\\\\\\\\\\"skipRows\\\\\\\\\\\\\\\": 0, \\\\\\\\\\\\\\\"skipRowsMode\\\\\\\\\\\\\\\": 0}, \\\\\\\\\\\\\\\"localData\\\\\\\\\\\\\\\": {}, \\\\\\\\\\\\\\\"isEnabled\\\\\\\\\\\\\\\": true, \\\\\\\\\\\\\\\"name\\\\\\\\\\\\\\\": null, \\\\\\\\\\\\\\\"annotation\\\\\\\\\\\\\\\": null}, {\\\\\\\\\\\\\\\"id\\\\\\\\\\\\\\\": \\\\\\\\\\\\\\\"cdfb4ee5-fa6f-4239-b1d6-7d2e24f76a2d\\\\\\\\\\\\\\\", \\\\\\\\\\\\\\\"type\\\\\\\\\\\\\\\": \\\\\\\\\\\\\\\"Microsoft.DPrep.DropColumnsBlock\\\\\\\\\\\\\\\", \\\\\\\\\\\\\\\"arguments\\\\\\\\\\\\\\\": {\\\\\\\\\\\\\\\"columns\\\\\\\\\\\\\\\": {\\\\\\\\\\\\\\\"type\\\\\\\\\\\\\\\": 0, \\\\\\\\\\\\\\\"details\\\\\\\\\\\\\\\": {\\\\\\\\\\\\\\\"selectedColumns\\\\\\\\\\\\\\\": [\\\\\\\\\\\\\\\"Path\\\\\\\\\\\\\\\"]}}}, \\\\\\\\\\\\\\\"localData\\\\\\\\\\\\\\\": {}, \\\\\\\\\\\\\\\"isEnabled\\\\\\\\\\\\\\\": true, \\\\\\\\\\\\\\\"name\\\\\\\\\\\\\\\": null, \\\\\\\\\\\\\\\"annotation\\\\\\\\\\\\\\\": null}, {\\\\\\\\\\\\\\\"id\\\\\\\\\\\\\\\": \\\\\\\\\\\\\\\"838c7be4-83c1-460a-9595-f9090cb742c0\\\\\\\\\\\\\\\", \\\\\\\\\\\\\\\"type\\\\\\\\\\\\\\\": \\\\\\\\\\\\\\\"Microsoft.DPrep.SetColumnTypesBlock\\\\\\\\\\\\\\\", \\\\\\\\\\\\\\\"arguments\\\\\\\\\\\\\\\": {\\\\\\\\\\\\\\\"columnConversion\\\\\\\\\\\\\\\": [{\\\\\\\\\\\\\\\"column\\\\\\\\\\\\\\\": {\\\\\\\\\\\\\\\"type\\\\\\\\\\\\\\\": 2, \\\\\\\\\\\\\\\"details\\\\\\\\\\\\\\\": {\\\\\\\\\\\\\\\"selectedColumn\\\\\\\\\\\\\\\": \\\\\\\\\\\\\\\"Customer Id\\\\\\\\\\\\\\\"}}, \\\\\\\\\\\\\\\"typeProperty\\\\\\\\\\\\\\\": 0}, {\\\\\\\\\\\\\\\"column\\\\\\\\\\\\\\\": {\\\\\\\\\\\\\\\"type\\\\\\\\\\\\\\\": 2, \\\\\\\\\\\\\\\"details\\\\\\\\\\\\\\\": {\\\\\\\\\\\\\\\"selectedColumn\\\\\\\\\\\\\\\": \\\\\\\\\\\\\\\"YearOfObservation\\\\\\\\\\\\\\\"}}, \\\\\\\\\\\\\\\"typeProperty\\\\\\\\\\\\\\\": 2}, {\\\\\\\\\\\\\\\"column\\\\\\\\\\\\\\\": {\\\\\\\\\\\\\\\"type\\\\\\\\\\\\\\\": 2, \\\\\\\\\\\\\\\"details\\\\\\\\\\\\\\\": {\\\\\\\\\\\\\\\"selectedColumn\\\\\\\\\\\\\\\": \\\\\\\\\\\\\\\"Insured_Period\\\\\\\\\\\\\\\"}}, \\\\\\\\\\\\\\\"typeProperty\\\\\\\\\\\\\\\": 3}, {\\\\\\\\\\\\\\\"column\\\\\\\\\\\\\\\": {\\\\\\\\\\\\\\\"type\\\\\\\\\\\\\\\": 2, \\\\\\\\\\\\\\\"details\\\\\\\\\\\\\\\": {\\\\\\\\\\\\\\\"selectedColumn\\\\\\\\\\\\\\\": \\\\\\\\\\\\\\\"Residential\\\\\\\\\\\\\\\"}}, \\\\\\\\\\\\\\\"typeProperty\\\\\\\\\\\\\\\": 2}, {\\\\\\\\\\\\\\\"column\\\\\\\\\\\\\\\": {\\\\\\\\\\\\\\\"type\\\\\\\\\\\\\\\": 2, \\\\\\\\\\\\\\\"details\\\\\\\\\\\\\\\": {\\\\\\\\\\\\\\\"selectedColumn\\\\\\\\\\\\\\\": \\\\\\\\\\\\\\\"Building_Painted\\\\\\\\\\\\\\\"}}, \\\\\\\\\\\\\\\"typeProperty\\\\\\\\\\\\\\\": 0}, {\\\\\\\\\\\\\\\"column\\\\\\\\\\\\\\\": {\\\\\\\\\\\\\\\"type\\\\\\\\\\\\\\\": 2, \\\\\\\\\\\\\\\"details\\\\\\\\\\\\\\\": {\\\\\\\\\\\\\\\"selectedColumn\\\\\\\\\\\\\\\": \\\\\\\\\\\\\\\"Build_Paint_N\\\\\\\\\\\\\\\"}}, \\\\\\\\\\\\\\\"typeProperty\\\\\\\\\\\\\\\": 2}, {\\\\\\\\\\\\\\\"column\\\\\\\\\\\\\\\": {\\\\\\\\\\\\\\\"type\\\\\\\\\\\\\\\": 2, \\\\\\\\\\\\\\\"details\\\\\\\\\\\\\\\": {\\\\\\\\\\\\\\\"selectedColumn\\\\\\\\\\\\\\\": \\\\\\\\\\\\\\\"Building_Fenced\\\\\\\\\\\\\\\"}}, \\\\\\\\\\\\\\\"typeProperty\\\\\\\\\\\\\\\": 0}, {\\\\\\\\\\\\\\\"column\\\\\\\\\\\\\\\": {\\\\\\\\\\\\\\\"type\\\\\\\\\\\\\\\": 2, \\\\\\\\\\\\\\\"details\\\\\\\\\\\\\\\": {\\\\\\\\\\\\\\\"selectedColumn\\\\\\\\\\\\\\\": \\\\\\\\\\\\\\\"Build_Fence_N\\\\\\\\\\\\\\\"}}, \\\\\\\\\\\\\\\"typeProperty\\\\\\\\\\\\\\\": 2}, {\\\\\\\\\\\\\\\"column\\\\\\\\\\\\\\\": {\\\\\\\\\\\\\\\"type\\\\\\\\\\\\\\\": 2, \\\\\\\\\\\\\\\"details\\\\\\\\\\\\\\\": {\\\\\\\\\\\\\\\"selectedColumn\\\\\\\\\\\\\\\": \\\\\\\\\\\\\\\"Garden\\\\\\\\\\\\\\\"}}, \\\\\\\\\\\\\\\"typeProperty\\\\\\\\\\\\\\\": 0}, {\\\\\\\\\\\\\\\"column\\\\\\\\\\\\\\\": {\\\\\\\\\\\\\\\"type\\\\\\\\\\\\\\\": 2, \\\\\\\\\\\\\\\"details\\\\\\\\\\\\\\\": {\\\\\\\\\\\\\\\"selectedColumn\\\\\\\\\\\\\\\": \\\\\\\\\\\\\\\"Garden_V\\\\\\\\\\\\\\\"}}, \\\\\\\\\\\\\\\"typeProperty\\\\\\\\\\\\\\\": 2}, {\\\\\\\\\\\\\\\"column\\\\\\\\\\\\\\\": {\\\\\\\\\\\\\\\"type\\\\\\\\\\\\\\\": 2, \\\\\\\\\\\\\\\"details\\\\\\\\\\\\\\\": {\\\\\\\\\\\\\\\"selectedColumn\\\\\\\\\\\\\\\": \\\\\\\\\\\\\\\"Garden_O\\\\\\\\\\\\\\\"}}, \\\\\\\\\\\\\\\"typeProperty\\\\\\\\\\\\\\\": 2}, {\\\\\\\\\\\\\\\"column\\\\\\\\\\\\\\\": {\\\\\\\\\\\\\\\"type\\\\\\\\\\\\\\\": 2, \\\\\\\\\\\\\\\"details\\\\\\\\\\\\\\\": {\\\\\\\\\\\\\\\"selectedColumn\\\\\\\\\\\\\\\": \\\\\\\\\\\\\\\"Garden_T\\\\\\\\\\\\\\\"}}, \\\\\\\\\\\\\\\"typeProperty\\\\\\\\\\\\\\\": 2}, {\\\\\\\\\\\\\\\"column\\\\\\\\\\\\\\\": {\\\\\\\\\\\\\\\"type\\\\\\\\\\\\\\\": 2, \\\\\\\\\\\\\\\"details\\\\\\\\\\\\\\\": {\\\\\\\\\\\\\\\"selectedColumn\\\\\\\\\\\\\\\": \\\\\\\\\\\\\\\"Settlement\\\\\\\\\\\\\\\"}}, \\\\\\\\\\\\\\\"typeProperty\\\\\\\\\\\\\\\": 0}, {\\\\\\\\\\\\\\\"column\\\\\\\\\\\\\\\": {\\\\\\\\\\\\\\\"type\\\\\\\\\\\\\\\": 2, \\\\\\\\\\\\\\\"details\\\\\\\\\\\\\\\": {\\\\\\\\\\\\\\\"selectedColumn\\\\\\\\\\\\\\\": \\\\\\\\\\\\\\\"Settlement2\\\\\\\\\\\\\\\"}}, \\\\\\\\\\\\\\\"typeProperty\\\\\\\\\\\\\\\": 2}, {\\\\\\\\\\\\\\\"column\\\\\\\\\\\\\\\": {\\\\\\\\\\\\\\\"type\\\\\\\\\\\\\\\": 2, \\\\\\\\\\\\\\\"details\\\\\\\\\\\\\\\": {\\\\\\\\\\\\\\\"selectedColumn\\\\\\\\\\\\\\\": \\\\\\\\\\\\\\\"Building Dimension\\\\\\\\\\\\\\\"}}, \\\\\\\\\\\\\\\"typeProperty\\\\\\\\\\\\\\\": 2}, {\\\\\\\\\\\\\\\"column\\\\\\\\\\\\\\\": {\\\\\\\\\\\\\\\"type\\\\\\\\\\\\\\\": 2, \\\\\\\\\\\\\\\"details\\\\\\\\\\\\\\\": {\\\\\\\\\\\\\\\"selectedColumn\\\\\\\\\\\\\\\": \\\\\\\\\\\\\\\"Building_Type\\\\\\\\\\\\\\\"}}, \\\\\\\\\\\\\\\"typeProperty\\\\\\\\\\\\\\\": 2}, {\\\\\\\\\\\\\\\"column\\\\\\\\\\\\\\\": {\\\\\\\\\\\\\\\"type\\\\\\\\\\\\\\\": 2, \\\\\\\\\\\\\\\"details\\\\\\\\\\\\\\\": {\\\\\\\\\\\\\\\"selectedColumn\\\\\\\\\\\\\\\": \\\\\\\\\\\\\\\"Date_of_Occupancy\\\\\\\\\\\\\\\"}}, \\\\\\\\\\\\\\\"typeProperty\\\\\\\\\\\\\\\": 2}, {\\\\\\\\\\\\\\\"column\\\\\\\\\\\\\\\": {\\\\\\\\\\\\\\\"type\\\\\\\\\\\\\\\": 2, \\\\\\\\\\\\\\\"details\\\\\\\\\\\\\\\": {\\\\\\\\\\\\\\\"selectedColumn\\\\\\\\\\\\\\\": \\\\\\\\\\\\\\\"NumberOfWindows\\\\\\\\\\\\\\\"}}, \\\\\\\\\\\\\\\"typeProperty\\\\\\\\\\\\\\\": 2}, {\\\\\\\\\\\\\\\"column\\\\\\\\\\\\\\\": {\\\\\\\\\\\\\\\"type\\\\\\\\\\\\\\\": 2, \\\\\\\\\\\\\\\"details\\\\\\\\\\\\\\\": {\\\\\\\\\\\\\\\"selectedColumn\\\\\\\\\\\\\\\": \\\\\\\\\\\\\\\"Geo_Code\\\\\\\\\\\\\\\"}}, \\\\\\\\\\\\\\\"typeProperty\\\\\\\\\\\\\\\": 3}, {\\\\\\\\\\\\\\\"column\\\\\\\\\\\\\\\": {\\\\\\\\\\\\\\\"type\\\\\\\\\\\\\\\": 2, \\\\\\\\\\\\\\\"details\\\\\\\\\\\\\\\": {\\\\\\\\\\\\\\\"selectedColumn\\\\\\\\\\\\\\\": \\\\\\\\\\\\\\\"Claim\\\\\\\\\\\\\\\"}}, \\\\\\\\\\\\\\\"typeProperty\\\\\\\\\\\\\\\": 2}]}, \\\\\\\\\\\\\\\"localData\\\\\\\\\\\\\\\": {}, \\\\\\\\\\\\\\\"isEnabled\\\\\\\\\\\\\\\": true, \\\\\\\\\\\\\\\"name\\\\\\\\\\\\\\\": null, \\\\\\\\\\\\\\\"annotation\\\\\\\\\\\\\\\": null}], \\\\\\\\\\\\\\\"inspectors\\\\\\\\\\\\\\\": [], \\\\\\\\\\\\\\\"meta\\\\\\\\\\\\\\\": {\\\\\\\\\\\\\\\"savedDatasetId\\\\\\\\\\\\\\\": \\\\\\\\\\\\\\\"548a79fa-e870-4a4c-8a27-e8dea19abdbb\\\\\\\\\\\\\\\", \\\\\\\\\\\\\\\"datasetType\\\\\\\\\\\\\\\": \\\\\\\\\\\\\\\"tabular\\\\\\\\\\\\\\\", \\\\\\\\\\\\\\\"subscriptionId\\\\\\\\\\\\\\\": \\\\\\\\\\\\\\\"b968fb36-f06a-4c76-a15f-afab68ae7667\\\\\\\\\\\\\\\", \\\\\\\\\\\\\\\"workspaceId\\\\\\\\\\\\\\\": \\\\\\\\\\\\\\\"a6856a51-3a6f-4a84-9ac8-96087a7de317\\\\\\\\\\\\\\\", \\\\\\\\\\\\\\\"workspaceLocation\\\\\\\\\\\\\\\": \\\\\\\\\\\\\\\"southcentralus\\\\\\\\\\\\\\\"}}\\\\\\\", \\\\\\\"activities\\\\\\\": 0}\", \"EnableSubsampling\": null, \"runTemplate\": \"AutoML\", \"azureml.runsource\": \"automl\", \"display_task_type\": \"classification\", \"dependencies_versions\": \"{\\\"azureml-widgets\\\": \\\"1.20.0\\\", \\\"azureml-train\\\": \\\"1.20.0\\\", \\\"azureml-train-restclients-hyperdrive\\\": \\\"1.20.0\\\", \\\"azureml-train-core\\\": \\\"1.20.0\\\", \\\"azureml-train-automl\\\": \\\"1.20.0\\\", \\\"azureml-train-automl-runtime\\\": \\\"1.20.0\\\", \\\"azureml-train-automl-client\\\": \\\"1.20.0\\\", \\\"azureml-tensorboard\\\": \\\"1.20.0\\\", \\\"azureml-telemetry\\\": \\\"1.20.0\\\", \\\"azureml-sdk\\\": \\\"1.20.0\\\", \\\"azureml-samples\\\": \\\"0+unknown\\\", \\\"azureml-pipeline\\\": \\\"1.20.0\\\", \\\"azureml-pipeline-steps\\\": \\\"1.20.0\\\", \\\"azureml-pipeline-core\\\": \\\"1.20.0\\\", \\\"azureml-opendatasets\\\": \\\"1.20.0\\\", \\\"azureml-model-management-sdk\\\": \\\"1.0.1b6.post1\\\", \\\"azureml-mlflow\\\": \\\"1.20.0.post1\\\", \\\"azureml-interpret\\\": \\\"1.20.0\\\", \\\"azureml-explain-model\\\": \\\"1.20.0\\\", \\\"azureml-defaults\\\": \\\"1.20.0\\\", \\\"azureml-dataset-runtime\\\": \\\"1.20.0\\\", \\\"azureml-dataprep\\\": \\\"2.7.3\\\", \\\"azureml-dataprep-rslex\\\": \\\"1.5.0\\\", \\\"azureml-dataprep-native\\\": \\\"27.0.0\\\", \\\"azureml-datadrift\\\": \\\"1.20.0\\\", \\\"azureml-core\\\": \\\"1.20.0\\\", \\\"azureml-contrib-services\\\": \\\"1.20.0\\\", \\\"azureml-contrib-server\\\": \\\"1.20.0\\\", \\\"azureml-contrib-reinforcementlearning\\\": \\\"1.20.0\\\", \\\"azureml-contrib-pipeline-steps\\\": \\\"1.20.0\\\", \\\"azureml-contrib-notebook\\\": \\\"1.20.0\\\", \\\"azureml-contrib-interpret\\\": \\\"1.20.0\\\", \\\"azureml-contrib-gbdt\\\": \\\"1.20.0\\\", \\\"azureml-contrib-fairness\\\": \\\"1.20.0\\\", \\\"azureml-contrib-dataset\\\": \\\"1.20.0\\\", \\\"azureml-cli-common\\\": \\\"1.20.0\\\", \\\"azureml-automl-runtime\\\": \\\"1.20.0\\\", \\\"azureml-automl-core\\\": \\\"1.20.0\\\", \\\"azureml-accel-models\\\": \\\"1.20.0\\\"}\", \"_aml_system_scenario_identification\": \"Remote.Parent\", \"ClientType\": \"SDK\", \"environment_cpu_name\": \"AzureML-AutoML\", \"environment_cpu_label\": \"prod\", \"environment_gpu_name\": \"AzureML-AutoML-GPU\", \"environment_gpu_label\": \"prod\", \"root_attribution\": \"automl\", \"attribution\": \"AutoML\", \"Orchestrator\": \"AutoML\", \"CancelUri\": \"https://southcentralus.experiments.azureml.net/jasmine/v1.0/subscriptions/b968fb36-f06a-4c76-a15f-afab68ae7667/resourceGroups/aml-quickstarts-136441/providers/Microsoft.MachineLearningServices/workspaces/quick-starts-ws-136441/experimentids/979548ff-99ea-407b-aebe-527ad0e3aa18/cancel/AutoML_6725d1ca-3db3-4e35-ad53-123dd00d0ff6\", \"ClientSdkVersion\": \"1.20.0.post1\", \"snapshotId\": \"00000000-0000-0000-0000-000000000000\", \"SetupRunId\": \"AutoML_6725d1ca-3db3-4e35-ad53-123dd00d0ff6_setup\", \"SetupRunContainerId\": \"dcid.AutoML_6725d1ca-3db3-4e35-ad53-123dd00d0ff6_setup\", \"FeaturizationRunJsonPath\": \"featurizer_container.json\", \"FeaturizationRunId\": \"AutoML_6725d1ca-3db3-4e35-ad53-123dd00d0ff6_featurize\", \"ProblemInfoJsonString\": \"{\\\"dataset_num_categorical\\\": 0, \\\"is_sparse\\\": true, \\\"subsampling\\\": false, \\\"dataset_classes\\\": 2, \\\"dataset_features\\\": 37, \\\"dataset_samples\\\": 5673, \\\"single_frequency_class_detected\\\": false}\", \"ModelExplainRunId\": \"AutoML_6725d1ca-3db3-4e35-ad53-123dd00d0ff6_ModelExplain\"}, \"tags\": {\"model_explain_run\": \"best_run\", \"_aml_system_azureml.automlComponent\": \"AutoML\", \"pipeline_id\": \"\", \"score\": \"\", \"predicted_cost\": \"\", \"fit_time\": \"\", \"training_percent\": \"\", \"iteration\": \"\", \"run_preprocessor\": \"\", \"run_algorithm\": \"\", \"automl_best_child_run_id\": \"AutoML_6725d1ca-3db3-4e35-ad53-123dd00d0ff6_25\", \"model_explain_best_run_child_id\": \"AutoML_6725d1ca-3db3-4e35-ad53-123dd00d0ff6_25\"}, \"end_time_utc\": \"2021-01-29T02:34:54.016953Z\", \"status\": \"Completed\", \"log_files\": {}, \"log_groups\": [], \"run_duration\": \"0:38:05\"}, \"child_runs\": [{\"run_id\": \"AutoML_6725d1ca-3db3-4e35-ad53-123dd00d0ff6_0\", \"run_number\": 5, \"metric\": null, \"status\": \"Completed\", \"run_type\": \"azureml.scriptrun\", \"training_percent\": \"100\", \"start_time\": \"2021-01-29T02:01:18.180227Z\", \"end_time\": \"2021-01-29T02:02:06.073664Z\", \"created_time\": \"2021-01-29T02:01:04.909673Z\", \"created_time_dt\": \"2021-01-29T02:01:04.909673Z\", \"duration\": \"0:01:01\", \"iteration\": \"0\", \"goal\": \"accuracy_max\", \"run_name\": \"MaxAbsScaler, LightGBM\", \"run_properties\": \"copy=True\", \"primary_metric\": 0.78230252, \"best_metric\": 0.78230252}, {\"run_id\": \"AutoML_6725d1ca-3db3-4e35-ad53-123dd00d0ff6_1\", \"run_number\": 6, \"metric\": null, \"status\": \"Completed\", \"run_type\": \"azureml.scriptrun\", \"training_percent\": \"100\", \"start_time\": \"2021-01-29T02:02:23.298569Z\", \"end_time\": \"2021-01-29T02:03:14.50213Z\", \"created_time\": \"2021-01-29T02:02:07.645776Z\", \"created_time_dt\": \"2021-01-29T02:02:07.645776Z\", \"duration\": \"0:01:06\", \"iteration\": \"1\", \"goal\": \"accuracy_max\", \"run_name\": \"MaxAbsScaler, XGBoostClassifier\", \"run_properties\": \"copy=True\", \"primary_metric\": 0.78829663, \"best_metric\": 0.78829663}, {\"run_id\": \"AutoML_6725d1ca-3db3-4e35-ad53-123dd00d0ff6_2\", \"run_number\": 7, \"metric\": null, \"status\": \"Completed\", \"run_type\": \"azureml.scriptrun\", \"training_percent\": \"100\", \"start_time\": \"2021-01-29T02:03:36.325944Z\", \"end_time\": \"2021-01-29T02:04:33.446774Z\", \"created_time\": \"2021-01-29T02:03:15.639837Z\", \"created_time_dt\": \"2021-01-29T02:03:15.639837Z\", \"duration\": \"0:01:17\", \"iteration\": \"2\", \"goal\": \"accuracy_max\", \"run_name\": \"MaxAbsScaler, RandomForest\", \"run_properties\": \"copy=True\", \"primary_metric\": 0.77454809, \"best_metric\": 0.78829663}, {\"run_id\": \"AutoML_6725d1ca-3db3-4e35-ad53-123dd00d0ff6_3\", \"run_number\": 8, \"metric\": null, \"status\": \"Completed\", \"run_type\": \"azureml.scriptrun\", \"training_percent\": \"100\", \"start_time\": \"2021-01-29T02:04:47.616839Z\", \"end_time\": \"2021-01-29T02:05:35.109438Z\", \"created_time\": \"2021-01-29T02:04:36.111096Z\", \"created_time_dt\": \"2021-01-29T02:04:36.111096Z\", \"duration\": \"0:00:58\", \"iteration\": \"3\", \"goal\": \"accuracy_max\", \"run_name\": \"MaxAbsScaler, RandomForest\", \"run_properties\": \"copy=True\", \"primary_metric\": 0.77260874, \"best_metric\": 0.78829663}, {\"run_id\": \"AutoML_6725d1ca-3db3-4e35-ad53-123dd00d0ff6_4\", \"run_number\": 9, \"metric\": null, \"status\": \"Completed\", \"run_type\": \"azureml.scriptrun\", \"training_percent\": \"100\", \"start_time\": \"2021-01-29T02:05:49.452462Z\", \"end_time\": \"2021-01-29T02:06:36.89376Z\", \"created_time\": \"2021-01-29T02:05:37.818682Z\", \"created_time_dt\": \"2021-01-29T02:05:37.818682Z\", \"duration\": \"0:00:59\", \"iteration\": \"4\", \"goal\": \"accuracy_max\", \"run_name\": \"MaxAbsScaler, RandomForest\", \"run_properties\": \"copy=True\", \"primary_metric\": 0.68341076, \"best_metric\": 0.78829663}, {\"run_id\": \"AutoML_6725d1ca-3db3-4e35-ad53-123dd00d0ff6_5\", \"run_number\": 10, \"metric\": null, \"status\": \"Completed\", \"run_type\": \"azureml.scriptrun\", \"training_percent\": \"100\", \"start_time\": \"2021-01-29T02:06:55.594562Z\", \"end_time\": \"2021-01-29T02:07:51.241329Z\", \"created_time\": \"2021-01-29T02:06:39.634188Z\", \"created_time_dt\": \"2021-01-29T02:06:39.634188Z\", \"duration\": \"0:01:11\", \"iteration\": \"5\", \"goal\": \"accuracy_max\", \"run_name\": \"MaxAbsScaler, RandomForest\", \"run_properties\": \"copy=True\", \"primary_metric\": 0.67865054, \"best_metric\": 0.78829663}, {\"run_id\": \"AutoML_6725d1ca-3db3-4e35-ad53-123dd00d0ff6_6\", \"run_number\": 11, \"metric\": null, \"status\": \"Completed\", \"run_type\": \"azureml.scriptrun\", \"training_percent\": \"100\", \"start_time\": \"2021-01-29T02:08:08.386621Z\", \"end_time\": \"2021-01-29T02:08:56.121361Z\", \"created_time\": \"2021-01-29T02:07:53.775726Z\", \"created_time_dt\": \"2021-01-29T02:07:53.775726Z\", \"duration\": \"0:01:02\", \"iteration\": \"6\", \"goal\": \"accuracy_max\", \"run_name\": \"SparseNormalizer, XGBoostClassifier\", \"run_properties\": \"<azureml.automl.runtime.shared.model_wrappers.SparseNormalizer object at 0x7fe5ea1256d8\", \"primary_metric\": 0.77877692, \"best_metric\": 0.78829663}, {\"run_id\": \"AutoML_6725d1ca-3db3-4e35-ad53-123dd00d0ff6_7\", \"run_number\": 12, \"metric\": null, \"status\": \"Completed\", \"run_type\": \"azureml.scriptrun\", \"training_percent\": \"100\", \"start_time\": \"2021-01-29T02:09:19.187153Z\", \"end_time\": \"2021-01-29T02:10:38.449757Z\", \"created_time\": \"2021-01-29T02:08:59.424297Z\", \"created_time_dt\": \"2021-01-29T02:08:59.424297Z\", \"duration\": \"0:01:39\", \"iteration\": \"7\", \"goal\": \"accuracy_max\", \"run_name\": \"MaxAbsScaler, GradientBoosting\", \"run_properties\": \"copy=True\", \"primary_metric\": 0.78723793, \"best_metric\": 0.78829663}, {\"run_id\": \"AutoML_6725d1ca-3db3-4e35-ad53-123dd00d0ff6_8\", \"run_number\": 13, \"metric\": null, \"status\": \"Completed\", \"run_type\": \"azureml.scriptrun\", \"training_percent\": \"100\", \"start_time\": \"2021-01-29T02:10:55.815763Z\", \"end_time\": \"2021-01-29T02:11:47.807801Z\", \"created_time\": \"2021-01-29T02:10:40.232466Z\", \"created_time_dt\": \"2021-01-29T02:10:40.232466Z\", \"duration\": \"0:01:07\", \"iteration\": \"8\", \"goal\": \"accuracy_max\", \"run_name\": \"SparseNormalizer, XGBoostClassifier\", \"run_properties\": \"<azureml.automl.runtime.shared.model_wrappers.SparseNormalizer object at 0x7ff7e9045198\", \"primary_metric\": 0.775429, \"best_metric\": 0.78829663}, {\"run_id\": \"AutoML_6725d1ca-3db3-4e35-ad53-123dd00d0ff6_9\", \"run_number\": 14, \"metric\": null, \"status\": \"Completed\", \"run_type\": \"azureml.scriptrun\", \"training_percent\": \"100\", \"start_time\": \"2021-01-29T02:12:00.404014Z\", \"end_time\": \"2021-01-29T02:12:48.762886Z\", \"created_time\": \"2021-01-29T02:11:49.653605Z\", \"created_time_dt\": \"2021-01-29T02:11:49.653605Z\", \"duration\": \"0:00:59\", \"iteration\": \"9\", \"goal\": \"accuracy_max\", \"run_name\": \"MaxAbsScaler, LogisticRegression\", \"run_properties\": \"copy=True\", \"primary_metric\": 0.78565081, \"best_metric\": 0.78829663}, {\"run_id\": \"AutoML_6725d1ca-3db3-4e35-ad53-123dd00d0ff6_10\", \"run_number\": 15, \"metric\": null, \"status\": \"Completed\", \"run_type\": \"azureml.scriptrun\", \"training_percent\": \"100\", \"start_time\": \"2021-01-29T02:13:05.974021Z\", \"end_time\": \"2021-01-29T02:13:55.477536Z\", \"created_time\": \"2021-01-29T02:12:50.516572Z\", \"created_time_dt\": \"2021-01-29T02:12:50.516572Z\", \"duration\": \"0:01:04\", \"iteration\": \"10\", \"goal\": \"accuracy_max\", \"run_name\": \"MaxAbsScaler, LightGBM\", \"run_properties\": \"copy=True\", \"primary_metric\": 0.77366657, \"best_metric\": 0.78829663}, {\"run_id\": \"AutoML_6725d1ca-3db3-4e35-ad53-123dd00d0ff6_11\", \"run_number\": 16, \"metric\": null, \"status\": \"Completed\", \"run_type\": \"azureml.scriptrun\", \"training_percent\": \"100\", \"start_time\": \"2021-01-29T02:14:14.067877Z\", \"end_time\": \"2021-01-29T02:15:09.547264Z\", \"created_time\": \"2021-01-29T02:13:58.552759Z\", \"created_time_dt\": \"2021-01-29T02:13:58.552759Z\", \"duration\": \"0:01:10\", \"iteration\": \"11\", \"goal\": \"accuracy_max\", \"run_name\": \"SparseNormalizer, XGBoostClassifier\", \"run_properties\": \"<azureml.automl.runtime.shared.model_wrappers.SparseNormalizer object at 0x7f5b04b67198\", \"primary_metric\": 0.77948251, \"best_metric\": 0.78829663}, {\"run_id\": \"AutoML_6725d1ca-3db3-4e35-ad53-123dd00d0ff6_12\", \"run_number\": 17, \"metric\": null, \"status\": \"Completed\", \"run_type\": \"azureml.scriptrun\", \"training_percent\": \"100\", \"start_time\": \"2021-01-29T02:15:28.081468Z\", \"end_time\": \"2021-01-29T02:16:19.630157Z\", \"created_time\": \"2021-01-29T02:15:12.008591Z\", \"created_time_dt\": \"2021-01-29T02:15:12.008591Z\", \"duration\": \"0:01:07\", \"iteration\": \"12\", \"goal\": \"accuracy_max\", \"run_name\": \"MaxAbsScaler, RandomForest\", \"run_properties\": \"copy=True\", \"primary_metric\": 0.77260874, \"best_metric\": 0.78829663}, {\"run_id\": \"AutoML_6725d1ca-3db3-4e35-ad53-123dd00d0ff6_13\", \"run_number\": 18, \"metric\": null, \"status\": \"Completed\", \"run_type\": \"azureml.scriptrun\", \"training_percent\": \"100\", \"start_time\": \"2021-01-29T02:16:45.38407Z\", \"end_time\": \"2021-01-29T02:17:41.813511Z\", \"created_time\": \"2021-01-29T02:16:26.163856Z\", \"created_time_dt\": \"2021-01-29T02:16:26.163856Z\", \"duration\": \"0:01:15\", \"iteration\": \"13\", \"goal\": \"accuracy_max\", \"run_name\": \"SparseNormalizer, LightGBM\", \"run_properties\": \"<azureml.automl.runtime.shared.model_wrappers.SparseNormalizer object at 0x7f6f39505668\", \"primary_metric\": 0.77789714, \"best_metric\": 0.78829663}, {\"run_id\": \"AutoML_6725d1ca-3db3-4e35-ad53-123dd00d0ff6_14\", \"run_number\": 19, \"metric\": null, \"status\": \"Completed\", \"run_type\": \"azureml.scriptrun\", \"training_percent\": \"100\", \"start_time\": \"2021-01-29T02:17:59.477383Z\", \"end_time\": \"2021-01-29T02:18:53.50138Z\", \"created_time\": \"2021-01-29T02:17:44.69611Z\", \"created_time_dt\": \"2021-01-29T02:17:44.69611Z\", \"duration\": \"0:01:08\", \"iteration\": \"14\", \"goal\": \"accuracy_max\", \"run_name\": \"SparseNormalizer, XGBoostClassifier\", \"run_properties\": \"<azureml.automl.runtime.shared.model_wrappers.SparseNormalizer object at 0x7f6de039fd68\", \"primary_metric\": 0.78124494, \"best_metric\": 0.78829663}, {\"run_id\": \"AutoML_6725d1ca-3db3-4e35-ad53-123dd00d0ff6_15\", \"run_number\": 20, \"metric\": null, \"status\": \"Completed\", \"run_type\": \"azureml.scriptrun\", \"training_percent\": \"100\", \"start_time\": \"2021-01-29T02:19:13.395948Z\", \"end_time\": \"2021-01-29T02:20:07.075277Z\", \"created_time\": \"2021-01-29T02:18:55.905106Z\", \"created_time_dt\": \"2021-01-29T02:18:55.905106Z\", \"duration\": \"0:01:11\", \"iteration\": \"15\", \"goal\": \"accuracy_max\", \"run_name\": \"MaxAbsScaler, LightGBM\", \"run_properties\": \"copy=True\", \"primary_metric\": 0.78054059, \"best_metric\": 0.78829663}, {\"run_id\": \"AutoML_6725d1ca-3db3-4e35-ad53-123dd00d0ff6_16\", \"run_number\": 21, \"metric\": null, \"status\": \"Completed\", \"run_type\": \"azureml.scriptrun\", \"training_percent\": \"100\", \"start_time\": \"2021-01-29T02:20:27.839665Z\", \"end_time\": \"2021-01-29T02:21:20.449916Z\", \"created_time\": \"2021-01-29T02:20:09.799102Z\", \"created_time_dt\": \"2021-01-29T02:20:09.799102Z\", \"duration\": \"0:01:10\", \"iteration\": \"16\", \"goal\": \"accuracy_max\", \"run_name\": \"MaxAbsScaler, LightGBM\", \"run_properties\": \"copy=True\", \"primary_metric\": 0.78477091, \"best_metric\": 0.78829663}, {\"run_id\": \"AutoML_6725d1ca-3db3-4e35-ad53-123dd00d0ff6_17\", \"run_number\": 22, \"metric\": null, \"status\": \"Completed\", \"run_type\": \"azureml.scriptrun\", \"training_percent\": \"100\", \"start_time\": \"2021-01-29T02:21:36.099566Z\", \"end_time\": \"2021-01-29T02:22:32.313602Z\", \"created_time\": \"2021-01-29T02:21:22.144777Z\", \"created_time_dt\": \"2021-01-29T02:21:22.144777Z\", \"duration\": \"0:01:10\", \"iteration\": \"17\", \"goal\": \"accuracy_max\", \"run_name\": \"SparseNormalizer, XGBoostClassifier\", \"run_properties\": \"<azureml.automl.runtime.shared.model_wrappers.SparseNormalizer object at 0x7fbd203dad68\", \"primary_metric\": 0.77366657, \"best_metric\": 0.78829663}, {\"run_id\": \"AutoML_6725d1ca-3db3-4e35-ad53-123dd00d0ff6_18\", \"run_number\": 23, \"metric\": null, \"status\": \"Completed\", \"run_type\": \"azureml.scriptrun\", \"training_percent\": \"100\", \"start_time\": \"2021-01-29T02:22:50.010253Z\", \"end_time\": \"2021-01-29T02:24:01.59302Z\", \"created_time\": \"2021-01-29T02:22:34.044074Z\", \"created_time_dt\": \"2021-01-29T02:22:34.044074Z\", \"duration\": \"0:01:27\", \"iteration\": \"18\", \"goal\": \"accuracy_max\", \"run_name\": \"SparseNormalizer, XGBoostClassifier\", \"run_properties\": \"<azureml.automl.runtime.shared.model_wrappers.SparseNormalizer object at 0x7f7c1ff229e8\", \"primary_metric\": 0.76872842, \"best_metric\": 0.78829663}, {\"run_id\": \"AutoML_6725d1ca-3db3-4e35-ad53-123dd00d0ff6_19\", \"run_number\": 24, \"metric\": null, \"status\": \"Completed\", \"run_type\": \"azureml.scriptrun\", \"training_percent\": \"100\", \"start_time\": \"2021-01-29T02:24:19.495468Z\", \"end_time\": \"2021-01-29T02:25:24.203545Z\", \"created_time\": \"2021-01-29T02:24:03.931558Z\", \"created_time_dt\": \"2021-01-29T02:24:03.931558Z\", \"duration\": \"0:01:20\", \"iteration\": \"19\", \"goal\": \"accuracy_max\", \"run_name\": \"MaxAbsScaler, LightGBM\", \"run_properties\": \"copy=True\", \"primary_metric\": 0.78371345, \"best_metric\": 0.78829663}, {\"run_id\": \"AutoML_6725d1ca-3db3-4e35-ad53-123dd00d0ff6_20\", \"run_number\": 25, \"metric\": null, \"status\": \"Completed\", \"run_type\": \"azureml.scriptrun\", \"training_percent\": \"100\", \"start_time\": \"2021-01-29T02:25:38.103152Z\", \"end_time\": \"2021-01-29T02:26:34.423006Z\", \"created_time\": \"2021-01-29T02:25:25.981662Z\", \"created_time_dt\": \"2021-01-29T02:25:25.981662Z\", \"duration\": \"0:01:08\", \"iteration\": \"20\", \"goal\": \"accuracy_max\", \"run_name\": \"StandardScalerWrapper, ExtremeRandomTrees\", \"run_properties\": \"<azureml.automl.runtime.shared.model_wrappers.StandardScalerWrapper object at 0x7f5a88276358\", \"primary_metric\": 0.77260874, \"best_metric\": 0.78829663}, {\"run_id\": \"AutoML_6725d1ca-3db3-4e35-ad53-123dd00d0ff6_21\", \"run_number\": 26, \"metric\": null, \"status\": \"Completed\", \"run_type\": \"azureml.scriptrun\", \"training_percent\": \"100\", \"start_time\": \"2021-01-29T02:26:56.367462Z\", \"end_time\": \"2021-01-29T02:27:51.531648Z\", \"created_time\": \"2021-01-29T02:26:37.642953Z\", \"created_time_dt\": \"2021-01-29T02:26:37.642953Z\", \"duration\": \"0:01:13\", \"iteration\": \"21\", \"goal\": \"accuracy_max\", \"run_name\": \"MaxAbsScaler, LightGBM\", \"run_properties\": \"copy=True\", \"primary_metric\": 0.77648658, \"best_metric\": 0.78829663}, {\"run_id\": \"AutoML_6725d1ca-3db3-4e35-ad53-123dd00d0ff6_22\", \"run_number\": 27, \"metric\": null, \"status\": \"Completed\", \"run_type\": \"azureml.scriptrun\", \"training_percent\": \"100\", \"start_time\": \"2021-01-29T02:28:13.634089Z\", \"end_time\": \"2021-01-29T02:29:09.242618Z\", \"created_time\": \"2021-01-29T02:27:54.133365Z\", \"created_time_dt\": \"2021-01-29T02:27:54.133365Z\", \"duration\": \"0:01:15\", \"iteration\": \"22\", \"goal\": \"accuracy_max\", \"run_name\": \"MaxAbsScaler, ExtremeRandomTrees\", \"run_properties\": \"copy=True\", \"primary_metric\": 0.77789565, \"best_metric\": 0.78829663}, {\"run_id\": \"AutoML_6725d1ca-3db3-4e35-ad53-123dd00d0ff6_23\", \"run_number\": 28, \"metric\": null, \"status\": \"Completed\", \"run_type\": \"azureml.scriptrun\", \"training_percent\": \"100\", \"start_time\": \"2021-01-29T02:29:28.413009Z\", \"end_time\": \"2021-01-29T02:30:17.257367Z\", \"created_time\": \"2021-01-29T02:29:11.70922Z\", \"created_time_dt\": \"2021-01-29T02:29:11.70922Z\", \"duration\": \"0:01:05\", \"iteration\": \"23\", \"goal\": \"accuracy_max\", \"run_name\": \"StandardScalerWrapper, LightGBM\", \"run_properties\": \"<azureml.automl.runtime.shared.model_wrappers.StandardScalerWrapper object at 0x7f7670ec2eb8\", \"primary_metric\": 0.77260874, \"best_metric\": 0.78829663}, {\"run_id\": \"AutoML_6725d1ca-3db3-4e35-ad53-123dd00d0ff6_24\", \"run_number\": 29, \"metric\": null, \"status\": \"Completed\", \"run_type\": \"azureml.scriptrun\", \"training_percent\": \"100\", \"start_time\": \"2021-01-29T02:30:33.662614Z\", \"end_time\": \"2021-01-29T02:31:29.135707Z\", \"created_time\": \"2021-01-29T02:30:19.17309Z\", \"created_time_dt\": \"2021-01-29T02:30:19.17309Z\", \"duration\": \"0:01:09\", \"iteration\": \"24\", \"goal\": \"accuracy_max\", \"run_name\": \"StandardScalerWrapper, XGBoostClassifier\", \"run_properties\": \"<azureml.automl.runtime.shared.model_wrappers.StandardScalerWrapper object at 0x7f91ed58f470\", \"primary_metric\": 0.76573199, \"best_metric\": 0.78829663}, {\"run_id\": \"AutoML_6725d1ca-3db3-4e35-ad53-123dd00d0ff6_25\", \"run_number\": 30, \"metric\": null, \"status\": \"Completed\", \"run_type\": \"azureml.scriptrun\", \"training_percent\": \"100\", \"start_time\": \"2021-01-29T02:31:43.963453Z\", \"end_time\": \"2021-01-29T02:32:58.489722Z\", \"created_time\": \"2021-01-29T02:31:30.009676Z\", \"created_time_dt\": \"2021-01-29T02:31:30.009676Z\", \"duration\": \"0:01:28\", \"iteration\": \"25\", \"goal\": \"accuracy_max\", \"run_name\": \"VotingEnsemble\", \"run_properties\": \"classification_labels=None,\\n                              estimators=[('1',\\n                                           Pipeline(memory=None,\\n                                                    steps=[('maxabsscaler',\\n                                                            MaxAbsScaler(copy=True\", \"primary_metric\": 0.79094008, \"best_metric\": 0.79094008}, {\"run_id\": \"AutoML_6725d1ca-3db3-4e35-ad53-123dd00d0ff6_26\", \"run_number\": 31, \"metric\": null, \"status\": \"Completed\", \"run_type\": \"azureml.scriptrun\", \"training_percent\": \"100\", \"start_time\": \"2021-01-29T02:33:13.411635Z\", \"end_time\": \"2021-01-29T02:34:48.355476Z\", \"created_time\": \"2021-01-29T02:32:59.913346Z\", \"created_time_dt\": \"2021-01-29T02:32:59.913346Z\", \"duration\": \"0:01:48\", \"iteration\": \"26\", \"goal\": \"accuracy_max\", \"run_name\": \"StackEnsemble\", \"run_properties\": \"base_learners=[('1',\\n                                        Pipeline(memory=None,\\n                                                 steps=[('maxabsscaler',\\n                                                         MaxAbsScaler(copy=True\", \"primary_metric\": 0.78917765, \"best_metric\": 0.79094008}], \"children_metrics\": {\"categories\": [0], \"series\": {\"recall_score_weighted\": [{\"categories\": [\"0\", \"1\", \"2\", \"3\", \"4\", \"5\", \"6\", \"7\", \"8\", \"9\", \"10\", \"11\", \"12\", \"13\", \"14\", \"15\", \"16\", \"17\", \"18\", \"19\", \"20\", \"21\", \"22\", \"23\", \"24\", \"25\", \"26\"], \"mode\": \"markers\", \"name\": \"recall_score_weighted\", \"stepped\": false, \"type\": \"scatter\", \"data\": [0.7823025164227972, 0.7882966261824462, 0.7745480935242145, 0.7726087423253428, 0.6834107632562711, 0.6786505375863136, 0.7787769203167569, 0.7872379285358588, 0.7754289955679071, 0.7856508139087599, 0.7736665702520001, 0.7794825116716415, 0.7726087423253428, 0.7778971364844033, 0.7812449369875486, 0.7805405880897074, 0.7847709058307017, 0.7736665702520001, 0.7687284247334432, 0.7837134506411576, 0.7726087423253428, 0.7764865750031558, 0.7778956455359511, 0.7726087423253428, 0.7657319910821404, 0.7909400777877506, 0.7891776524718433]}, {\"categories\": [\"0\", \"1\", \"2\", \"3\", \"4\", \"5\", \"6\", \"7\", \"8\", \"9\", \"10\", \"11\", \"12\", \"13\", \"14\", \"15\", \"16\", \"17\", \"18\", \"19\", \"20\", \"21\", \"22\", \"23\", \"24\", \"25\", \"26\"], \"mode\": \"lines\", \"name\": \"recall_score_weighted_max\", \"stepped\": true, \"type\": \"scatter\", \"data\": [0.7823025164227972, 0.7882966261824462, 0.7882966261824462, 0.7882966261824462, 0.7882966261824462, 0.7882966261824462, 0.7882966261824462, 0.7882966261824462, 0.7882966261824462, 0.7882966261824462, 0.7882966261824462, 0.7882966261824462, 0.7882966261824462, 0.7882966261824462, 0.7882966261824462, 0.7882966261824462, 0.7882966261824462, 0.7882966261824462, 0.7882966261824462, 0.7882966261824462, 0.7882966261824462, 0.7882966261824462, 0.7882966261824462, 0.7882966261824462, 0.7882966261824462, 0.7909400777877506, 0.7909400777877506]}], \"f1_score_micro\": [{\"categories\": [\"0\", \"1\", \"2\", \"3\", \"4\", \"5\", \"6\", \"7\", \"8\", \"9\", \"10\", \"11\", \"12\", \"13\", \"14\", \"15\", \"16\", \"17\", \"18\", \"19\", \"20\", \"21\", \"22\", \"23\", \"24\", \"25\", \"26\"], \"mode\": \"markers\", \"name\": \"f1_score_micro\", \"stepped\": false, \"type\": \"scatter\", \"data\": [0.7823025164227971, 0.7882966261824462, 0.7745480935242144, 0.7726087423253428, 0.6834107632562711, 0.6786505375863136, 0.7787769203167568, 0.7872379285358588, 0.7754289955679071, 0.7856508139087599, 0.7736665702520001, 0.7794825116716414, 0.7726087423253428, 0.7778971364844032, 0.7812449369875486, 0.7805405880897074, 0.7847709058307017, 0.7736665702520001, 0.7687284247334432, 0.7837134506411576, 0.7726087423253428, 0.7764865750031558, 0.7778956455359513, 0.7726087423253428, 0.7657319910821404, 0.7909400777877506, 0.7891776524718435]}, {\"categories\": [\"0\", \"1\", \"2\", \"3\", \"4\", \"5\", \"6\", \"7\", \"8\", \"9\", \"10\", \"11\", \"12\", \"13\", \"14\", \"15\", \"16\", \"17\", \"18\", \"19\", \"20\", \"21\", \"22\", \"23\", \"24\", \"25\", \"26\"], \"mode\": \"lines\", \"name\": \"f1_score_micro_max\", \"stepped\": true, \"type\": \"scatter\", \"data\": [0.7823025164227971, 0.7882966261824462, 0.7882966261824462, 0.7882966261824462, 0.7882966261824462, 0.7882966261824462, 0.7882966261824462, 0.7882966261824462, 0.7882966261824462, 0.7882966261824462, 0.7882966261824462, 0.7882966261824462, 0.7882966261824462, 0.7882966261824462, 0.7882966261824462, 0.7882966261824462, 0.7882966261824462, 0.7882966261824462, 0.7882966261824462, 0.7882966261824462, 0.7882966261824462, 0.7882966261824462, 0.7882966261824462, 0.7882966261824462, 0.7882966261824462, 0.7909400777877506, 0.7909400777877506]}], \"accuracy\": [{\"categories\": [\"0\", \"1\", \"2\", \"3\", \"4\", \"5\", \"6\", \"7\", \"8\", \"9\", \"10\", \"11\", \"12\", \"13\", \"14\", \"15\", \"16\", \"17\", \"18\", \"19\", \"20\", \"21\", \"22\", \"23\", \"24\", \"25\", \"26\"], \"mode\": \"markers\", \"name\": \"accuracy\", \"stepped\": false, \"type\": \"scatter\", \"data\": [0.7823025164227972, 0.7882966261824462, 0.7745480935242145, 0.7726087423253428, 0.6834107632562711, 0.6786505375863136, 0.7787769203167569, 0.7872379285358588, 0.7754289955679071, 0.7856508139087599, 0.7736665702520001, 0.7794825116716415, 0.7726087423253428, 0.7778971364844033, 0.7812449369875486, 0.7805405880897074, 0.7847709058307017, 0.7736665702520001, 0.7687284247334432, 0.7837134506411576, 0.7726087423253428, 0.7764865750031558, 0.7778956455359511, 0.7726087423253428, 0.7657319910821404, 0.7909400777877506, 0.7891776524718433]}, {\"categories\": [\"0\", \"1\", \"2\", \"3\", \"4\", \"5\", \"6\", \"7\", \"8\", \"9\", \"10\", \"11\", \"12\", \"13\", \"14\", \"15\", \"16\", \"17\", \"18\", \"19\", \"20\", \"21\", \"22\", \"23\", \"24\", \"25\", \"26\"], \"mode\": \"lines\", \"name\": \"accuracy_max\", \"stepped\": true, \"type\": \"scatter\", \"data\": [0.7823025164227972, 0.7882966261824462, 0.7882966261824462, 0.7882966261824462, 0.7882966261824462, 0.7882966261824462, 0.7882966261824462, 0.7882966261824462, 0.7882966261824462, 0.7882966261824462, 0.7882966261824462, 0.7882966261824462, 0.7882966261824462, 0.7882966261824462, 0.7882966261824462, 0.7882966261824462, 0.7882966261824462, 0.7882966261824462, 0.7882966261824462, 0.7882966261824462, 0.7882966261824462, 0.7882966261824462, 0.7882966261824462, 0.7882966261824462, 0.7882966261824462, 0.7909400777877506, 0.7909400777877506]}], \"average_precision_score_weighted\": [{\"categories\": [\"0\", \"1\", \"2\", \"3\", \"4\", \"5\", \"6\", \"7\", \"8\", \"9\", \"10\", \"11\", \"12\", \"13\", \"14\", \"15\", \"16\", \"17\", \"18\", \"19\", \"20\", \"21\", \"22\", \"23\", \"24\", \"25\", \"26\"], \"mode\": \"markers\", \"name\": \"average_precision_score_weighted\", \"stepped\": false, \"type\": \"scatter\", \"data\": [0.7698878675717137, 0.785165243904426, 0.7709362119770927, 0.7703751535803465, 0.7768434066208629, 0.7727740526343168, 0.7592874906291468, 0.7845829427329706, 0.7445595982774984, 0.7808290116845761, 0.7832038390894704, 0.7582221854734242, 0.7701829685764161, 0.7613393312298188, 0.7748742052986907, 0.7764729247654748, 0.7800156087682562, 0.7570272433898406, 0.7502367190018558, 0.7850894720545532, 0.7513665587619882, 0.7816606252875575, 0.7777872365905089, 0.7736925247028217, 0.7532726860411512, 0.7882754581488892, 0.7867165079835448]}, {\"categories\": [\"0\", \"1\", \"2\", \"3\", \"4\", \"5\", \"6\", \"7\", \"8\", \"9\", \"10\", \"11\", \"12\", \"13\", \"14\", \"15\", \"16\", \"17\", \"18\", \"19\", \"20\", \"21\", \"22\", \"23\", \"24\", \"25\", \"26\"], \"mode\": \"lines\", \"name\": \"average_precision_score_weighted_max\", \"stepped\": true, \"type\": \"scatter\", \"data\": [0.7698878675717137, 0.785165243904426, 0.785165243904426, 0.785165243904426, 0.785165243904426, 0.785165243904426, 0.785165243904426, 0.785165243904426, 0.785165243904426, 0.785165243904426, 0.785165243904426, 0.785165243904426, 0.785165243904426, 0.785165243904426, 0.785165243904426, 0.785165243904426, 0.785165243904426, 0.785165243904426, 0.785165243904426, 0.785165243904426, 0.785165243904426, 0.785165243904426, 0.785165243904426, 0.785165243904426, 0.785165243904426, 0.7882754581488892, 0.7882754581488892]}], \"matthews_correlation\": [{\"categories\": [\"0\", \"1\", \"2\", \"3\", \"4\", \"5\", \"6\", \"7\", \"8\", \"9\", \"10\", \"11\", \"12\", \"13\", \"14\", \"15\", \"16\", \"17\", \"18\", \"19\", \"20\", \"21\", \"22\", \"23\", \"24\", \"25\", \"26\"], \"mode\": \"markers\", \"name\": \"matthews_correlation\", \"stepped\": false, \"type\": \"scatter\", \"data\": [0.2553505096992275, 0.25508416341572554, 0.04528009768872178, 0.0, 0.26694597069039133, 0.2641051009789375, 0.2240340780081867, 0.23898040765005335, 0.09457194385609025, 0.22059513796161295, 0.04164921116511267, 0.22895343466334223, 0.0, 0.1365317731272217, 0.2252839731553103, 0.17905850441590848, 0.22251564686726047, 0.043022207332247195, 0.21967103747009686, 0.23889465095279816, 0.0, 0.1069616523279661, 0.1393260251840379, 0.0, 0.18255173876637026, 0.2549147589951364, 0.25271227707052757]}, {\"categories\": [\"0\", \"1\", \"2\", \"3\", \"4\", \"5\", \"6\", \"7\", \"8\", \"9\", \"10\", \"11\", \"12\", \"13\", \"14\", \"15\", \"16\", \"17\", \"18\", \"19\", \"20\", \"21\", \"22\", \"23\", \"24\", \"25\", \"26\"], \"mode\": \"lines\", \"name\": \"matthews_correlation_max\", \"stepped\": true, \"type\": \"scatter\", \"data\": [0.2553505096992275, 0.2553505096992275, 0.2553505096992275, 0.2553505096992275, 0.26694597069039133, 0.26694597069039133, 0.26694597069039133, 0.26694597069039133, 0.26694597069039133, 0.26694597069039133, 0.26694597069039133, 0.26694597069039133, 0.26694597069039133, 0.26694597069039133, 0.26694597069039133, 0.26694597069039133, 0.26694597069039133, 0.26694597069039133, 0.26694597069039133, 0.26694597069039133, 0.26694597069039133, 0.26694597069039133, 0.26694597069039133, 0.26694597069039133, 0.26694597069039133, 0.26694597069039133, 0.26694597069039133]}], \"precision_score_weighted\": [{\"categories\": [\"0\", \"1\", \"2\", \"3\", \"4\", \"5\", \"6\", \"7\", \"8\", \"9\", \"10\", \"11\", \"12\", \"13\", \"14\", \"15\", \"16\", \"17\", \"18\", \"19\", \"20\", \"21\", \"22\", \"23\", \"24\", \"25\", \"26\"], \"mode\": \"markers\", \"name\": \"precision_score_weighted\", \"stepped\": false, \"type\": \"scatter\", \"data\": [0.7494173643497798, 0.7579703818155049, 0.6559888312406803, 0.5969852727161328, 0.7475604532021738, 0.7469757958696239, 0.7414401068227227, 0.7569331473551846, 0.7603333760200414, 0.7554853741092852, 0.7120373552377832, 0.742739071746417, 0.5969852727161328, 0.7459161216096543, 0.7445818228530413, 0.751750032351385, 0.7528784335863135, 0.690280449570388, 0.7326371958375102, 0.7493897303088085, 0.5969852727161328, 0.7782841430995264, 0.7470527097081588, 0.5969852727161328, 0.7222591979774812, 0.7670236959255224, 0.761198154449828]}, {\"categories\": [\"0\", \"1\", \"2\", \"3\", \"4\", \"5\", \"6\", \"7\", \"8\", \"9\", \"10\", \"11\", \"12\", \"13\", \"14\", \"15\", \"16\", \"17\", \"18\", \"19\", \"20\", \"21\", \"22\", \"23\", \"24\", \"25\", \"26\"], \"mode\": \"lines\", \"name\": \"precision_score_weighted_max\", \"stepped\": true, \"type\": \"scatter\", \"data\": [0.7494173643497798, 0.7579703818155049, 0.7579703818155049, 0.7579703818155049, 0.7579703818155049, 0.7579703818155049, 0.7579703818155049, 0.7579703818155049, 0.7603333760200414, 0.7603333760200414, 0.7603333760200414, 0.7603333760200414, 0.7603333760200414, 0.7603333760200414, 0.7603333760200414, 0.7603333760200414, 0.7603333760200414, 0.7603333760200414, 0.7603333760200414, 0.7603333760200414, 0.7603333760200414, 0.7782841430995264, 0.7782841430995264, 0.7782841430995264, 0.7782841430995264, 0.7782841430995264, 0.7782841430995264]}], \"AUC_macro\": [{\"categories\": [\"0\", \"1\", \"2\", \"3\", \"4\", \"5\", \"6\", \"7\", \"8\", \"9\", \"10\", \"11\", \"12\", \"13\", \"14\", \"15\", \"16\", \"17\", \"18\", \"19\", \"20\", \"21\", \"22\", \"23\", \"24\", \"25\", \"26\"], \"mode\": \"markers\", \"name\": \"AUC_macro\", \"stepped\": false, \"type\": \"scatter\", \"data\": [0.6947622113250748, 0.7190715218211028, 0.7031558901289123, 0.7010394152440229, 0.7068099126401284, 0.705728711824592, 0.6822773366652106, 0.7147085887433332, 0.6701115460385179, 0.7108590007903836, 0.7120585475704216, 0.6796069115694089, 0.7038766575473439, 0.6920882679856191, 0.7015716470743113, 0.7061908678037048, 0.7109947335950084, 0.6889017888763562, 0.6664011933763909, 0.7166374765220179, 0.6637206595160441, 0.7115924475392313, 0.7063227254781808, 0.7034345165034632, 0.6710504791765846, 0.7203179792449905, 0.7177580556212775]}, {\"categories\": [\"0\", \"1\", \"2\", \"3\", \"4\", \"5\", \"6\", \"7\", \"8\", \"9\", \"10\", \"11\", \"12\", \"13\", \"14\", \"15\", \"16\", \"17\", \"18\", \"19\", \"20\", \"21\", \"22\", \"23\", \"24\", \"25\", \"26\"], \"mode\": \"lines\", \"name\": \"AUC_macro_max\", \"stepped\": true, \"type\": \"scatter\", \"data\": [0.6947622113250748, 0.7190715218211028, 0.7190715218211028, 0.7190715218211028, 0.7190715218211028, 0.7190715218211028, 0.7190715218211028, 0.7190715218211028, 0.7190715218211028, 0.7190715218211028, 0.7190715218211028, 0.7190715218211028, 0.7190715218211028, 0.7190715218211028, 0.7190715218211028, 0.7190715218211028, 0.7190715218211028, 0.7190715218211028, 0.7190715218211028, 0.7190715218211028, 0.7190715218211028, 0.7190715218211028, 0.7190715218211028, 0.7190715218211028, 0.7190715218211028, 0.7203179792449905, 0.7203179792449905]}], \"log_loss\": [{\"categories\": [\"0\", \"1\", \"2\", \"3\", \"4\", \"5\", \"6\", \"7\", \"8\", \"9\", \"10\", \"11\", \"12\", \"13\", \"14\", \"15\", \"16\", \"17\", \"18\", \"19\", \"20\", \"21\", \"22\", \"23\", \"24\", \"25\", \"26\"], \"mode\": \"markers\", \"name\": \"log_loss\", \"stepped\": false, \"type\": \"scatter\", \"data\": [0.5060220120215346, 0.4797050680561009, 0.49296562876928335, 0.49691063337370944, 0.6218091157798548, 0.640017938794576, 0.5013726357951883, 0.48156880589348217, 0.5388689574657315, 0.48602087115084064, 0.49306303542234636, 0.5004269118492505, 0.48909052123292485, 0.4944919057389949, 0.48883580784123526, 0.48733257365051563, 0.48316009360190665, 0.5042850406786712, 0.5411952638723341, 0.48035158910394804, 0.5184221161677156, 0.49178032109019487, 0.488713655031333, 0.49500669585394796, 0.5263974845413658, 0.4784115207338631, 0.48053869292541407]}, {\"categories\": [\"0\", \"1\", \"2\", \"3\", \"4\", \"5\", \"6\", \"7\", \"8\", \"9\", \"10\", \"11\", \"12\", \"13\", \"14\", \"15\", \"16\", \"17\", \"18\", \"19\", \"20\", \"21\", \"22\", \"23\", \"24\", \"25\", \"26\"], \"mode\": \"lines\", \"name\": \"log_loss_min\", \"stepped\": true, \"type\": \"scatter\", \"data\": [0.5060220120215346, 0.4797050680561009, 0.4797050680561009, 0.4797050680561009, 0.4797050680561009, 0.4797050680561009, 0.4797050680561009, 0.4797050680561009, 0.4797050680561009, 0.4797050680561009, 0.4797050680561009, 0.4797050680561009, 0.4797050680561009, 0.4797050680561009, 0.4797050680561009, 0.4797050680561009, 0.4797050680561009, 0.4797050680561009, 0.4797050680561009, 0.4797050680561009, 0.4797050680561009, 0.4797050680561009, 0.4797050680561009, 0.4797050680561009, 0.4797050680561009, 0.4784115207338631, 0.4784115207338631]}], \"AUC_weighted\": [{\"categories\": [\"0\", \"1\", \"2\", \"3\", \"4\", \"5\", \"6\", \"7\", \"8\", \"9\", \"10\", \"11\", \"12\", \"13\", \"14\", \"15\", \"16\", \"17\", \"18\", \"19\", \"20\", \"21\", \"22\", \"23\", \"24\", \"25\", \"26\"], \"mode\": \"markers\", \"name\": \"AUC_weighted\", \"stepped\": false, \"type\": \"scatter\", \"data\": [0.6947622113250748, 0.7190715218211028, 0.7031558901289123, 0.7010394152440229, 0.7068099126401283, 0.705728711824592, 0.6822775368691038, 0.7147085887433333, 0.6701115460385179, 0.7108590007903836, 0.7120585475704216, 0.6796069115694089, 0.7038766575473439, 0.6920882679856191, 0.7015716470743112, 0.7061908678037048, 0.7109947335950083, 0.6889017888763562, 0.6664011933763909, 0.716637476522018, 0.663720659516044, 0.7115924475392313, 0.7063227254781808, 0.7034345165034632, 0.6710504791765846, 0.7203179792449907, 0.7177580556212775]}, {\"categories\": [\"0\", \"1\", \"2\", \"3\", \"4\", \"5\", \"6\", \"7\", \"8\", \"9\", \"10\", \"11\", \"12\", \"13\", \"14\", \"15\", \"16\", \"17\", \"18\", \"19\", \"20\", \"21\", \"22\", \"23\", \"24\", \"25\", \"26\"], \"mode\": \"lines\", \"name\": \"AUC_weighted_max\", \"stepped\": true, \"type\": \"scatter\", \"data\": [0.6947622113250748, 0.7190715218211028, 0.7190715218211028, 0.7190715218211028, 0.7190715218211028, 0.7190715218211028, 0.7190715218211028, 0.7190715218211028, 0.7190715218211028, 0.7190715218211028, 0.7190715218211028, 0.7190715218211028, 0.7190715218211028, 0.7190715218211028, 0.7190715218211028, 0.7190715218211028, 0.7190715218211028, 0.7190715218211028, 0.7190715218211028, 0.7190715218211028, 0.7190715218211028, 0.7190715218211028, 0.7190715218211028, 0.7190715218211028, 0.7190715218211028, 0.7203179792449907, 0.7203179792449907]}], \"recall_score_macro\": [{\"categories\": [\"0\", \"1\", \"2\", \"3\", \"4\", \"5\", \"6\", \"7\", \"8\", \"9\", \"10\", \"11\", \"12\", \"13\", \"14\", \"15\", \"16\", \"17\", \"18\", \"19\", \"20\", \"21\", \"22\", \"23\", \"24\", \"25\", \"26\"], \"mode\": \"markers\", \"name\": \"recall_score_macro\", \"stepped\": false, \"type\": \"scatter\", \"data\": [0.591361612728577, 0.5798513415204641, 0.5083155740707154, 0.5, 0.6527873538633894, 0.6519188133948552, 0.574236409722088, 0.5693283746735187, 0.5099113108752417, 0.5586826501792141, 0.5023100664767332, 0.5767960803563676, 0.5, 0.5229969161347434, 0.5713432210339346, 0.5398473403376122, 0.5618154656940066, 0.5042018252211908, 0.5836068091169864, 0.5766659912628505, 0.5, 0.5106431786937957, 0.5238028595369455, 0.5, 0.5631134367167892, 0.5713538740253968, 0.5750763469025892]}, {\"categories\": [\"0\", \"1\", \"2\", \"3\", \"4\", \"5\", \"6\", \"7\", \"8\", \"9\", \"10\", \"11\", \"12\", \"13\", \"14\", \"15\", \"16\", \"17\", \"18\", \"19\", \"20\", \"21\", \"22\", \"23\", \"24\", \"25\", \"26\"], \"mode\": \"lines\", \"name\": \"recall_score_macro_max\", \"stepped\": true, \"type\": \"scatter\", \"data\": [0.591361612728577, 0.591361612728577, 0.591361612728577, 0.591361612728577, 0.6527873538633894, 0.6527873538633894, 0.6527873538633894, 0.6527873538633894, 0.6527873538633894, 0.6527873538633894, 0.6527873538633894, 0.6527873538633894, 0.6527873538633894, 0.6527873538633894, 0.6527873538633894, 0.6527873538633894, 0.6527873538633894, 0.6527873538633894, 0.6527873538633894, 0.6527873538633894, 0.6527873538633894, 0.6527873538633894, 0.6527873538633894, 0.6527873538633894, 0.6527873538633894, 0.6527873538633894, 0.6527873538633894]}], \"recall_score_micro\": [{\"categories\": [\"0\", \"1\", \"2\", \"3\", \"4\", \"5\", \"6\", \"7\", \"8\", \"9\", \"10\", \"11\", \"12\", \"13\", \"14\", \"15\", \"16\", \"17\", \"18\", \"19\", \"20\", \"21\", \"22\", \"23\", \"24\", \"25\", \"26\"], \"mode\": \"markers\", \"name\": \"recall_score_micro\", \"stepped\": false, \"type\": \"scatter\", \"data\": [0.7823025164227972, 0.7882966261824462, 0.7745480935242145, 0.7726087423253428, 0.6834107632562711, 0.6786505375863136, 0.7787769203167569, 0.7872379285358588, 0.7754289955679071, 0.7856508139087599, 0.7736665702520001, 0.7794825116716415, 0.7726087423253428, 0.7778971364844033, 0.7812449369875486, 0.7805405880897074, 0.7847709058307017, 0.7736665702520001, 0.7687284247334432, 0.7837134506411576, 0.7726087423253428, 0.7764865750031558, 0.7778956455359511, 0.7726087423253428, 0.7657319910821404, 0.7909400777877506, 0.7891776524718433]}, {\"categories\": [\"0\", \"1\", \"2\", \"3\", \"4\", \"5\", \"6\", \"7\", \"8\", \"9\", \"10\", \"11\", \"12\", \"13\", \"14\", \"15\", \"16\", \"17\", \"18\", \"19\", \"20\", \"21\", \"22\", \"23\", \"24\", \"25\", \"26\"], \"mode\": \"lines\", \"name\": \"recall_score_micro_max\", \"stepped\": true, \"type\": \"scatter\", \"data\": [0.7823025164227972, 0.7882966261824462, 0.7882966261824462, 0.7882966261824462, 0.7882966261824462, 0.7882966261824462, 0.7882966261824462, 0.7882966261824462, 0.7882966261824462, 0.7882966261824462, 0.7882966261824462, 0.7882966261824462, 0.7882966261824462, 0.7882966261824462, 0.7882966261824462, 0.7882966261824462, 0.7882966261824462, 0.7882966261824462, 0.7882966261824462, 0.7882966261824462, 0.7882966261824462, 0.7882966261824462, 0.7882966261824462, 0.7882966261824462, 0.7882966261824462, 0.7909400777877506, 0.7909400777877506]}], \"norm_macro_recall\": [{\"categories\": [\"0\", \"1\", \"2\", \"3\", \"4\", \"5\", \"6\", \"7\", \"8\", \"9\", \"10\", \"11\", \"12\", \"13\", \"14\", \"15\", \"16\", \"17\", \"18\", \"19\", \"20\", \"21\", \"22\", \"23\", \"24\", \"25\", \"26\"], \"mode\": \"markers\", \"name\": \"norm_macro_recall\", \"stepped\": false, \"type\": \"scatter\", \"data\": [0.18272322545715386, 0.15970268304092833, 0.016631148141430685, 0.0, 0.30557470772677875, 0.30383762678971066, 0.14847281944417606, 0.13865674934703742, 0.01982262175048327, 0.11736530035842818, 0.004620132953466305, 0.1535921607127354, 0.0, 0.045993832269486834, 0.1426864420678694, 0.07969468067522445, 0.12363093138801345, 0.008403650442381783, 0.1672136182339729, 0.15333198252570102, 0.0, 0.021286357387591548, 0.047605719073890995, 0.0, 0.1262268734335782, 0.14270774805079367, 0.15015269380517843]}, {\"categories\": [\"0\", \"1\", \"2\", \"3\", \"4\", \"5\", \"6\", \"7\", \"8\", \"9\", \"10\", \"11\", \"12\", \"13\", \"14\", \"15\", \"16\", \"17\", \"18\", \"19\", \"20\", \"21\", \"22\", \"23\", \"24\", \"25\", \"26\"], \"mode\": \"lines\", \"name\": \"norm_macro_recall_max\", \"stepped\": true, \"type\": \"scatter\", \"data\": [0.18272322545715386, 0.18272322545715386, 0.18272322545715386, 0.18272322545715386, 0.30557470772677875, 0.30557470772677875, 0.30557470772677875, 0.30557470772677875, 0.30557470772677875, 0.30557470772677875, 0.30557470772677875, 0.30557470772677875, 0.30557470772677875, 0.30557470772677875, 0.30557470772677875, 0.30557470772677875, 0.30557470772677875, 0.30557470772677875, 0.30557470772677875, 0.30557470772677875, 0.30557470772677875, 0.30557470772677875, 0.30557470772677875, 0.30557470772677875, 0.30557470772677875, 0.30557470772677875, 0.30557470772677875]}], \"weighted_accuracy\": [{\"categories\": [\"0\", \"1\", \"2\", \"3\", \"4\", \"5\", \"6\", \"7\", \"8\", \"9\", \"10\", \"11\", \"12\", \"13\", \"14\", \"15\", \"16\", \"17\", \"18\", \"19\", \"20\", \"21\", \"22\", \"23\", \"24\", \"25\", \"26\"], \"mode\": \"markers\", \"name\": \"weighted_accuracy\", \"stepped\": false, \"type\": \"scatter\", \"data\": [0.8855230972009118, 0.9010651732108578, 0.9185855687334845, 0.9201190469243062, 0.6998069487077813, 0.693208329543415, 0.8894580139020427, 0.9050421348246303, 0.9191609257783657, 0.908353342778095, 0.9204934361748096, 0.8891247602624157, 0.9201190469243062, 0.9157811800224605, 0.8947691328502663, 0.9108726234603646, 0.9053358648664382, 0.9194598078780044, 0.868901079316277, 0.89574451606444, 0.9201190469243062, 0.9203124716574921, 0.9153575598370273, 0.9201190469243062, 0.8753684118749036, 0.9097135082034717, 0.9050646105728607]}, {\"categories\": [\"0\", \"1\", \"2\", \"3\", \"4\", \"5\", \"6\", \"7\", \"8\", \"9\", \"10\", \"11\", \"12\", \"13\", \"14\", \"15\", \"16\", \"17\", \"18\", \"19\", \"20\", \"21\", \"22\", \"23\", \"24\", \"25\", \"26\"], \"mode\": \"lines\", \"name\": \"weighted_accuracy_max\", \"stepped\": true, \"type\": \"scatter\", \"data\": [0.8855230972009118, 0.9010651732108578, 0.9185855687334845, 0.9201190469243062, 0.9201190469243062, 0.9201190469243062, 0.9201190469243062, 0.9201190469243062, 0.9201190469243062, 0.9201190469243062, 0.9204934361748096, 0.9204934361748096, 0.9204934361748096, 0.9204934361748096, 0.9204934361748096, 0.9204934361748096, 0.9204934361748096, 0.9204934361748096, 0.9204934361748096, 0.9204934361748096, 0.9204934361748096, 0.9204934361748096, 0.9204934361748096, 0.9204934361748096, 0.9204934361748096, 0.9204934361748096, 0.9204934361748096]}], \"f1_score_macro\": [{\"categories\": [\"0\", \"1\", \"2\", \"3\", \"4\", \"5\", \"6\", \"7\", \"8\", \"9\", \"10\", \"11\", \"12\", \"13\", \"14\", \"15\", \"16\", \"17\", \"18\", \"19\", \"20\", \"21\", \"22\", \"23\", \"24\", \"25\", \"26\"], \"mode\": \"markers\", \"name\": \"f1_score_macro\", \"stepped\": false, \"type\": \"scatter\", \"data\": [0.6024016851844738, 0.5864937438846892, 0.4541656502207215, 0.435848788449692, 0.6186188449006347, 0.6157428827054501, 0.579624058454474, 0.5706590289452738, 0.4582480367683895, 0.5535915165106344, 0.4406824270912246, 0.5831352590052405, 0.435848788449692, 0.4876119583296298, 0.5751186718220681, 0.5202161291723937, 0.5590624855688087, 0.44557052542011866, 0.5922630329148645, 0.5824063140927265, 0.435848788449692, 0.4590572448626372, 0.4895321775983275, 0.435848788449692, 0.5657413227870978, 0.5731269116830224, 0.5790886476397289]}, {\"categories\": [\"0\", \"1\", \"2\", \"3\", \"4\", \"5\", \"6\", \"7\", \"8\", \"9\", \"10\", \"11\", \"12\", \"13\", \"14\", \"15\", \"16\", \"17\", \"18\", \"19\", \"20\", \"21\", \"22\", \"23\", \"24\", \"25\", \"26\"], \"mode\": \"lines\", \"name\": \"f1_score_macro_max\", \"stepped\": true, \"type\": \"scatter\", \"data\": [0.6024016851844738, 0.6024016851844738, 0.6024016851844738, 0.6024016851844738, 0.6186188449006347, 0.6186188449006347, 0.6186188449006347, 0.6186188449006347, 0.6186188449006347, 0.6186188449006347, 0.6186188449006347, 0.6186188449006347, 0.6186188449006347, 0.6186188449006347, 0.6186188449006347, 0.6186188449006347, 0.6186188449006347, 0.6186188449006347, 0.6186188449006347, 0.6186188449006347, 0.6186188449006347, 0.6186188449006347, 0.6186188449006347, 0.6186188449006347, 0.6186188449006347, 0.6186188449006347, 0.6186188449006347]}], \"AUC_micro\": [{\"categories\": [\"0\", \"1\", \"2\", \"3\", \"4\", \"5\", \"6\", \"7\", \"8\", \"9\", \"10\", \"11\", \"12\", \"13\", \"14\", \"15\", \"16\", \"17\", \"18\", \"19\", \"20\", \"21\", \"22\", \"23\", \"24\", \"25\", \"26\"], \"mode\": \"markers\", \"name\": \"AUC_micro\", \"stepped\": false, \"type\": \"scatter\", \"data\": [0.8386236182655008, 0.8506812952239523, 0.8440469961533381, 0.8432458193618215, 0.7352841802103344, 0.7220786191517383, 0.8342230266716679, 0.8492368723786667, 0.8323780264225673, 0.8462080028387887, 0.8470659269540741, 0.8344647276769283, 0.8442028457643309, 0.8403881648245288, 0.8441636620667322, 0.8455397933774172, 0.8480183852129148, 0.8389354900386974, 0.8250950583244312, 0.8501379260556856, 0.8301388389949488, 0.8469751210148143, 0.8453964412146022, 0.8440316748630176, 0.8266480460596303, 0.8516387033419163, 0.8505636060900889]}, {\"categories\": [\"0\", \"1\", \"2\", \"3\", \"4\", \"5\", \"6\", \"7\", \"8\", \"9\", \"10\", \"11\", \"12\", \"13\", \"14\", \"15\", \"16\", \"17\", \"18\", \"19\", \"20\", \"21\", \"22\", \"23\", \"24\", \"25\", \"26\"], \"mode\": \"lines\", \"name\": \"AUC_micro_max\", \"stepped\": true, \"type\": \"scatter\", \"data\": [0.8386236182655008, 0.8506812952239523, 0.8506812952239523, 0.8506812952239523, 0.8506812952239523, 0.8506812952239523, 0.8506812952239523, 0.8506812952239523, 0.8506812952239523, 0.8506812952239523, 0.8506812952239523, 0.8506812952239523, 0.8506812952239523, 0.8506812952239523, 0.8506812952239523, 0.8506812952239523, 0.8506812952239523, 0.8506812952239523, 0.8506812952239523, 0.8506812952239523, 0.8506812952239523, 0.8506812952239523, 0.8506812952239523, 0.8506812952239523, 0.8506812952239523, 0.8516387033419163, 0.8516387033419163]}], \"precision_score_micro\": [{\"categories\": [\"0\", \"1\", \"2\", \"3\", \"4\", \"5\", \"6\", \"7\", \"8\", \"9\", \"10\", \"11\", \"12\", \"13\", \"14\", \"15\", \"16\", \"17\", \"18\", \"19\", \"20\", \"21\", \"22\", \"23\", \"24\", \"25\", \"26\"], \"mode\": \"markers\", \"name\": \"precision_score_micro\", \"stepped\": false, \"type\": \"scatter\", \"data\": [0.7823025164227972, 0.7882966261824462, 0.7745480935242145, 0.7726087423253428, 0.6834107632562711, 0.6786505375863136, 0.7787769203167569, 0.7872379285358588, 0.7754289955679071, 0.7856508139087599, 0.7736665702520001, 0.7794825116716415, 0.7726087423253428, 0.7778971364844033, 0.7812449369875486, 0.7805405880897074, 0.7847709058307017, 0.7736665702520001, 0.7687284247334432, 0.7837134506411576, 0.7726087423253428, 0.7764865750031558, 0.7778956455359511, 0.7726087423253428, 0.7657319910821404, 0.7909400777877506, 0.7891776524718433]}, {\"categories\": [\"0\", \"1\", \"2\", \"3\", \"4\", \"5\", \"6\", \"7\", \"8\", \"9\", \"10\", \"11\", \"12\", \"13\", \"14\", \"15\", \"16\", \"17\", \"18\", \"19\", \"20\", \"21\", \"22\", \"23\", \"24\", \"25\", \"26\"], \"mode\": \"lines\", \"name\": \"precision_score_micro_max\", \"stepped\": true, \"type\": \"scatter\", \"data\": [0.7823025164227972, 0.7882966261824462, 0.7882966261824462, 0.7882966261824462, 0.7882966261824462, 0.7882966261824462, 0.7882966261824462, 0.7882966261824462, 0.7882966261824462, 0.7882966261824462, 0.7882966261824462, 0.7882966261824462, 0.7882966261824462, 0.7882966261824462, 0.7882966261824462, 0.7882966261824462, 0.7882966261824462, 0.7882966261824462, 0.7882966261824462, 0.7882966261824462, 0.7882966261824462, 0.7882966261824462, 0.7882966261824462, 0.7882966261824462, 0.7882966261824462, 0.7909400777877506, 0.7909400777877506]}], \"average_precision_score_micro\": [{\"categories\": [\"0\", \"1\", \"2\", \"3\", \"4\", \"5\", \"6\", \"7\", \"8\", \"9\", \"10\", \"11\", \"12\", \"13\", \"14\", \"15\", \"16\", \"17\", \"18\", \"19\", \"20\", \"21\", \"22\", \"23\", \"24\", \"25\", \"26\"], \"mode\": \"markers\", \"name\": \"average_precision_score_micro\", \"stepped\": false, \"type\": \"scatter\", \"data\": [0.82481605286605, 0.838153206473498, 0.8286824903443761, 0.8281890337049633, 0.7161048807312532, 0.6923402318388283, 0.817536163508795, 0.8383660694717192, 0.806118098900034, 0.8301806634943582, 0.8347616759712179, 0.8164414752899074, 0.8295786265210878, 0.8187103900472903, 0.8307946839056171, 0.831816153026446, 0.8338261587007656, 0.8182642393750448, 0.8081640496948848, 0.8384856822033411, 0.8161258696266787, 0.8340532032897581, 0.8328927387035411, 0.8314473607264481, 0.8134926390837459, 0.8409115903972506, 0.8395603856976475]}, {\"categories\": [\"0\", \"1\", \"2\", \"3\", \"4\", \"5\", \"6\", \"7\", \"8\", \"9\", \"10\", \"11\", \"12\", \"13\", \"14\", \"15\", \"16\", \"17\", \"18\", \"19\", \"20\", \"21\", \"22\", \"23\", \"24\", \"25\", \"26\"], \"mode\": \"lines\", \"name\": \"average_precision_score_micro_max\", \"stepped\": true, \"type\": \"scatter\", \"data\": [0.82481605286605, 0.838153206473498, 0.838153206473498, 0.838153206473498, 0.838153206473498, 0.838153206473498, 0.838153206473498, 0.8383660694717192, 0.8383660694717192, 0.8383660694717192, 0.8383660694717192, 0.8383660694717192, 0.8383660694717192, 0.8383660694717192, 0.8383660694717192, 0.8383660694717192, 0.8383660694717192, 0.8383660694717192, 0.8383660694717192, 0.8384856822033411, 0.8384856822033411, 0.8384856822033411, 0.8384856822033411, 0.8384856822033411, 0.8384856822033411, 0.8409115903972506, 0.8409115903972506]}], \"precision_score_macro\": [{\"categories\": [\"0\", \"1\", \"2\", \"3\", \"4\", \"5\", \"6\", \"7\", \"8\", \"9\", \"10\", \"11\", \"12\", \"13\", \"14\", \"15\", \"16\", \"17\", \"18\", \"19\", \"20\", \"21\", \"22\", \"23\", \"24\", \"25\", \"26\"], \"mode\": \"markers\", \"name\": \"precision_score_macro\", \"stepped\": false, \"type\": \"scatter\", \"data\": [0.6785926776965785, 0.7038846405285383, 0.5117134988407731, 0.3863043711626714, 0.6166021594995434, 0.6148133505214858, 0.6691105916711555, 0.7064133820886463, 0.7400462363449039, 0.7076740601019177, 0.6367131454491064, 0.6707073804488927, 0.3863043711626714, 0.7035785367565668, 0.6779172468112118, 0.7084506997776217, 0.7011528175163886, 0.5884432648896218, 0.6443548252878037, 0.6863107083056886, 0.3863043711626714, 0.7797557712083463, 0.703949245240511, 0.3863043711626714, 0.6322735544176523, 0.7279312185787938, 0.7131760861010163]}, {\"categories\": [\"0\", \"1\", \"2\", \"3\", \"4\", \"5\", \"6\", \"7\", \"8\", \"9\", \"10\", \"11\", \"12\", \"13\", \"14\", \"15\", \"16\", \"17\", \"18\", \"19\", \"20\", \"21\", \"22\", \"23\", \"24\", \"25\", \"26\"], \"mode\": \"lines\", \"name\": \"precision_score_macro_max\", \"stepped\": true, \"type\": \"scatter\", \"data\": [0.6785926776965785, 0.7038846405285383, 0.7038846405285383, 0.7038846405285383, 0.7038846405285383, 0.7038846405285383, 0.7038846405285383, 0.7064133820886463, 0.7400462363449039, 0.7400462363449039, 0.7400462363449039, 0.7400462363449039, 0.7400462363449039, 0.7400462363449039, 0.7400462363449039, 0.7400462363449039, 0.7400462363449039, 0.7400462363449039, 0.7400462363449039, 0.7400462363449039, 0.7400462363449039, 0.7797557712083463, 0.7797557712083463, 0.7797557712083463, 0.7797557712083463, 0.7797557712083463, 0.7797557712083463]}], \"average_precision_score_macro\": [{\"categories\": [\"0\", \"1\", \"2\", \"3\", \"4\", \"5\", \"6\", \"7\", \"8\", \"9\", \"10\", \"11\", \"12\", \"13\", \"14\", \"15\", \"16\", \"17\", \"18\", \"19\", \"20\", \"21\", \"22\", \"23\", \"24\", \"25\", \"26\"], \"mode\": \"markers\", \"name\": \"average_precision_score_macro\", \"stepped\": false, \"type\": \"scatter\", \"data\": [0.6465368345547233, 0.6675272809376565, 0.6480137999263034, 0.6468974013074176, 0.6555859185889028, 0.6483660174104712, 0.6326199906559243, 0.6655766199578004, 0.6155033497411382, 0.6613473150767575, 0.6662960967717322, 0.633787696924341, 0.6428385877354785, 0.6411623365681312, 0.6534673180037993, 0.6558283293429121, 0.662234155869873, 0.6295244093224693, 0.6212073817172233, 0.6668934776510441, 0.6186426173824503, 0.6640427385258212, 0.6568252881186762, 0.6490573814473855, 0.6192613174748982, 0.6710320644932348, 0.6690260285501829]}, {\"categories\": [\"0\", \"1\", \"2\", \"3\", \"4\", \"5\", \"6\", \"7\", \"8\", \"9\", \"10\", \"11\", \"12\", \"13\", \"14\", \"15\", \"16\", \"17\", \"18\", \"19\", \"20\", \"21\", \"22\", \"23\", \"24\", \"25\", \"26\"], \"mode\": \"lines\", \"name\": \"average_precision_score_macro_max\", \"stepped\": true, \"type\": \"scatter\", \"data\": [0.6465368345547233, 0.6675272809376565, 0.6675272809376565, 0.6675272809376565, 0.6675272809376565, 0.6675272809376565, 0.6675272809376565, 0.6675272809376565, 0.6675272809376565, 0.6675272809376565, 0.6675272809376565, 0.6675272809376565, 0.6675272809376565, 0.6675272809376565, 0.6675272809376565, 0.6675272809376565, 0.6675272809376565, 0.6675272809376565, 0.6675272809376565, 0.6675272809376565, 0.6675272809376565, 0.6675272809376565, 0.6675272809376565, 0.6675272809376565, 0.6675272809376565, 0.6710320644932348, 0.6710320644932348]}], \"f1_score_weighted\": [{\"categories\": [\"0\", \"1\", \"2\", \"3\", \"4\", \"5\", \"6\", \"7\", \"8\", \"9\", \"10\", \"11\", \"12\", \"13\", \"14\", \"15\", \"16\", \"17\", \"18\", \"19\", \"20\", \"21\", \"22\", \"23\", \"24\", \"25\", \"26\"], \"mode\": \"markers\", \"name\": \"f1_score_weighted\", \"stepped\": false, \"type\": \"scatter\", \"data\": [0.7483233455699422, 0.7440315246416208, 0.6822059289457388, 0.6735199077513018, 0.7042957221368047, 0.7005447823879614, 0.7374625825184544, 0.7370904881756779, 0.6841695674950088, 0.7293081172017045, 0.6760156192220583, 0.7392343639505301, 0.6735199077513018, 0.6979889918860187, 0.7365770095396842, 0.7127507971066653, 0.7311861820250579, 0.6781589246885013, 0.738581180611692, 0.7405013221635949, 0.6735199077513018, 0.6850645744217049, 0.6988469506148929, 0.6735199077513018, 0.7264302787846018, 0.7394731339203835, 0.7412164486364441]}, {\"categories\": [\"0\", \"1\", \"2\", \"3\", \"4\", \"5\", \"6\", \"7\", \"8\", \"9\", \"10\", \"11\", \"12\", \"13\", \"14\", \"15\", \"16\", \"17\", \"18\", \"19\", \"20\", \"21\", \"22\", \"23\", \"24\", \"25\", \"26\"], \"mode\": \"lines\", \"name\": \"f1_score_weighted_max\", \"stepped\": true, \"type\": \"scatter\", \"data\": [0.7483233455699422, 0.7483233455699422, 0.7483233455699422, 0.7483233455699422, 0.7483233455699422, 0.7483233455699422, 0.7483233455699422, 0.7483233455699422, 0.7483233455699422, 0.7483233455699422, 0.7483233455699422, 0.7483233455699422, 0.7483233455699422, 0.7483233455699422, 0.7483233455699422, 0.7483233455699422, 0.7483233455699422, 0.7483233455699422, 0.7483233455699422, 0.7483233455699422, 0.7483233455699422, 0.7483233455699422, 0.7483233455699422, 0.7483233455699422, 0.7483233455699422, 0.7483233455699422, 0.7483233455699422]}], \"balanced_accuracy\": [{\"categories\": [\"0\", \"1\", \"2\", \"3\", \"4\", \"5\", \"6\", \"7\", \"8\", \"9\", \"10\", \"11\", \"12\", \"13\", \"14\", \"15\", \"16\", \"17\", \"18\", \"19\", \"20\", \"21\", \"22\", \"23\", \"24\", \"25\", \"26\"], \"mode\": \"markers\", \"name\": \"balanced_accuracy\", \"stepped\": false, \"type\": \"scatter\", \"data\": [0.591361612728577, 0.5798513415204641, 0.5083155740707154, 0.5, 0.6527873538633894, 0.6519188133948552, 0.574236409722088, 0.5693283746735187, 0.5099113108752417, 0.5586826501792141, 0.5023100664767332, 0.5767960803563676, 0.5, 0.5229969161347434, 0.5713432210339346, 0.5398473403376122, 0.5618154656940066, 0.5042018252211908, 0.5836068091169864, 0.5766659912628505, 0.5, 0.5106431786937957, 0.5238028595369455, 0.5, 0.5631134367167892, 0.5713538740253968, 0.5750763469025892]}, {\"categories\": [\"0\", \"1\", \"2\", \"3\", \"4\", \"5\", \"6\", \"7\", \"8\", \"9\", \"10\", \"11\", \"12\", \"13\", \"14\", \"15\", \"16\", \"17\", \"18\", \"19\", \"20\", \"21\", \"22\", \"23\", \"24\", \"25\", \"26\"], \"mode\": \"lines\", \"name\": \"balanced_accuracy_max\", \"stepped\": true, \"type\": \"scatter\", \"data\": [0.591361612728577, 0.591361612728577, 0.591361612728577, 0.591361612728577, 0.6527873538633894, 0.6527873538633894, 0.6527873538633894, 0.6527873538633894, 0.6527873538633894, 0.6527873538633894, 0.6527873538633894, 0.6527873538633894, 0.6527873538633894, 0.6527873538633894, 0.6527873538633894, 0.6527873538633894, 0.6527873538633894, 0.6527873538633894, 0.6527873538633894, 0.6527873538633894, 0.6527873538633894, 0.6527873538633894, 0.6527873538633894, 0.6527873538633894, 0.6527873538633894, 0.6527873538633894, 0.6527873538633894]}]}, \"metricName\": null, \"primaryMetricName\": \"accuracy\", \"showLegend\": false}, \"run_metrics\": [{\"name\": \"experiment_status\", \"run_id\": \"AutoML_6725d1ca-3db3-4e35-ad53-123dd00d0ff6\", \"categories\": [0, 1, 2, 3, 4, 5, 6, 7, 8, 9, 10, 11, 12, 13], \"series\": [{\"data\": [\"DatasetEvaluation\", \"FeaturesGeneration\", \"DatasetFeaturization\", \"DatasetFeaturizationCompleted\", \"DatasetCrossValidationSplit\", \"ModelSelection\", \"BestRunExplainModel\", \"ModelExplanationDataSetSetup\", \"PickSurrogateModel\", \"EngineeredFeatureExplanations\", \"EngineeredFeatureExplanations\", \"RawFeaturesExplanations\", \"RawFeaturesExplanations\", \"BestRunExplainModel\"]}]}, {\"name\": \"experiment_status_description\", \"run_id\": \"AutoML_6725d1ca-3db3-4e35-ad53-123dd00d0ff6\", \"categories\": [0, 1, 2, 3, 4, 5, 6, 7, 8, 9, 10, 11, 12, 13], \"series\": [{\"data\": [\"Gathering dataset statistics.\", \"Generating features for the dataset.\", \"Beginning to fit featurizers and featurize the dataset.\", \"Completed fit featurizers and featurizing the dataset.\", \"Generating individually featurized CV splits.\", \"Beginning model selection.\", \"Best run model explanations started\", \"Model explanations data setup completed\", \"Choosing LightGBM as the surrogate model for explanations\", \"Computation of engineered features started\", \"Computation of engineered features completed\", \"Computation of raw features started\", \"Computation of raw features completed\", \"Best run model explanations completed\"]}]}, {\"name\": \"norm_macro_recall\", \"run_id\": \"AutoML_6725d1ca-3db3-4e35-ad53-123dd00d0ff6\", \"categories\": [0], \"series\": [{\"data\": [0.14270774805079367]}]}, {\"name\": \"f1_score_macro\", \"run_id\": \"AutoML_6725d1ca-3db3-4e35-ad53-123dd00d0ff6\", \"categories\": [0], \"series\": [{\"data\": [0.5731269116830224]}]}, {\"name\": \"log_loss\", \"run_id\": \"AutoML_6725d1ca-3db3-4e35-ad53-123dd00d0ff6\", \"categories\": [0], \"series\": [{\"data\": [0.4784115207338631]}]}, {\"name\": \"average_precision_score_macro\", \"run_id\": \"AutoML_6725d1ca-3db3-4e35-ad53-123dd00d0ff6\", \"categories\": [0], \"series\": [{\"data\": [0.6710320644932348]}]}, {\"name\": \"recall_score_micro\", \"run_id\": \"AutoML_6725d1ca-3db3-4e35-ad53-123dd00d0ff6\", \"categories\": [0], \"series\": [{\"data\": [0.7909400777877506]}]}, {\"name\": \"AUC_micro\", \"run_id\": \"AutoML_6725d1ca-3db3-4e35-ad53-123dd00d0ff6\", \"categories\": [0], \"series\": [{\"data\": [0.8516387033419163]}]}, {\"name\": \"recall_score_macro\", \"run_id\": \"AutoML_6725d1ca-3db3-4e35-ad53-123dd00d0ff6\", \"categories\": [0], \"series\": [{\"data\": [0.5713538740253968]}]}, {\"name\": \"precision_score_weighted\", \"run_id\": \"AutoML_6725d1ca-3db3-4e35-ad53-123dd00d0ff6\", \"categories\": [0], \"series\": [{\"data\": [0.7670236959255224]}]}, {\"name\": \"balanced_accuracy\", \"run_id\": \"AutoML_6725d1ca-3db3-4e35-ad53-123dd00d0ff6\", \"categories\": [0], \"series\": [{\"data\": [0.5713538740253968]}]}, {\"name\": \"AUC_weighted\", \"run_id\": \"AutoML_6725d1ca-3db3-4e35-ad53-123dd00d0ff6\", \"categories\": [0], \"series\": [{\"data\": [0.7203179792449907]}]}, {\"name\": \"accuracy\", \"run_id\": \"AutoML_6725d1ca-3db3-4e35-ad53-123dd00d0ff6\", \"categories\": [0], \"series\": [{\"data\": [0.7909400777877506]}]}, {\"name\": \"AUC_macro\", \"run_id\": \"AutoML_6725d1ca-3db3-4e35-ad53-123dd00d0ff6\", \"categories\": [0], \"series\": [{\"data\": [0.7203179792449905]}]}, {\"name\": \"average_precision_score_micro\", \"run_id\": \"AutoML_6725d1ca-3db3-4e35-ad53-123dd00d0ff6\", \"categories\": [0], \"series\": [{\"data\": [0.8409115903972506]}]}, {\"name\": \"recall_score_weighted\", \"run_id\": \"AutoML_6725d1ca-3db3-4e35-ad53-123dd00d0ff6\", \"categories\": [0], \"series\": [{\"data\": [0.7909400777877506]}]}, {\"name\": \"f1_score_micro\", \"run_id\": \"AutoML_6725d1ca-3db3-4e35-ad53-123dd00d0ff6\", \"categories\": [0], \"series\": [{\"data\": [0.7909400777877506]}]}, {\"name\": \"f1_score_weighted\", \"run_id\": \"AutoML_6725d1ca-3db3-4e35-ad53-123dd00d0ff6\", \"categories\": [0], \"series\": [{\"data\": [0.7394731339203835]}]}, {\"name\": \"matthews_correlation\", \"run_id\": \"AutoML_6725d1ca-3db3-4e35-ad53-123dd00d0ff6\", \"categories\": [0], \"series\": [{\"data\": [0.2549147589951364]}]}, {\"name\": \"precision_score_macro\", \"run_id\": \"AutoML_6725d1ca-3db3-4e35-ad53-123dd00d0ff6\", \"categories\": [0], \"series\": [{\"data\": [0.7279312185787938]}]}, {\"name\": \"average_precision_score_weighted\", \"run_id\": \"AutoML_6725d1ca-3db3-4e35-ad53-123dd00d0ff6\", \"categories\": [0], \"series\": [{\"data\": [0.7882754581488892]}]}, {\"name\": \"weighted_accuracy\", \"run_id\": \"AutoML_6725d1ca-3db3-4e35-ad53-123dd00d0ff6\", \"categories\": [0], \"series\": [{\"data\": [0.9097135082034717]}]}, {\"name\": \"precision_score_micro\", \"run_id\": \"AutoML_6725d1ca-3db3-4e35-ad53-123dd00d0ff6\", \"categories\": [0], \"series\": [{\"data\": [0.7909400777877506]}]}], \"run_logs\": \"\\nRun is completed.\", \"graph\": {}, \"widget_settings\": {\"childWidgetDisplay\": \"popup\", \"send_telemetry\": false, \"log_level\": \"INFO\", \"sdk_version\": \"1.20.0\"}, \"loading\": false}"
          },
          "metadata": {}
        }
      ],
      "execution_count": 15,
      "metadata": {
        "gather": {
          "logged": 1611892059352
        },
        "jupyter": {
          "outputs_hidden": false,
          "source_hidden": false
        },
        "nteract": {
          "transient": {
            "deleting": false
          }
        }
      }
    },
    {
      "cell_type": "markdown",
      "source": [
        "## Best Model\n",
        "\n",
        "TODO: In the cell below, get the best model from the automl experiments and display all the properties of the model.\n",
        "\n"
      ],
      "metadata": {}
    },
    {
      "cell_type": "code",
      "source": [
        "from azureml.core.run import Run\n",
        "#Getting best run\n",
        "best_run, fitted_model=remote_run.get_output()\n",
        "print(best_run)\n",
        "print(fitted_model)\n",
        "best_run.get_tags()\n",
        "print(best_run.properties['model_name'])"
      ],
      "outputs": [
        {
          "output_type": "stream",
          "name": "stdout",
          "text": [
            "Run(Experiment: Automl,\n",
            "Id: AutoML_6725d1ca-3db3-4e35-ad53-123dd00d0ff6_25,\n",
            "Type: azureml.scriptrun,\n",
            "Status: Completed)\n",
            "Pipeline(memory=None,\n",
            "         steps=[('datatransformer',\n",
            "                 DataTransformer(enable_dnn=None, enable_feature_sweeping=None,\n",
            "                                 feature_sweeping_config=None,\n",
            "                                 feature_sweeping_timeout=None,\n",
            "                                 featurization_config=None, force_text_dnn=None,\n",
            "                                 is_cross_validation=None,\n",
            "                                 is_onnx_compatible=None, logger=None,\n",
            "                                 observer=None, task=None, working_dir=None)),\n",
            "                ('prefittedsoftvotingclassifier',...\n",
            "                                                                                                  min_samples_split=0.33789473684210525,\n",
            "                                                                                                  min_weight_fraction_leaf=0.0,\n",
            "                                                                                                  n_estimators=200,\n",
            "                                                                                                  n_jobs=1,\n",
            "                                                                                                  oob_score=False,\n",
            "                                                                                                  random_state=None,\n",
            "                                                                                                  verbose=0,\n",
            "                                                                                                  warm_start=False))],\n",
            "                                                                     verbose=False))],\n",
            "                                               flatten_transform=None,\n",
            "                                               weights=[0.26666666666666666,\n",
            "                                                        0.13333333333333333,\n",
            "                                                        0.13333333333333333,\n",
            "                                                        0.13333333333333333,\n",
            "                                                        0.13333333333333333,\n",
            "                                                        0.13333333333333333,\n",
            "                                                        0.06666666666666667]))],\n",
            "         verbose=False)\n",
            "AutoML6725d1ca325\n"
          ]
        }
      ],
      "execution_count": 14,
      "metadata": {
        "gather": {
          "logged": 1611889142061
        },
        "jupyter": {
          "outputs_hidden": false,
          "source_hidden": false
        },
        "nteract": {
          "transient": {
            "deleting": false
          }
        }
      }
    },
    {
      "cell_type": "code",
      "source": [
        "#TODO: Save the best model\n",
        "import joblib\n",
        "os.makdirs"
      ],
      "outputs": [],
      "execution_count": null,
      "metadata": {
        "gather": {
          "logged": 1598431426111
        },
        "jupyter": {
          "outputs_hidden": false,
          "source_hidden": false
        },
        "nteract": {
          "transient": {
            "deleting": false
          }
        }
      }
    },
    {
      "cell_type": "markdown",
      "source": [
        "## Model Deployment\n",
        "\n",
        "Remember you have to deploy only one of the two models you trained.. Perform the steps in the rest of this notebook only if you wish to deploy this model.\n",
        "\n",
        "TODO: In the cell below, register the model, create an inference config and deploy the model as a web service."
      ],
      "metadata": {}
    },
    {
      "cell_type": "code",
      "source": [],
      "outputs": [],
      "execution_count": null,
      "metadata": {
        "gather": {
          "logged": 1598431435189
        },
        "jupyter": {
          "outputs_hidden": false,
          "source_hidden": false
        },
        "nteract": {
          "transient": {
            "deleting": false
          }
        }
      }
    },
    {
      "cell_type": "code",
      "source": [],
      "outputs": [],
      "execution_count": null,
      "metadata": {}
    },
    {
      "cell_type": "markdown",
      "source": [
        "TODO: In the cell below, send a request to the web service you deployed to test it."
      ],
      "metadata": {
        "collapsed": true,
        "gather": {
          "logged": 1598431657736
        },
        "jupyter": {
          "outputs_hidden": false,
          "source_hidden": false
        },
        "nteract": {
          "transient": {
            "deleting": false
          }
        }
      }
    },
    {
      "cell_type": "code",
      "source": [],
      "outputs": [],
      "execution_count": null,
      "metadata": {
        "gather": {
          "logged": 1598432707604
        },
        "jupyter": {
          "outputs_hidden": false,
          "source_hidden": false
        },
        "nteract": {
          "transient": {
            "deleting": false
          }
        }
      }
    },
    {
      "cell_type": "code",
      "source": [],
      "outputs": [],
      "execution_count": null,
      "metadata": {}
    },
    {
      "cell_type": "markdown",
      "source": [
        "TODO: In the cell below, print the logs of the web service and delete the service"
      ],
      "metadata": {
        "collapsed": true,
        "gather": {
          "logged": 1598432765711
        },
        "jupyter": {
          "outputs_hidden": false,
          "source_hidden": false
        },
        "nteract": {
          "transient": {
            "deleting": false
          }
        }
      }
    },
    {
      "cell_type": "code",
      "source": [
        "#Running predictions on sample data\n",
        "\n",
        "scoring_uri = aci_service.scoring_uri\n",
        "# If the service is authenticated, set the key or token\n",
        "primary,secondary = aci_service.get_keys()\n",
        "key = primary\n",
        "\n",
        "# Convert to JSON string\n",
        "x_test_json = x_test.to_json(orient='records')\n",
        "data = \"{\\\"data\\\": \" + x_test_json +\"}\"\n",
        "\n",
        "# Set the content type\n",
        "headers = {'Content-Type': 'application/json'}\n",
        "# If authentication is enabled, set the authorization header\n",
        "headers['Authorization'] = f'Bearer {key}'\n",
        "\n",
        "# Make the request and display the response\n",
        "resp = requests.post(scoring_uri, data, headers=headers)\n",
        "print(resp.text)\n",
        "#resp = requests.post(aci_service.scoring_uri, data, headers=headers)\n",
        "\n",
        "y_pred = json.loads(json.loads(resp.text))['result']"
      ],
      "outputs": [],
      "execution_count": null,
      "metadata": {
        "jupyter": {
          "outputs_hidden": false,
          "source_hidden": false
        },
        "nteract": {
          "transient": {
            "deleting": false
          }
        }
      }
    },
    {
      "cell_type": "code",
      "source": [
        "from sklearn.metrics import confusion_matrix\n",
        "\n",
        "matrix = confusion_matrix(test_y, y_pred)\n",
        "print(matrix)\n",
        "print('Overall accuracy of AutoML:', np.average(y_pred == test_y))"
      ],
      "outputs": [],
      "execution_count": null,
      "metadata": {}
    },
    {
      "cell_type": "code",
      "source": [
        "#Getting logs from ACI\n",
        "aci_service.get_logs()"
      ],
      "outputs": [],
      "execution_count": null,
      "metadata": {}
    },
    {
      "cell_type": "code",
      "source": [
        "aci_service.delete()"
      ],
      "outputs": [],
      "execution_count": null,
      "metadata": {}
    }
  ],
  "metadata": {
    "kernel_info": {
      "name": "python3"
    },
    "kernelspec": {
      "name": "python3",
      "language": "python",
      "display_name": "Python 3"
    },
    "language_info": {
      "name": "python",
      "version": "3.6.9",
      "mimetype": "text/x-python",
      "codemirror_mode": {
        "name": "ipython",
        "version": 3
      },
      "pygments_lexer": "ipython3",
      "nbconvert_exporter": "python",
      "file_extension": ".py"
    },
    "nteract": {
      "version": "nteract-front-end@1.0.0"
    }
  },
  "nbformat": 4,
  "nbformat_minor": 2
}